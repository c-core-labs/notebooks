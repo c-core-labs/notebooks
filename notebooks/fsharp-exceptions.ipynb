{
 "cells": [
  {
   "cell_type": "markdown",
   "metadata": {},
   "source": [
    "## Exploring exceptions in F#\n",
    "To install fsharp kernel in Jupyter, follow https://github.com/dotnet/interactive/blob/main/docs/NotebookswithJupyter.md"
   ]
  },
  {
   "cell_type": "markdown",
   "metadata": {},
   "source": [
    "## Utility for introspection\n",
    "Similar to Python's `dir()`\n",
    "Borrowed from http://www.fssnip.net/hm/title/The-dir-function-of-Python"
   ]
  },
  {
   "cell_type": "code",
   "execution_count": 13,
   "metadata": {},
   "outputs": [],
   "source": [
    "open System.Reflection\n",
    "\n",
    "let printw width =\n",
    "    let formatCode = sprintf \"%%%ds\" -width\n",
    "    printf <| Printf.TextWriterFormat<string -> unit, unit>(formatCode)\n",
    "    \n",
    "let printMembers header column (ms:string list) =\n",
    "    let printItems f =\n",
    "        let hasValue = not << System.String.IsNullOrWhiteSpace\n",
    "        if hasValue header then printfn \"[%s]\" header\n",
    "\n",
    "        List.iteri f ms\n",
    "        printf \"\\n\\n\"\n",
    "\n",
    "    match ms with\n",
    "    | [] -> ()\n",
    "    | _ when ms.Length <= column -> printItems (fun _ -> printf \"%s \")\n",
    "\n",
    "    | otherwize ->\n",
    "        let longest = ms |> List.maxBy (fun s -> s.Length)\n",
    "        let width = longest.Length + 1\n",
    "        printItems (fun i item ->\n",
    "            if i % column = 0 && i <> 0 then printf \"\\n\" ;\n",
    "            printw width item)\n",
    "\n",
    "let collectNames (ms:seq<#MemberInfo>) =\n",
    "    ms\n",
    "    |> Seq.map (fun m -> m.Name)\n",
    "    |> Set.ofSeq\n",
    "    |> Set.toList\n",
    "    |> List.sort\n",
    "\n",
    "let dirbase x =\n",
    "    let t = x.GetType()\n",
    "    t.GetMembers() |> collectNames\n",
    "\n",
    "let dir x =\n",
    "    let print header = collectNames >> printMembers header 3\n",
    "    let t = x.GetType()\n",
    "    t.GetMethods()    |> print \"Methods\"\n",
    "    t.GetProperties() |> print \"Properties\"\n",
    "    t.GetFields()     |> print \"Fields\""
   ]
  },
  {
   "cell_type": "markdown",
   "metadata": {},
   "source": [
    "## Simple function that returns an exception"
   ]
  },
  {
   "cell_type": "code",
   "execution_count": 14,
   "metadata": {},
   "outputs": [],
   "source": [
    "let division (x: int) (y: int): Result<int, Exception> =\n",
    "    try\n",
    "        let result = x / y\n",
    "        Ok result\n",
    "    with \n",
    "    | e -> Error e"
   ]
  },
  {
   "cell_type": "code",
   "execution_count": 15,
   "metadata": {},
   "outputs": [],
   "source": [
    "let result =  division 100 0"
   ]
  },
  {
   "cell_type": "markdown",
   "metadata": {},
   "source": [
    "## Exception is displayed in notebook"
   ]
  },
  {
   "cell_type": "code",
   "execution_count": 16,
   "metadata": {},
   "outputs": [
    {
     "data": {
      "text/html": [
       "<table><thead><tr><th>ResultValue</th><th>ErrorValue</th></tr></thead><tbody><tr><td><div class=\"dni-plaintext\">0</div></td><td><div class=\"dni-plaintext\">{ System.DivideByZeroException: Attempted to divide by zero.\n",
       "   at FSI_0017.division(Int32 x, Int32 y): TargetSite: { Microsoft.FSharp.Core.FSharpResult`2[System.Int32,System.Exception] division(Int32, Int32): Name: division, DeclaringType: FSI_0017, ReflectedType: FSI_0017, MemberType: Method, MetadataToken: 100663366, Module: { RefEmit_InMemoryManifestModule: MDStreamVersion: 131072, FullyQualifiedName: &lt;In Memory Module&gt;, ModuleVersionId: 97eb2652-058e-45c4-bae5-291d0c5d6b4b, MetadataToken: 1, ScopeName: RefEmit_InMemoryManifestModule, Name: &lt;In Memory Module&gt;, Assembly: { FSI-ASSEMBLY, Version=0.0.0.0, Culture=neutral, PublicKeyToken=null: Location: { System.NotSupportedException: The invoked member is not supported in a dynamic assembly.\n",
       "   at System.Reflection.Emit.InternalAssemblyBuilder.get_Location()\n",
       "   at lambda_method210(Closure , InternalAssemblyBuilder )\n",
       "   at Microsoft.DotNet.Interactive.Formatting.MemberAccessor`1.GetValueOrException(T instance) in D:\\a\\_work\\1\\s\\src\\Microsoft.DotNet.Interactive.Formatting\\MemberAccessor{T}.cs:line 57: TargetSite: { System.String get_Location(): Name: get_Location, DeclaringType: System.Reflection.Emit.InternalAssemblyBuilder, ReflectedType: System.Reflection.Emit.InternalAssemblyBuilder, MemberType: Method, MetadataToken: 100685432, Module: System.Private.CoreLib.dll, IsSecurityCritical: True, IsSecuritySafeCritical: False, IsSecurityTransparent: False, MethodHandle: System.RuntimeMethodHandle, Attributes: PrivateScope, Public, Virtual, HideBySig, SpecialName, CallingConvention: Standard, HasThis, ReturnType: System.String, ReturnTypeCustomAttributes: System.String, ReturnParameter: System.String, IsCollectible: False, IsGenericMethod: False, IsGenericMethodDefinition: False, ContainsGenericParameters: False, MethodImplementationFlags: Managed, .. }, Message: The invoked member is not supported in a dynamic assembly., Data: [  ], InnerException: &lt;null&gt;, HelpLink: &lt;null&gt;, Source: System.Private.CoreLib, HResult: -2146233067, StackTrace:    at System.Reflection.Emit.InternalAssemblyBuilder.get_Location()\n",
       "   at lambda_method210(Closure , InternalAssemblyBuilder )\n",
       "   at Microsoft.DotNet.Interactive.Formatting.MemberAccessor`1.GetValueOrException(T instance) in D:\\a\\_work\\1\\s\\src\\Microsoft.DotNet.Interactive.Formatting\\MemberAccessor{T}.cs:line 57 }, CodeBase: { System.NotSupportedException: The invoked member is not supported in a dynamic assembly.\n",
       "   at System.Reflection.Emit.InternalAssemblyBuilder.get_CodeBase()\n",
       "   at lambda_method211(Closure , InternalAssemblyBuilder )\n",
       "   at Microsoft.DotNet.Interactive.Formatting.MemberAccessor`1.GetValueOrException(T instance) in D:\\a\\_work\\1\\s\\src\\Microsoft.DotNet.Interactive.Formatting\\MemberAccessor{T}.cs:line 57: TargetSite: { System.String get_CodeBase(): Name: get_CodeBase, DeclaringType: System.Reflection.Emit.InternalAssemblyBuilder, ReflectedType: System.Reflection.Emit.InternalAssemblyBuilder, MemberType: Method, MetadataToken: 100685433, Module: System.Private.CoreLib.dll, IsSecurityCritical: True, IsSecuritySafeCritical: False, IsSecurityTransparent: False, MethodHandle: System.RuntimeMethodHandle, Attributes: PrivateScope, Public, Virtual, HideBySig, SpecialName, CallingConvention: Standard, HasThis, ReturnType: System.String, ReturnTypeCustomAttributes: System.String, ReturnParameter: System.String, IsCollectible: False, IsGenericMethod: False, IsGenericMethodDefinition: False, ContainsGenericParameters: False, MethodImplementationFlags: Managed, .. }, Message: The invoked member is not supported in a dynamic assembly., Data: [  ], InnerException: &lt;null&gt;, HelpLink: &lt;null&gt;, Source: System.Private.CoreLib, HResult: -2146233067, StackTrace:    at System.Reflection.Emit.InternalAssemblyBuilder.get_CodeBase()\n",
       "   at lambda_method211(Closure , InternalAssemblyBuilder )\n",
       "   at Microsoft.DotNet.Interactive.Formatting.MemberAccessor`1.GetValueOrException(T instance) in D:\\a\\_work\\1\\s\\src\\Microsoft.DotNet.Interactive.Formatting\\MemberAccessor{T}.cs:line 57 }, ImageRuntimeVersion: v4.0.30319, FullName: FSI-ASSEMBLY, Version=0.0.0.0, Culture=neutral, PublicKeyToken=null, EntryPoint: &lt;null&gt;, DefinedTypes: [ FSI_0001, &lt;StartupCode$FSI_0001&gt;.$FSI_0001, FSI_0002, &lt;StartupCode$FSI_0002&gt;.$FSI_0002, FSI_0003, &lt;StartupCode$FSI_0003&gt;.$FSI_0003, FSI_0004, &lt;StartupCode$FSI_0004&gt;.$FSI_0004, FSI_0005, FSI_0005+printMembers@17-1, FSI_0005+printMembers@17, FSI_0005+printMembers@22-2, FSI_0005+collectNames@28, FSI_0005+print@38-2, FSI_0005+print@38-1, FSI_0005+print@38-3, &lt;StartupCode$FSI_0005&gt;.$FSI_0005, FSI_0006, &lt;StartupCode$FSI_0006&gt;.$FSI_0006, FSI_0011 ... (20 more) ], IsCollectible: False, ManifestModule: { RefEmit_InMemoryManifestModule: MDStreamVersion: 131072, FullyQualifiedName: &lt;In Memory Module&gt;, ModuleVersionId: 97eb2652-058e-45c4-bae5-291d0c5d6b4b, MetadataToken: 1, ScopeName: RefEmit_InMemoryManifestModule, Name: &lt;In Memory Module&gt;, Assembly: { FSI-ASSEMBLY, Version=0.0.0.0, Culture=neutral, PublicKeyToken=null: Location: System.NotSupportedException: The invoked member is not supported in a dynamic assembly.\n",
       "   at System.Reflection.Emit.InternalAssemblyBuilder.get_Location()\n",
       "   at lambda_method210(Closure , InternalAssemblyBuilder )\n",
       "   at Microsoft.DotNet.Interactive.Formatting.MemberAccessor`1.GetValueOrException(T instance) in D:\\a\\_work\\1\\s\\src\\Microsoft.DotNet.Interactive.Formatting\\MemberAccessor{T}.cs:line 57, CodeBase: System.NotSupportedException: The invoked member is not supported in a dynamic assembly.\n",
       "   at System.Reflection.Emit.InternalAssemblyBuilder.get_CodeBase()\n",
       "   at lambda_method211(Closure , InternalAssemblyBuilder )\n",
       "   at Microsoft.DotNet.Interactive.Formatting.MemberAccessor`1.GetValueOrException(T instance) in D:\\a\\_work\\1\\s\\src\\Microsoft.DotNet.Interactive.Formatting\\MemberAccessor{T}.cs:line 57, ImageRuntimeVersion: v4.0.30319, FullName: FSI-ASSEMBLY, Version=0.0.0.0, Culture=neutral, PublicKeyToken=null, EntryPoint: &lt;null&gt;, DefinedTypes: [ FSI_0001, &lt;StartupCode$FSI_0001&gt;.$FSI_0001, FSI_0002, &lt;StartupCode$FSI_0002&gt;.$FSI_0002, FSI_0003, &lt;StartupCode$FSI_0003&gt;.$FSI_0003, FSI_0004, &lt;StartupCode$FSI_0004&gt;.$FSI_0004, FSI_0005, FSI_0005+printMembers@17-1, FSI_0005+printMembers@17, FSI_0005+printMembers@22-2, FSI_0005+collectNames@28[a], FSI_0005+print@38-2[b], FSI_0005+print@38-1, FSI_0005+print@38-3[b], &lt;StartupCode$FSI_0005&gt;.$FSI_0005, FSI_0006, &lt;StartupCode$FSI_0006&gt;.$FSI_0006, FSI_0011 ... (20 more) ], IsCollectible: False, ManifestModule: RefEmit_InMemoryManifestModule, ReflectionOnly: False, GlobalAssemblyCache: False, HostContext: 0, IsDynamic: True, ExportedTypes: System.NotSupportedException: The invoked member is not supported in a dynamic assembly.\n",
       "   at System.Reflection.Emit.InternalAssemblyBuilder.GetExportedTypes()\n",
       "   at lambda_method222(Closure , InternalAssemblyBuilder )\n",
       "   at Microsoft.DotNet.Interactive.Formatting.MemberAccessor`1.GetValueOrException(T instance) in D:\\a\\_work\\1\\s\\src\\Microsoft.DotNet.Interactive.Formatting\\MemberAccessor{T}.cs:line 57, IsFullyTrusted: True, CustomAttributes: [  ], EscapedCodeBase: System.NotSupportedException: The invoked member is not supported in a dynamic assembly.\n",
       "   at System.Reflection.Emit.InternalAssemblyBuilder.get_CodeBase()\n",
       "   at lambda_method225(Closure , InternalAssemblyBuilder )\n",
       "   at Microsoft.DotNet.Interactive.Formatting.MemberAccessor`1.GetValueOrException(T instance) in D:\\a\\_work\\1\\s\\src\\Microsoft.DotNet.Interactive.Formatting\\MemberAccessor{T}.cs:line 57, Modules: [ RefEmit_InMemoryManifestModule ], SecurityRuleSet: None }, ModuleHandle: { System.ModuleHandle: MDStreamVersion: 131072 }, CustomAttributes: [  ] }, ReflectionOnly: False, GlobalAssemblyCache: False, HostContext: 0, IsDynamic: True, ExportedTypes: { System.NotSupportedException: The invoked member is not supported in a dynamic assembly.\n",
       "   at System.Reflection.Emit.InternalAssemblyBuilder.GetExportedTypes()\n",
       "   at lambda_method222(Closure , InternalAssemblyBuilder )\n",
       "   at Microsoft.DotNet.Interactive.Formatting.MemberAccessor`1.GetValueOrException(T instance) in D:\\a\\_work\\1\\s\\src\\Microsoft.DotNet.Interactive.Formatting\\MemberAccessor{T}.cs:line 57: TargetSite: { System.Type[] GetExportedTypes(): Name: GetExportedTypes, DeclaringType: System.Reflection.Emit.InternalAssemblyBuilder, ReflectedType: System.Reflection.Emit.InternalAssemblyBuilder, MemberType: Method, MetadataToken: 100685434, Module: System.Private.CoreLib.dll, IsSecurityCritical: True, IsSecuritySafeCritical: False, IsSecurityTransparent: False, MethodHandle: System.RuntimeMethodHandle, Attributes: PrivateScope, Public, Virtual, HideBySig, CallingConvention: Standard, HasThis, ReturnType: System.Type[], ReturnTypeCustomAttributes: System.Type[], ReturnParameter: System.Type[], IsCollectible: False, IsGenericMethod: False, IsGenericMethodDefinition: False, ContainsGenericParameters: False, MethodImplementationFlags: Managed, .. }, Message: The invoked member is not supported in a dynamic assembly., Data: [  ], InnerException: &lt;null&gt;, HelpLink: &lt;null&gt;, Source: System.Private.CoreLib, HResult: -2146233067, StackTrace:    at System.Reflection.Emit.InternalAssemblyBuilder.GetExportedTypes()\n",
       "   at lambda_method222(Closure , InternalAssemblyBuilder )\n",
       "   at Microsoft.DotNet.Interactive.Formatting.MemberAccessor`1.GetValueOrException(T instance) in D:\\a\\_work\\1\\s\\src\\Microsoft.DotNet.Interactive.Formatting\\MemberAccessor{T}.cs:line 57 }, IsFullyTrusted: True, CustomAttributes: [  ], EscapedCodeBase: { System.NotSupportedException: The invoked member is not supported in a dynamic assembly.\n",
       "   at System.Reflection.Emit.InternalAssemblyBuilder.get_CodeBase()\n",
       "   at lambda_method225(Closure , InternalAssemblyBuilder )\n",
       "   at Microsoft.DotNet.Interactive.Formatting.MemberAccessor`1.GetValueOrException(T instance) in D:\\a\\_work\\1\\s\\src\\Microsoft.DotNet.Interactive.Formatting\\MemberAccessor{T}.cs:line 57: TargetSite: { System.String get_CodeBase(): Name: get_CodeBase, DeclaringType: System.Reflection.Emit.InternalAssemblyBuilder, ReflectedType: System.Reflection.Emit.InternalAssemblyBuilder, MemberType: Method, MetadataToken: 100685433, Module: System.Private.CoreLib.dll, IsSecurityCritical: True, IsSecuritySafeCritical: False, IsSecurityTransparent: False, MethodHandle: System.RuntimeMethodHandle, Attributes: PrivateScope, Public, Virtual, HideBySig, SpecialName, CallingConvention: Standard, HasThis, ReturnType: System.String, ReturnTypeCustomAttributes: System.String, ReturnParameter: System.String, IsCollectible: False, IsGenericMethod: False, IsGenericMethodDefinition: False, ContainsGenericParameters: False, MethodImplementationFlags: Managed, .. }, Message: The invoked member is not supported in a dynamic assembly., Data: [  ], InnerException: &lt;null&gt;, HelpLink: &lt;null&gt;, Source: System.Private.CoreLib, HResult: -2146233067, StackTrace:    at System.Reflection.Emit.InternalAssemblyBuilder.get_CodeBase()\n",
       "   at lambda_method225(Closure , InternalAssemblyBuilder )\n",
       "   at Microsoft.DotNet.Interactive.Formatting.MemberAccessor`1.GetValueOrException(T instance) in D:\\a\\_work\\1\\s\\src\\Microsoft.DotNet.Interactive.Formatting\\MemberAccessor{T}.cs:line 57 }, Modules: [ { RefEmit_InMemoryManifestModule: MDStreamVersion: 131072, FullyQualifiedName: &lt;In Memory Module&gt;, ModuleVersionId: 97eb2652-058e-45c4-bae5-291d0c5d6b4b, MetadataToken: 1, ScopeName: RefEmit_InMemoryManifestModule, Name: &lt;In Memory Module&gt;, Assembly: FSI-ASSEMBLY, Version=0.0.0.0, Culture=neutral, PublicKeyToken=null, ModuleHandle: System.ModuleHandle, CustomAttributes: [  ] } ], SecurityRuleSet: None }, ModuleHandle: { System.ModuleHandle: MDStreamVersion: 131072 }, CustomAttributes: [  ] }, IsSecurityCritical: True, IsSecuritySafeCritical: False, IsSecurityTransparent: False, MethodHandle: { System.RuntimeMethodHandle: Value: 140604503584496 }, Attributes: PrivateScope, Public, Static, CallingConvention: Standard, ReturnType: Microsoft.FSharp.Core.FSharpResult&lt;System.Int32,System.Exception&gt;, ReturnTypeCustomAttributes: { Microsoft.FSharp.Core.FSharpResult`2[System.Int32,System.Exception]: ParameterType: Microsoft.FSharp.Core.FSharpResult&lt;System.Int32,System.Exception&gt;, Name: &lt;null&gt;, HasDefaultValue: True, DefaultValue: &lt;null&gt;, RawDefaultValue: &lt;null&gt;, MetadataToken: 134217728, Attributes: None, Member: { Microsoft.FSharp.Core.FSharpResult`2[System.Int32,System.Exception] division(Int32, Int32): Name: division, DeclaringType: FSI_0017, ReflectedType: FSI_0017, MemberType: Method, MetadataToken: 100663366, Module: { RefEmit_InMemoryManifestModule: MDStreamVersion: 131072, FullyQualifiedName: &lt;In Memory Module&gt;, ModuleVersionId: 97eb2652-058e-45c4-bae5-291d0c5d6b4b, MetadataToken: 1, ScopeName: RefEmit_InMemoryManifestModule, Name: &lt;In Memory Module&gt;, Assembly: { FSI-ASSEMBLY, Version=0.0.0.0, Culture=neutral, PublicKeyToken=null: Location: System.NotSupportedException: The invoked member is not supported in a dynamic assembly.\n",
       "   at System.Reflection.Emit.InternalAssemblyBuilder.get_Location()\n",
       "   at lambda_method210(Closure , InternalAssemblyBuilder )\n",
       "   at Microsoft.DotNet.Interactive.Formatting.MemberAccessor`1.GetValueOrException(T instance) in D:\\a\\_work\\1\\s\\src\\Microsoft.DotNet.Interactive.Formatting\\MemberAccessor{T}.cs:line 57, CodeBase: System.NotSupportedException: The invoked member is not supported in a dynamic assembly.\n",
       "   at System.Reflection.Emit.InternalAssemblyBuilder.get_CodeBase()\n",
       "   at lambda_method211(Closure , InternalAssemblyBuilder )\n",
       "   at Microsoft.DotNet.Interactive.Formatting.MemberAccessor`1.GetValueOrException(T instance) in D:\\a\\_work\\1\\s\\src\\Microsoft.DotNet.Interactive.Formatting\\MemberAccessor{T}.cs:line 57, ImageRuntimeVersion: v4.0.30319, FullName: FSI-ASSEMBLY, Version=0.0.0.0, Culture=neutral, PublicKeyToken=null, EntryPoint: &lt;null&gt;, DefinedTypes: [ FSI_0001, &lt;StartupCode$FSI_0001&gt;.$FSI_0001, FSI_0002, &lt;StartupCode$FSI_0002&gt;.$FSI_0002, FSI_0003, &lt;StartupCode$FSI_0003&gt;.$FSI_0003, FSI_0004, &lt;StartupCode$FSI_0004&gt;.$FSI_0004, FSI_0005, FSI_0005+printMembers@17-1, FSI_0005+printMembers@17, FSI_0005+printMembers@22-2, FSI_0005+collectNames@28[a], FSI_0005+print@38-2[b], FSI_0005+print@38-1, FSI_0005+print@38-3[b], &lt;StartupCode$FSI_0005&gt;.$FSI_0005, FSI_0006, &lt;StartupCode$FSI_0006&gt;.$FSI_0006, FSI_0011 ... (20 more) ], IsCollectible: False, ManifestModule: RefEmit_InMemoryManifestModule, ReflectionOnly: False, GlobalAssemblyCache: False, HostContext: 0, IsDynamic: True, ExportedTypes: System.NotSupportedException: The invoked member is not supported in a dynamic assembly.\n",
       "   at System.Reflection.Emit.InternalAssemblyBuilder.GetExportedTypes()\n",
       "   at lambda_method222(Closure , InternalAssemblyBuilder )\n",
       "   at Microsoft.DotNet.Interactive.Formatting.MemberAccessor`1.GetValueOrException(T instance) in D:\\a\\_work\\1\\s\\src\\Microsoft.DotNet.Interactive.Formatting\\MemberAccessor{T}.cs:line 57, IsFullyTrusted: True, CustomAttributes: [  ], EscapedCodeBase: System.NotSupportedException: The invoked member is not supported in a dynamic assembly.\n",
       "   at System.Reflection.Emit.InternalAssemblyBuilder.get_CodeBase()\n",
       "   at lambda_method225(Closure , InternalAssemblyBuilder )\n",
       "   at Microsoft.DotNet.Interactive.Formatting.MemberAccessor`1.GetValueOrException(T instance) in D:\\a\\_work\\1\\s\\src\\Microsoft.DotNet.Interactive.Formatting\\MemberAccessor{T}.cs:line 57, Modules: [ RefEmit_InMemoryManifestModule ], SecurityRuleSet: None }, ModuleHandle: { System.ModuleHandle: MDStreamVersion: 131072 }, CustomAttributes: [  ] }, IsSecurityCritical: True, IsSecuritySafeCritical: False, IsSecurityTransparent: False, MethodHandle: { System.RuntimeMethodHandle: Value: 140604503584496 }, Attributes: PrivateScope, Public, Static, CallingConvention: Standard, ReturnType: Microsoft.FSharp.Core.FSharpResult&lt;System.Int32,System.Exception&gt;, ReturnTypeCustomAttributes: { Microsoft.FSharp.Core.FSharpResult`2[System.Int32,System.Exception]: ParameterType: Microsoft.FSharp.Core.FSharpResult&lt;System.Int32,System.Exception&gt;, Name: &lt;null&gt;, HasDefaultValue: True, DefaultValue: &lt;null&gt;, RawDefaultValue: &lt;null&gt;, MetadataToken: 134217728, Attributes: None, Member: { Microsoft.FSharp.Core.FSharpResult`2[System.Int32,System.Exception] division(Int32, Int32): Name: division, DeclaringType: FSI_0017, ReflectedType: FSI_0017, MemberType: Method, MetadataToken: 100663366, Module: RefEmit_InMemoryManifestModule, IsSecurityCritical: True, IsSecuritySafeCritical: False, IsSecurityTransparent: False, MethodHandle: System.RuntimeMethodHandle, Attributes: PrivateScope, Public, Static, CallingConvention: Standard, ReturnType: Microsoft.FSharp.Core.FSharpResult`2[System.Int32,System.Exception], ReturnTypeCustomAttributes: Microsoft.FSharp.Core.FSharpResult`2[System.Int32,System.Exception], ReturnParameter: Microsoft.FSharp.Core.FSharpResult`2[System.Int32,System.Exception], IsCollectible: False, IsGenericMethod: False, IsGenericMethodDefinition: False, ContainsGenericParameters: False, MethodImplementationFlags: Managed, .. }, Position: -1, IsIn: False, IsLcid: False, IsOptional: False, IsOut: False, IsRetval: False, CustomAttributes: [  ] }, ReturnParameter: { Microsoft.FSharp.Core.FSharpResult`2[System.Int32,System.Exception]: ParameterType: Microsoft.FSharp.Core.FSharpResult&lt;System.Int32,System.Exception&gt;, Name: &lt;null&gt;, HasDefaultValue: True, DefaultValue: &lt;null&gt;, RawDefaultValue: &lt;null&gt;, MetadataToken: 134217728, Attributes: None, Member: { Microsoft.FSharp.Core.FSharpResult`2[System.Int32,System.Exception] division(Int32, Int32): Name: division, DeclaringType: FSI_0017, ReflectedType: FSI_0017, MemberType: Method, MetadataToken: 100663366, Module: RefEmit_InMemoryManifestModule, IsSecurityCritical: True, IsSecuritySafeCritical: False, IsSecurityTransparent: False, MethodHandle: System.RuntimeMethodHandle, Attributes: PrivateScope, Public, Static, CallingConvention: Standard, ReturnType: Microsoft.FSharp.Core.FSharpResult`2[System.Int32,System.Exception], ReturnTypeCustomAttributes: Microsoft.FSharp.Core.FSharpResult`2[System.Int32,System.Exception], ReturnParameter: Microsoft.FSharp.Core.FSharpResult`2[System.Int32,System.Exception], IsCollectible: False, IsGenericMethod: False, IsGenericMethodDefinition: False, ContainsGenericParameters: False, MethodImplementationFlags: Managed, .. }, Position: -1, IsIn: False, IsLcid: False, IsOptional: False, IsOut: False, IsRetval: False, CustomAttributes: [  ] }, IsCollectible: False, IsGenericMethod: False, IsGenericMethodDefinition: False, ContainsGenericParameters: False, MethodImplementationFlags: Managed, .. }, Position: -1, IsIn: False, IsLcid: False, IsOptional: False, IsOut: False, IsRetval: False, CustomAttributes: [  ] }, ReturnParameter: { Microsoft.FSharp.Core.FSharpResult`2[System.Int32,System.Exception]: ParameterType: Microsoft.FSharp.Core.FSharpResult&lt;System.Int32,System.Exception&gt;, Name: &lt;null&gt;, HasDefaultValue: True, DefaultValue: &lt;null&gt;, RawDefaultValue: &lt;null&gt;, MetadataToken: 134217728, Attributes: None, Member: { Microsoft.FSharp.Core.FSharpResult`2[System.Int32,System.Exception] division(Int32, Int32): Name: division, DeclaringType: FSI_0017, ReflectedType: FSI_0017, MemberType: Method, MetadataToken: 100663366, Module: { RefEmit_InMemoryManifestModule: MDStreamVersion: 131072, FullyQualifiedName: &lt;In Memory Module&gt;, ModuleVersionId: 97eb2652-058e-45c4-bae5-291d0c5d6b4b, MetadataToken: 1, ScopeName: RefEmit_InMemoryManifestModule, Name: &lt;In Memory Module&gt;, Assembly: { FSI-ASSEMBLY, Version=0.0.0.0, Culture=neutral, PublicKeyToken=null: Location: System.NotSupportedException: The invoked member is not supported in a dynamic assembly.\n",
       "   at System.Reflection.Emit.InternalAssemblyBuilder.get_Location()\n",
       "   at lambda_method210(Closure , InternalAssemblyBuilder )\n",
       "   at Microsoft.DotNet.Interactive.Formatting.MemberAccessor`1.GetValueOrException(T instance) in D:\\a\\_work\\1\\s\\src\\Microsoft.DotNet.Interactive.Formatting\\MemberAccessor{T}.cs:line 57, CodeBase: System.NotSupportedException: The invoked member is not supported in a dynamic assembly.\n",
       "   at System.Reflection.Emit.InternalAssemblyBuilder.get_CodeBase()\n",
       "   at lambda_method211(Closure , InternalAssemblyBuilder )\n",
       "   at Microsoft.DotNet.Interactive.Formatting.MemberAccessor`1.GetValueOrException(T instance) in D:\\a\\_work\\1\\s\\src\\Microsoft.DotNet.Interactive.Formatting\\MemberAccessor{T}.cs:line 57, ImageRuntimeVersion: v4.0.30319, FullName: FSI-ASSEMBLY, Version=0.0.0.0, Culture=neutral, PublicKeyToken=null, EntryPoint: &lt;null&gt;, DefinedTypes: [ FSI_0001, &lt;StartupCode$FSI_0001&gt;.$FSI_0001, FSI_0002, &lt;StartupCode$FSI_0002&gt;.$FSI_0002, FSI_0003, &lt;StartupCode$FSI_0003&gt;.$FSI_0003, FSI_0004, &lt;StartupCode$FSI_0004&gt;.$FSI_0004, FSI_0005, FSI_0005+printMembers@17-1, FSI_0005+printMembers@17, FSI_0005+printMembers@22-2, FSI_0005+collectNames@28[a], FSI_0005+print@38-2[b], FSI_0005+print@38-1, FSI_0005+print@38-3[b], &lt;StartupCode$FSI_0005&gt;.$FSI_0005, FSI_0006, &lt;StartupCode$FSI_0006&gt;.$FSI_0006, FSI_0011 ... (20 more) ], IsCollectible: False, ManifestModule: RefEmit_InMemoryManifestModule, ReflectionOnly: False, GlobalAssemblyCache: False, HostContext: 0, IsDynamic: True, ExportedTypes: System.NotSupportedException: The invoked member is not supported in a dynamic assembly.\n",
       "   at System.Reflection.Emit.InternalAssemblyBuilder.GetExportedTypes()\n",
       "   at lambda_method222(Closure , InternalAssemblyBuilder )\n",
       "   at Microsoft.DotNet.Interactive.Formatting.MemberAccessor`1.GetValueOrException(T instance) in D:\\a\\_work\\1\\s\\src\\Microsoft.DotNet.Interactive.Formatting\\MemberAccessor{T}.cs:line 57, IsFullyTrusted: True, CustomAttributes: [  ], EscapedCodeBase: System.NotSupportedException: The invoked member is not supported in a dynamic assembly.\n",
       "   at System.Reflection.Emit.InternalAssemblyBuilder.get_CodeBase()\n",
       "   at lambda_method225(Closure , InternalAssemblyBuilder )\n",
       "   at Microsoft.DotNet.Interactive.Formatting.MemberAccessor`1.GetValueOrException(T instance) in D:\\a\\_work\\1\\s\\src\\Microsoft.DotNet.Interactive.Formatting\\MemberAccessor{T}.cs:line 57, Modules: [ RefEmit_InMemoryManifestModule ], SecurityRuleSet: None }, ModuleHandle: { System.ModuleHandle: MDStreamVersion: 131072 }, CustomAttributes: [  ] }, IsSecurityCritical: True, IsSecuritySafeCritical: False, IsSecurityTransparent: False, MethodHandle: { System.RuntimeMethodHandle: Value: 140604503584496 }, Attributes: PrivateScope, Public, Static, CallingConvention: Standard, ReturnType: Microsoft.FSharp.Core.FSharpResult&lt;System.Int32,System.Exception&gt;, ReturnTypeCustomAttributes: { Microsoft.FSharp.Core.FSharpResult`2[System.Int32,System.Exception]: ParameterType: Microsoft.FSharp.Core.FSharpResult&lt;System.Int32,System.Exception&gt;, Name: &lt;null&gt;, HasDefaultValue: True, DefaultValue: &lt;null&gt;, RawDefaultValue: &lt;null&gt;, MetadataToken: 134217728, Attributes: None, Member: { Microsoft.FSharp.Core.FSharpResult`2[System.Int32,System.Exception] division(Int32, Int32): Name: division, DeclaringType: FSI_0017, ReflectedType: FSI_0017, MemberType: Method, MetadataToken: 100663366, Module: RefEmit_InMemoryManifestModule, IsSecurityCritical: True, IsSecuritySafeCritical: False, IsSecurityTransparent: False, MethodHandle: System.RuntimeMethodHandle, Attributes: PrivateScope, Public, Static, CallingConvention: Standard, ReturnType: Microsoft.FSharp.Core.FSharpResult`2[System.Int32,System.Exception], ReturnTypeCustomAttributes: Microsoft.FSharp.Core.FSharpResult`2[System.Int32,System.Exception], ReturnParameter: Microsoft.FSharp.Core.FSharpResult`2[System.Int32,System.Exception], IsCollectible: False, IsGenericMethod: False, IsGenericMethodDefinition: False, ContainsGenericParameters: False, MethodImplementationFlags: Managed, .. }, Position: -1, IsIn: False, IsLcid: False, IsOptional: False, IsOut: False, IsRetval: False, CustomAttributes: [  ] }, ReturnParameter: { Microsoft.FSharp.Core.FSharpResult`2[System.Int32,System.Exception]: ParameterType: Microsoft.FSharp.Core.FSharpResult&lt;System.Int32,System.Exception&gt;, Name: &lt;null&gt;, HasDefaultValue: True, DefaultValue: &lt;null&gt;, RawDefaultValue: &lt;null&gt;, MetadataToken: 134217728, Attributes: None, Member: { Microsoft.FSharp.Core.FSharpResult`2[System.Int32,System.Exception] division(Int32, Int32): Name: division, DeclaringType: FSI_0017, ReflectedType: FSI_0017, MemberType: Method, MetadataToken: 100663366, Module: RefEmit_InMemoryManifestModule, IsSecurityCritical: True, IsSecuritySafeCritical: False, IsSecurityTransparent: False, MethodHandle: System.RuntimeMethodHandle, Attributes: PrivateScope, Public, Static, CallingConvention: Standard, ReturnType: Microsoft.FSharp.Core.FSharpResult`2[System.Int32,System.Exception], ReturnTypeCustomAttributes: Microsoft.FSharp.Core.FSharpResult`2[System.Int32,System.Exception], ReturnParameter: Microsoft.FSharp.Core.FSharpResult`2[System.Int32,System.Exception], IsCollectible: False, IsGenericMethod: False, IsGenericMethodDefinition: False, ContainsGenericParameters: False, MethodImplementationFlags: Managed, .. }, Position: -1, IsIn: False, IsLcid: False, IsOptional: False, IsOut: False, IsRetval: False, CustomAttributes: [  ] }, IsCollectible: False, IsGenericMethod: False, IsGenericMethodDefinition: False, ContainsGenericParameters: False, MethodImplementationFlags: Managed, .. }, Position: -1, IsIn: False, IsLcid: False, IsOptional: False, IsOut: False, IsRetval: False, CustomAttributes: [  ] }, IsCollectible: False, IsGenericMethod: False, IsGenericMethodDefinition: False, ContainsGenericParameters: False, MethodImplementationFlags: Managed, .. }, Message: Attempted to divide by zero., Data: [  ], InnerException: &lt;null&gt;, HelpLink: &lt;null&gt;, Source: FSI-ASSEMBLY, HResult: -2147352558, StackTrace:    at FSI_0017.division(Int32 x, Int32 y) }</div></td></tr></tbody></table>"
      ]
     },
     "execution_count": 16,
     "metadata": {},
     "output_type": "execute_result"
    }
   ],
   "source": [
    "result"
   ]
  },
  {
   "cell_type": "markdown",
   "metadata": {},
   "source": [
    "## Error Value and get_ErrorValue are properties and methods of `result`"
   ]
  },
  {
   "cell_type": "code",
   "execution_count": 17,
   "metadata": {},
   "outputs": [
    {
     "name": "stdout",
     "output_type": "stream",
     "text": [
      "[Methods]\n",
      "CompareTo       Equals          GetHashCode     \n",
      "GetType         NewError        NewOk           \n",
      "ToString        get_ErrorValue  get_IsError     \n",
      "get_IsOk        get_ResultValue get_Tag         \n",
      "\n",
      "[Properties]\n",
      "ErrorValue  IsError     IsOk        \n",
      "ResultValue Tag         \n",
      "\n"
     ]
    }
   ],
   "source": [
    "dir(result)"
   ]
  },
  {
   "cell_type": "markdown",
   "metadata": {},
   "source": [
    "## But how do we access the ErrorValue?"
   ]
  },
  {
   "cell_type": "code",
   "execution_count": 18,
   "metadata": {},
   "outputs": [
    {
     "name": "stderr",
     "output_type": "stream",
     "text": [
      "\n",
      "input.fsx (1,8)-(1,18) typecheck error The type 'Result<_,_>' does not define the field, constructor or member 'ErrorValue'. Maybe you want one of the following:\n",
      "   Error\n",
      "\n"
     ]
    },
    {
     "ename": "Cell not executed",
     "evalue": "compilation error",
     "output_type": "error",
     "traceback": []
    }
   ],
   "source": [
    "result.ErrorValue"
   ]
  },
  {
   "cell_type": "code",
   "execution_count": 19,
   "metadata": {},
   "outputs": [
    {
     "name": "stderr",
     "output_type": "stream",
     "text": [
      "\n",
      "input.fsx (1,8)-(1,22) typecheck error The type 'Result<_,_>' does not define the field, constructor or member 'get_ErrorValue'.\n",
      "\n"
     ]
    },
    {
     "ename": "Cell not executed",
     "evalue": "compilation error",
     "output_type": "error",
     "traceback": []
    }
   ],
   "source": [
    "result.get_ErrorValue()"
   ]
  },
  {
   "cell_type": "code",
   "execution_count": null,
   "metadata": {},
   "outputs": [],
   "source": []
  },
  {
   "cell_type": "code",
   "execution_count": 2,
   "metadata": {},
   "outputs": [],
   "source": [
    "Exception"
   ]
  },
  {
   "cell_type": "code",
   "execution_count": null,
   "metadata": {},
   "outputs": [],
   "source": []
  }
 ],
 "metadata": {
  "kernelspec": {
   "display_name": ".NET (F#)",
   "language": "F#",
   "name": ".net-fsharp"
  },
  "language_info": {
   "file_extension": ".fs",
   "mimetype": "text/x-fsharp",
   "name": "F#",
   "pygments_lexer": "fsharp",
   "version": "6.0"
  }
 },
 "nbformat": 4,
 "nbformat_minor": 4
}
