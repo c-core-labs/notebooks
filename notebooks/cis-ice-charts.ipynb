{
 "cells": [
  {
   "cell_type": "markdown",
   "metadata": {},
   "source": [
    "# [C-CORE](https://www.c-core.ca/)\n",
    "## Search the Canadian Ice Service ice charts by bounding box or geojson\n",
    "Items in the API may be searched by a bounding box or GeoJSON. Items intersecting the bounding box or GeoJSON are returned.\n",
    "\n",
    "For convenience, the badge below launches this notebook on Google [Colab](https://colab.research.google.com/).\n",
    "\n",
    "[![Open In Colab](https://colab.research.google.com/assets/colab-badge.svg)](https://colab.research.google.com/github/c-core-labs/notebooks/blob/master/notebooks/cis-ice-charts.ipynb)"
   ]
  },
  {
   "cell_type": "markdown",
   "metadata": {
    "jp-MarkdownHeadingCollapsed": true,
    "tags": []
   },
   "source": [
    "## Install dependencies\n",
    "Optionally install dependencies from within the notebook."
   ]
  },
  {
   "cell_type": "code",
   "execution_count": 1,
   "metadata": {},
   "outputs": [
    {
     "name": "stdout",
     "output_type": "stream",
     "text": [
      "Requirement already satisfied: httpx in /home/jthetzel/.pyenv/versions/3.10.5/lib/python3.10/site-packages (0.23.0)\n",
      "Requirement already satisfied: sniffio in /home/jthetzel/.pyenv/versions/3.10.5/lib/python3.10/site-packages (from httpx) (1.2.0)\n",
      "Requirement already satisfied: rfc3986[idna2008]<2,>=1.3 in /home/jthetzel/.pyenv/versions/3.10.5/lib/python3.10/site-packages (from httpx) (1.5.0)\n",
      "Requirement already satisfied: httpcore<0.16.0,>=0.15.0 in /home/jthetzel/.pyenv/versions/3.10.5/lib/python3.10/site-packages (from httpx) (0.15.0)\n",
      "Requirement already satisfied: certifi in /home/jthetzel/.pyenv/versions/3.10.5/lib/python3.10/site-packages (from httpx) (2022.5.18.1)\n",
      "Requirement already satisfied: h11<0.13,>=0.11 in /home/jthetzel/.pyenv/versions/3.10.5/lib/python3.10/site-packages (from httpcore<0.16.0,>=0.15.0->httpx) (0.12.0)\n",
      "Requirement already satisfied: anyio==3.* in /home/jthetzel/.pyenv/versions/3.10.5/lib/python3.10/site-packages (from httpcore<0.16.0,>=0.15.0->httpx) (3.6.1)\n",
      "Requirement already satisfied: idna>=2.8 in /home/jthetzel/.pyenv/versions/3.10.5/lib/python3.10/site-packages (from anyio==3.*->httpcore<0.16.0,>=0.15.0->httpx) (3.3)\n",
      "Collecting geopandas\n",
      "  Using cached geopandas-0.10.2-py2.py3-none-any.whl (1.0 MB)\n",
      "Collecting fiona>=1.8\n",
      "  Using cached Fiona-1.8.21-cp310-cp310-manylinux_2_17_x86_64.manylinux2014_x86_64.whl (16.6 MB)\n",
      "Collecting pyproj>=2.2.0\n",
      "  Using cached pyproj-3.3.1-cp310-cp310-manylinux_2_17_x86_64.manylinux2014_x86_64.whl (7.6 MB)\n",
      "Collecting shapely>=1.6\n",
      "  Using cached Shapely-1.8.2-cp310-cp310-manylinux_2_12_x86_64.manylinux2010_x86_64.whl (2.0 MB)\n",
      "Collecting pandas>=0.25.0\n",
      "  Using cached pandas-1.4.2-cp310-cp310-manylinux_2_17_x86_64.manylinux2014_x86_64.whl (11.7 MB)\n",
      "Collecting six>=1.7\n",
      "  Using cached six-1.16.0-py2.py3-none-any.whl (11 kB)\n",
      "Collecting cligj>=0.5\n",
      "  Using cached cligj-0.7.2-py3-none-any.whl (7.1 kB)\n",
      "Collecting attrs>=17\n",
      "  Using cached attrs-21.4.0-py2.py3-none-any.whl (60 kB)\n",
      "Requirement already satisfied: certifi in /home/jthetzel/.pyenv/versions/3.10.5/lib/python3.10/site-packages (from fiona>=1.8->geopandas) (2022.5.18.1)\n",
      "Requirement already satisfied: setuptools in /home/jthetzel/.pyenv/versions/3.10.5/lib/python3.10/site-packages (from fiona>=1.8->geopandas) (58.1.0)\n",
      "Collecting click-plugins>=1.0\n",
      "  Using cached click_plugins-1.1.1-py2.py3-none-any.whl (7.5 kB)\n",
      "Requirement already satisfied: click>=4.0 in /home/jthetzel/.pyenv/versions/3.10.5/lib/python3.10/site-packages (from fiona>=1.8->geopandas) (8.1.3)\n",
      "Collecting munch\n",
      "  Using cached munch-2.5.0-py2.py3-none-any.whl (10 kB)\n",
      "Collecting python-dateutil>=2.8.1\n",
      "  Using cached python_dateutil-2.8.2-py2.py3-none-any.whl (247 kB)\n",
      "Collecting numpy>=1.21.0\n",
      "  Using cached numpy-1.22.4-cp310-cp310-manylinux_2_17_x86_64.manylinux2014_x86_64.whl (16.8 MB)\n",
      "Collecting pytz>=2020.1\n",
      "  Using cached pytz-2022.1-py2.py3-none-any.whl (503 kB)\n",
      "Installing collected packages: pytz, six, shapely, pyproj, numpy, cligj, click-plugins, attrs, python-dateutil, munch, pandas, fiona, geopandas\n",
      "Successfully installed attrs-21.4.0 click-plugins-1.1.1 cligj-0.7.2 fiona-1.8.21 geopandas-0.10.2 munch-2.5.0 numpy-1.22.4 pandas-1.4.2 pyproj-3.3.1 python-dateutil-2.8.2 pytz-2022.1 shapely-1.8.2 six-1.16.0\n",
      "Collecting ipyleaflet\n",
      "  Downloading ipyleaflet-0.16.0-py2.py3-none-any.whl (3.3 MB)\n",
      "\u001b[2K     \u001b[38;2;114;156;31m━━━━━━━━━━━━━━━━━━━━━━━━━━━━━━━━━━━━━━━━\u001b[0m \u001b[32m3.3/3.3 MB\u001b[0m \u001b[31m4.8 MB/s\u001b[0m eta \u001b[36m0:00:00\u001b[0mm eta \u001b[36m0:00:01\u001b[0m[36m0:00:01\u001b[0m\n",
      "\u001b[?25hCollecting xyzservices>=2021.8.1\n",
      "  Downloading xyzservices-2022.4.0-py3-none-any.whl (36 kB)\n",
      "Collecting ipywidgets<8,>=7.6.0\n",
      "  Using cached ipywidgets-7.7.0-py2.py3-none-any.whl (123 kB)\n",
      "Collecting traittypes<3,>=0.2.1\n",
      "  Using cached traittypes-0.2.1-py2.py3-none-any.whl (8.6 kB)\n",
      "Collecting ipython>=4.0.0\n",
      "  Using cached ipython-8.4.0-py3-none-any.whl (750 kB)\n",
      "Collecting ipython-genutils~=0.2.0\n",
      "  Using cached ipython_genutils-0.2.0-py2.py3-none-any.whl (26 kB)\n",
      "Collecting nbformat>=4.2.0\n",
      "  Using cached nbformat-5.4.0-py3-none-any.whl (73 kB)\n",
      "Collecting ipykernel>=4.5.1\n",
      "  Downloading ipykernel-6.15.0-py3-none-any.whl (133 kB)\n",
      "\u001b[2K     \u001b[38;2;114;156;31m━━━━━━━━━━━━━━━━━━━━━━━━━━━━━━━━━━━━━━━\u001b[0m \u001b[32m133.1/133.1 kB\u001b[0m \u001b[31m7.1 MB/s\u001b[0m eta \u001b[36m0:00:00\u001b[0m\n",
      "\u001b[?25hCollecting jupyterlab-widgets>=1.0.0\n",
      "  Using cached jupyterlab_widgets-1.1.0-py3-none-any.whl (245 kB)\n",
      "Collecting traitlets>=4.3.1\n",
      "  Using cached traitlets-5.2.2.post1-py3-none-any.whl (106 kB)\n",
      "Collecting widgetsnbextension~=3.6.0\n",
      "  Using cached widgetsnbextension-3.6.0-py2.py3-none-any.whl (1.6 MB)\n",
      "Collecting psutil\n",
      "  Using cached psutil-5.9.1-cp310-cp310-manylinux_2_12_x86_64.manylinux2010_x86_64.manylinux_2_17_x86_64.manylinux2014_x86_64.whl (282 kB)\n",
      "Collecting pyzmq>=17\n",
      "  Using cached pyzmq-23.1.0-cp310-cp310-manylinux_2_17_x86_64.manylinux2014_x86_64.whl (1.1 MB)\n",
      "Collecting tornado>=6.1\n",
      "  Using cached tornado-6.1-cp310-cp310-linux_x86_64.whl\n",
      "Collecting nest-asyncio\n",
      "  Using cached nest_asyncio-1.5.5-py3-none-any.whl (5.2 kB)\n",
      "Collecting matplotlib-inline>=0.1\n",
      "  Using cached matplotlib_inline-0.1.3-py3-none-any.whl (8.2 kB)\n",
      "Collecting debugpy>=1.0\n",
      "  Using cached debugpy-1.6.0-cp310-cp310-manylinux_2_5_x86_64.manylinux1_x86_64.manylinux_2_12_x86_64.manylinux2010_x86_64.whl (1.8 MB)\n",
      "Collecting jupyter-client>=6.1.12\n",
      "  Using cached jupyter_client-7.3.4-py3-none-any.whl (132 kB)\n",
      "Collecting packaging\n",
      "  Using cached packaging-21.3-py3-none-any.whl (40 kB)\n",
      "Collecting prompt-toolkit!=3.0.0,!=3.0.1,<3.1.0,>=2.0.0\n",
      "  Using cached prompt_toolkit-3.0.29-py3-none-any.whl (381 kB)\n",
      "Requirement already satisfied: setuptools>=18.5 in /home/jthetzel/.pyenv/versions/3.10.5/lib/python3.10/site-packages (from ipython>=4.0.0->ipywidgets<8,>=7.6.0->ipyleaflet) (58.1.0)\n",
      "Collecting stack-data\n",
      "  Downloading stack_data-0.3.0-py3-none-any.whl (23 kB)\n",
      "Collecting backcall\n",
      "  Using cached backcall-0.2.0-py2.py3-none-any.whl (11 kB)\n",
      "Collecting pexpect>4.3\n",
      "  Using cached pexpect-4.8.0-py2.py3-none-any.whl (59 kB)\n",
      "Requirement already satisfied: jedi>=0.16 in /home/jthetzel/.pyenv/versions/3.10.5/lib/python3.10/site-packages (from ipython>=4.0.0->ipywidgets<8,>=7.6.0->ipyleaflet) (0.17.2)\n",
      "Collecting pygments>=2.4.0\n",
      "  Using cached Pygments-2.12.0-py3-none-any.whl (1.1 MB)\n",
      "Collecting pickleshare\n",
      "  Using cached pickleshare-0.7.5-py2.py3-none-any.whl (6.9 kB)\n",
      "Collecting decorator\n",
      "  Using cached decorator-5.1.1-py3-none-any.whl (9.1 kB)\n",
      "Collecting jupyter-core\n",
      "  Using cached jupyter_core-4.10.0-py3-none-any.whl (87 kB)\n",
      "Collecting fastjsonschema\n",
      "  Using cached fastjsonschema-2.15.3-py3-none-any.whl (22 kB)\n",
      "Collecting jsonschema>=2.6\n",
      "  Using cached jsonschema-4.6.0-py3-none-any.whl (80 kB)\n",
      "Collecting notebook>=4.4.1\n",
      "  Using cached notebook-6.4.12-py3-none-any.whl (9.9 MB)\n",
      "Requirement already satisfied: parso<0.8.0,>=0.7.0 in /home/jthetzel/.pyenv/versions/3.10.5/lib/python3.10/site-packages (from jedi>=0.16->ipython>=4.0.0->ipywidgets<8,>=7.6.0->ipyleaflet) (0.7.1)\n",
      "Collecting pyrsistent!=0.17.0,!=0.17.1,!=0.17.2,>=0.14.0\n",
      "  Using cached pyrsistent-0.18.1-cp310-cp310-manylinux_2_17_x86_64.manylinux2014_x86_64.whl (115 kB)\n",
      "Requirement already satisfied: attrs>=17.4.0 in /home/jthetzel/.pyenv/versions/3.10.5/lib/python3.10/site-packages (from jsonschema>=2.6->nbformat>=4.2.0->ipywidgets<8,>=7.6.0->ipyleaflet) (21.4.0)\n",
      "Requirement already satisfied: python-dateutil>=2.8.2 in /home/jthetzel/.pyenv/versions/3.10.5/lib/python3.10/site-packages (from jupyter-client>=6.1.12->ipykernel>=4.5.1->ipywidgets<8,>=7.6.0->ipyleaflet) (2.8.2)\n",
      "Collecting entrypoints\n",
      "  Using cached entrypoints-0.4-py3-none-any.whl (5.3 kB)\n",
      "Collecting argon2-cffi\n",
      "  Using cached argon2_cffi-21.3.0-py3-none-any.whl (14 kB)\n",
      "Collecting Send2Trash>=1.8.0\n",
      "  Using cached Send2Trash-1.8.0-py3-none-any.whl (18 kB)\n",
      "Collecting jinja2\n",
      "  Using cached Jinja2-3.1.2-py3-none-any.whl (133 kB)\n",
      "Collecting terminado>=0.8.3\n",
      "  Using cached terminado-0.15.0-py3-none-any.whl (16 kB)\n",
      "Collecting prometheus-client\n",
      "  Using cached prometheus_client-0.14.1-py3-none-any.whl (59 kB)\n",
      "Collecting nbconvert>=5\n",
      "  Using cached nbconvert-6.5.0-py3-none-any.whl (561 kB)\n",
      "Collecting ptyprocess>=0.5\n",
      "  Using cached ptyprocess-0.7.0-py2.py3-none-any.whl (13 kB)\n",
      "Collecting wcwidth\n",
      "  Using cached wcwidth-0.2.5-py2.py3-none-any.whl (30 kB)\n",
      "Collecting pyparsing!=3.0.5,>=2.0.2\n",
      "  Using cached pyparsing-3.0.9-py3-none-any.whl (98 kB)\n",
      "Collecting executing\n",
      "  Using cached executing-0.8.3-py2.py3-none-any.whl (16 kB)\n",
      "Collecting pure-eval\n",
      "  Using cached pure_eval-0.2.2-py3-none-any.whl (11 kB)\n",
      "Collecting asttokens\n",
      "  Using cached asttokens-2.0.5-py2.py3-none-any.whl (20 kB)\n",
      "Collecting beautifulsoup4\n",
      "  Using cached beautifulsoup4-4.11.1-py3-none-any.whl (128 kB)\n",
      "Collecting bleach\n",
      "  Using cached bleach-5.0.0-py3-none-any.whl (160 kB)\n",
      "Collecting defusedxml\n",
      "  Using cached defusedxml-0.7.1-py2.py3-none-any.whl (25 kB)\n",
      "Collecting jupyterlab-pygments\n",
      "  Using cached jupyterlab_pygments-0.2.2-py2.py3-none-any.whl (21 kB)\n",
      "Collecting pandocfilters>=1.4.1\n",
      "  Using cached pandocfilters-1.5.0-py2.py3-none-any.whl (8.7 kB)\n",
      "Collecting nbclient>=0.5.0\n",
      "  Using cached nbclient-0.6.4-py3-none-any.whl (71 kB)\n",
      "Collecting MarkupSafe>=2.0\n",
      "  Using cached MarkupSafe-2.1.1-cp310-cp310-manylinux_2_17_x86_64.manylinux2014_x86_64.whl (25 kB)\n",
      "Collecting tinycss2\n",
      "  Using cached tinycss2-1.1.1-py3-none-any.whl (21 kB)\n",
      "Collecting mistune<2,>=0.8.1\n",
      "  Using cached mistune-0.8.4-py2.py3-none-any.whl (16 kB)\n",
      "Requirement already satisfied: six>=1.5 in /home/jthetzel/.pyenv/versions/3.10.5/lib/python3.10/site-packages (from python-dateutil>=2.8.2->jupyter-client>=6.1.12->ipykernel>=4.5.1->ipywidgets<8,>=7.6.0->ipyleaflet) (1.16.0)\n",
      "Collecting argon2-cffi-bindings\n",
      "  Using cached argon2_cffi_bindings-21.2.0-cp36-abi3-manylinux_2_17_x86_64.manylinux2014_x86_64.whl (86 kB)\n",
      "Collecting cffi>=1.0.1\n",
      "  Using cached cffi-1.15.0-cp310-cp310-manylinux_2_12_x86_64.manylinux2010_x86_64.whl (446 kB)\n",
      "Collecting soupsieve>1.2\n",
      "  Using cached soupsieve-2.3.2.post1-py3-none-any.whl (37 kB)\n",
      "Collecting webencodings\n",
      "  Using cached webencodings-0.5.1-py2.py3-none-any.whl (11 kB)\n",
      "Collecting pycparser\n",
      "  Using cached pycparser-2.21-py2.py3-none-any.whl (118 kB)\n",
      "Installing collected packages: webencodings, wcwidth, Send2Trash, pure-eval, ptyprocess, pickleshare, mistune, ipython-genutils, fastjsonschema, executing, backcall, xyzservices, traitlets, tornado, tinycss2, soupsieve, pyzmq, pyrsistent, pyparsing, pygments, pycparser, psutil, prompt-toolkit, prometheus-client, pexpect, pandocfilters, nest-asyncio, MarkupSafe, jupyterlab-widgets, jupyterlab-pygments, entrypoints, defusedxml, decorator, debugpy, bleach, asttokens, traittypes, terminado, stack-data, packaging, matplotlib-inline, jupyter-core, jsonschema, jinja2, cffi, beautifulsoup4, nbformat, jupyter-client, ipython, argon2-cffi-bindings, nbclient, ipykernel, argon2-cffi, nbconvert, notebook, widgetsnbextension, ipywidgets, ipyleaflet\n",
      "Successfully installed MarkupSafe-2.1.1 Send2Trash-1.8.0 argon2-cffi-21.3.0 argon2-cffi-bindings-21.2.0 asttokens-2.0.5 backcall-0.2.0 beautifulsoup4-4.11.1 bleach-5.0.0 cffi-1.15.0 debugpy-1.6.0 decorator-5.1.1 defusedxml-0.7.1 entrypoints-0.4 executing-0.8.3 fastjsonschema-2.15.3 ipykernel-6.15.0 ipyleaflet-0.16.0 ipython-8.4.0 ipython-genutils-0.2.0 ipywidgets-7.7.0 jinja2-3.1.2 jsonschema-4.6.0 jupyter-client-7.3.4 jupyter-core-4.10.0 jupyterlab-pygments-0.2.2 jupyterlab-widgets-1.1.0 matplotlib-inline-0.1.3 mistune-0.8.4 nbclient-0.6.4 nbconvert-6.5.0 nbformat-5.4.0 nest-asyncio-1.5.5 notebook-6.4.12 packaging-21.3 pandocfilters-1.5.0 pexpect-4.8.0 pickleshare-0.7.5 prometheus-client-0.14.1 prompt-toolkit-3.0.29 psutil-5.9.1 ptyprocess-0.7.0 pure-eval-0.2.2 pycparser-2.21 pygments-2.12.0 pyparsing-3.0.9 pyrsistent-0.18.1 pyzmq-23.1.0 soupsieve-2.3.2.post1 stack-data-0.3.0 terminado-0.15.0 tinycss2-1.1.1 tornado-6.1 traitlets-5.2.2.post1 traittypes-0.2.1 wcwidth-0.2.5 webencodings-0.5.1 widgetsnbextension-3.6.0 xyzservices-2022.4.0\n"
     ]
    }
   ],
   "source": [
    "!pip install httpx\n",
    "!pip install geopandas\n",
    "!pip install ipyleaflet"
   ]
  },
  {
   "cell_type": "markdown",
   "metadata": {},
   "source": [
    "## Import dependencies"
   ]
  },
  {
   "cell_type": "code",
   "execution_count": 2,
   "metadata": {},
   "outputs": [],
   "source": [
    "from typing import List, Dict, Optional\n",
    "import urllib.parse\n",
    "import json\n",
    "import httpx\n",
    "from ipyleaflet import Map, VectorTileLayer, basemap_to_tiles\n",
    "import logging\n",
    "\n",
    "\n",
    "logging.basicConfig(level=logging.INFO)\n",
    "log = logging.getLogger(__name__)"
   ]
  },
  {
   "cell_type": "markdown",
   "metadata": {},
   "source": [
    "## Base URL for the API\n",
    "For API documentation, see https://c-stac-api.c-core.app/docs\n",
    "C-STAC-API implements the STAC API specification. For further details of the API search specification, see https://api.stacspec.org/v1.0.0-rc.1/item-search/"
   ]
  },
  {
   "cell_type": "code",
   "execution_count": 3,
   "metadata": {},
   "outputs": [],
   "source": [
    "api_url = \"https://c-stac-api.c-core.app\""
   ]
  },
  {
   "cell_type": "markdown",
   "metadata": {},
   "source": [
    "## List all collection IDs in the catalog"
   ]
  },
  {
   "cell_type": "code",
   "execution_count": 4,
   "metadata": {},
   "outputs": [],
   "source": [
    "def list_collection_ids(url: str = api_url) -> List[str]:\n",
    "    \"\"\"List collection IDs in the catalog.\"\"\"\n",
    "    get_url = f\"{url}/collections\"\n",
    "    \n",
    "    with httpx.Client(timeout = 20) as client:\n",
    "        response = client.get(get_url)\n",
    "    \n",
    "    try:\n",
    "        # Raise exception if status code not 2xx success\n",
    "        response.raise_for_status()\n",
    "    except httpx.HTTPError as exception:\n",
    "        log.exception(exception.response.json())\n",
    "        raise exception\n",
    "    \n",
    "    response_body = response.json()\n",
    "    collections = response_body[\"collections\"]\n",
    "    collection_ids = [collection[\"id\"] for collection in collections]\n",
    "    \n",
    "    return collection_ids\n",
    "    "
   ]
  },
  {
   "cell_type": "code",
   "execution_count": 5,
   "metadata": {},
   "outputs": [
    {
     "data": {
      "text/plain": [
       "['joplin',\n",
       " 'floe-edge-linestrings',\n",
       " 'cis-ice-charts',\n",
       " 'floe-edge-polygons',\n",
       " 'ice-drift-feature-tracking',\n",
       " 'floe-edge-convergence',\n",
       " 'floe-edge-coherence']"
      ]
     },
     "execution_count": 5,
     "metadata": {},
     "output_type": "execute_result"
    }
   ],
   "source": [
    "collection_ids = list_collection_ids()\n",
    "collection_ids"
   ]
  },
  {
   "cell_type": "markdown",
   "metadata": {},
   "source": [
    "## Collection names\n",
    "The database names differ from the common names assigned to the products for reasons of development history. Here is a map:\n",
    "\n",
    "- `joplin`: A test collection that is unrelated to the sea ice products.\n",
    "- `cis-ice-charts`: Canadian Ice Service ice charts.\n",
    "- `ice-drift-feature-tracking`: Ice tracking.\n",
    "- `floe-edge-convergence`: Land-fast ice motion.\n",
    "- `floe-edge-coherence`: Tidal cracks.\n",
    "- `floe-edge-polygons`: Floe edge as a polygon.\n",
    "- `floe-edge-linestrings`: Floe edge as a linestring."
   ]
  },
  {
   "cell_type": "markdown",
   "metadata": {
    "tags": []
   },
   "source": [
    "## List items in collection\n",
    "This example uses the GET method, which may be easier for simple listings, compared to the POST method. A POST example appears later."
   ]
  },
  {
   "cell_type": "code",
   "execution_count": 6,
   "metadata": {},
   "outputs": [],
   "source": [
    "def list_items( \n",
    "    collection_id: str, \n",
    "    limit: int = 2,\n",
    "    sortby: Optional[str] = \"-id\",\n",
    "    url: str = api_url\n",
    ") -> List[Dict]:\n",
    "    \"\"\"List items, filtering by geoaptial bbox.\"\"\"\n",
    "\n",
    "    # `sortby` need to be urlencoded because it accepts `+`\n",
    "    url_parameters = f\"collections={collection_id}&limit={limit}&sortby={urllib.parse.quote(sortby)}\"\n",
    "    get_collections_url = f\"{url}/search?{url_parameters}\"\n",
    "    \n",
    "    with httpx.Client(timeout = 20) as client:\n",
    "        log.info(get_collections_url)\n",
    "        response = client.get(get_collections_url)\n",
    "    \n",
    "    try:\n",
    "        # Raise exception if status code not 2xx success\n",
    "        response.raise_for_status()\n",
    "    except httpx.HTTPError as exception:\n",
    "        log.exception(exception.response.json())\n",
    "        raise exception\n",
    "    \n",
    "    response_body = response.json()\n",
    "    \n",
    "    return response_body"
   ]
  },
  {
   "cell_type": "markdown",
   "metadata": {},
   "source": [
    "Note we can sort by `id`. For descending sort, specify `-id`."
   ]
  },
  {
   "cell_type": "code",
   "execution_count": 7,
   "metadata": {},
   "outputs": [
    {
     "name": "stderr",
     "output_type": "stream",
     "text": [
      "INFO:__main__:https://c-stac-api.c-core.app/search?collections=cis-ice-charts&limit=2&sortby=-id\n"
     ]
    },
    {
     "data": {
      "text/plain": [
       "['2022-06-06T18:00:00+00:00', '2022-05-30T18:00:00+00:00']"
      ]
     },
     "execution_count": 7,
     "metadata": {},
     "output_type": "execute_result"
    }
   ],
   "source": [
    "items = list_items(\"cis-ice-charts\", sortby=\"-id\")\n",
    "[item[\"properties\"][\"datetime\"] for item in items[\"features\"]]"
   ]
  },
  {
   "cell_type": "markdown",
   "metadata": {},
   "source": [
    "For ascending sort, specify `+id`."
   ]
  },
  {
   "cell_type": "code",
   "execution_count": 8,
   "metadata": {},
   "outputs": [
    {
     "name": "stderr",
     "output_type": "stream",
     "text": [
      "INFO:__main__:https://c-stac-api.c-core.app/search?collections=cis-ice-charts&limit=2&sortby=%2Bid\n"
     ]
    },
    {
     "data": {
      "text/plain": [
       "['2021-07-14T18:00:00+00:00', '2021-07-15T18:00:00+00:00']"
      ]
     },
     "execution_count": 8,
     "metadata": {},
     "output_type": "execute_result"
    }
   ],
   "source": [
    "items = list_items(\"cis-ice-charts\", sortby=\"+id\")\n",
    "[item[\"properties\"][\"datetime\"] for item in items[\"features\"]]"
   ]
  },
  {
   "cell_type": "markdown",
   "metadata": {},
   "source": [
    "## Filter by location with bbox\n",
    "This is an example of search by the GET method, which is a convenient way to search by a bounding box (bbox). A search by POST method for more complex queires is demonstarted later.\n",
    "\n",
    "For further API details, see https://c-stac-api.c-core.app/docs#/default/Search_search_get .\n",
    "For the API specification, see https://api.stacspec.org/v1.0.0-rc.1/item-search/#operation/getItemSearch .\n",
    "\n",
    "The GET method accepts a `bbox` parameter. Here, we specify rough bounding boxes for Resolute, Pond Inlet, and the world. The bbox order is `[lower left longitude, lower left latitude, upper right longitude, upper right latitude]`."
   ]
  },
  {
   "cell_type": "code",
   "execution_count": 9,
   "metadata": {},
   "outputs": [],
   "source": [
    "bboxes = {\n",
    "    \"resolute\": [-97.1, 74.3, -92.5, 75.0],\n",
    "    \"pond_inlet\": [-80.6, 72.2, -75.1, 73.2],\n",
    "    \"world\": [-180, -90, 180, 90],\n",
    "}"
   ]
  },
  {
   "cell_type": "markdown",
   "metadata": {},
   "source": [
    "A convenience function for requesting a search GET method with a bbox."
   ]
  },
  {
   "cell_type": "code",
   "execution_count": 10,
   "metadata": {},
   "outputs": [],
   "source": [
    "def list_items_in_bbox(\n",
    "    bbox: List[float], \n",
    "    collection_id: str, \n",
    "    limit: int = 2,\n",
    "    sortby: Optional[str] = \"-id\",\n",
    "    url: str = api_url\n",
    ") -> List[Dict]:\n",
    "    \"\"\"List items, filtering by geoaptial bbox.\"\"\"\n",
    "    bbox_parameter = \",\".join([str(coordinate) for coordinate in bbox])\n",
    "    \n",
    "    # `sortby` need to be urlencoded because it accepts `+`\n",
    "    url_parameters = f\"collections={collection_id}&bbox={bbox_parameter}&limit={limit}&sortby={urllib.parse.quote(sortby)}\"\n",
    "    get_collections_url = f\"{url}/search?{url_parameters}\"\n",
    "    \n",
    "    with httpx.Client(timeout = 20) as client:\n",
    "        log.info(get_collections_url)\n",
    "        response = client.get(get_collections_url)\n",
    "\n",
    "    try:\n",
    "        # Raise exception if status code not 2xx success\n",
    "        response.raise_for_status()\n",
    "    except httpx.HTTPError as exception:\n",
    "        log.exception(exception.response.json())\n",
    "        raise exception\n",
    "    \n",
    "    response_body = response.json()\n",
    "    \n",
    "    return response_body"
   ]
  },
  {
   "cell_type": "code",
   "execution_count": 11,
   "metadata": {},
   "outputs": [
    {
     "name": "stderr",
     "output_type": "stream",
     "text": [
      "INFO:__main__:https://c-stac-api.c-core.app/search?collections=cis-ice-charts&bbox=-80.6,72.2,-75.1,73.2&limit=2&sortby=-id\n"
     ]
    },
    {
     "data": {
      "text/plain": [
       "['2022-06-06T00:00:00+00:00', '2022-05-09T00:00:00+00:00']"
      ]
     },
     "execution_count": 11,
     "metadata": {},
     "output_type": "execute_result"
    }
   ],
   "source": [
    "items = list_items_in_bbox(bboxes[\"pond_inlet\"], \"cis-ice-charts\", sortby=\"-id\")\n",
    "[item[\"properties\"][\"datetime\"] for item in items[\"features\"]]"
   ]
  },
  {
   "cell_type": "code",
   "execution_count": 12,
   "metadata": {},
   "outputs": [
    {
     "name": "stderr",
     "output_type": "stream",
     "text": [
      "INFO:__main__:https://c-stac-api.c-core.app/search?collections=cis-ice-charts&bbox=-80.6,72.2,-75.1,73.2&limit=2&sortby=%2Bid\n"
     ]
    },
    {
     "data": {
      "text/plain": [
       "['2021-07-16T18:00:00+00:00', '2021-07-24T18:00:00+00:00']"
      ]
     },
     "execution_count": 12,
     "metadata": {},
     "output_type": "execute_result"
    }
   ],
   "source": [
    "items = list_items_in_bbox(bboxes[\"pond_inlet\"], \"cis-ice-charts\", sortby=\"+id\")\n",
    "[item[\"properties\"][\"datetime\"] for item in items[\"features\"]]"
   ]
  },
  {
   "cell_type": "markdown",
   "metadata": {},
   "source": [
    "We can also sort by `datetime`. Because `id` includes the value of the datetime, sorting by either probably results in the same results."
   ]
  },
  {
   "cell_type": "code",
   "execution_count": 13,
   "metadata": {},
   "outputs": [
    {
     "name": "stderr",
     "output_type": "stream",
     "text": [
      "INFO:__main__:https://c-stac-api.c-core.app/search?collections=cis-ice-charts&bbox=-80.6,72.2,-75.1,73.2&limit=2&sortby=-datetime\n"
     ]
    },
    {
     "data": {
      "text/plain": [
       "['2022-06-14T00:00:00+00:00', '2022-06-13T00:00:00+00:00']"
      ]
     },
     "execution_count": 13,
     "metadata": {},
     "output_type": "execute_result"
    }
   ],
   "source": [
    "items = list_items_in_bbox(bboxes[\"pond_inlet\"], \"cis-ice-charts\", sortby=\"-datetime\")\n",
    "[item[\"properties\"][\"datetime\"] for item in items[\"features\"]]"
   ]
  },
  {
   "cell_type": "code",
   "execution_count": 14,
   "metadata": {},
   "outputs": [
    {
     "name": "stderr",
     "output_type": "stream",
     "text": [
      "INFO:__main__:https://c-stac-api.c-core.app/search?collections=cis-ice-charts&bbox=-80.6,72.2,-75.1,73.2&limit=2&sortby=%2Bdatetime\n"
     ]
    },
    {
     "data": {
      "text/plain": [
       "['2021-07-16T18:00:00+00:00', '2021-07-17T18:00:00+00:00']"
      ]
     },
     "execution_count": 14,
     "metadata": {},
     "output_type": "execute_result"
    }
   ],
   "source": [
    "items = list_items_in_bbox(bboxes[\"pond_inlet\"], \"cis-ice-charts\", sortby=\"+datetime\")\n",
    "[item[\"properties\"][\"datetime\"] for item in items[\"features\"]]"
   ]
  },
  {
   "cell_type": "markdown",
   "metadata": {},
   "source": [
    "## Filter by location with geojson\n",
    "This is an example of search by the POST method. It requires providing a JSON body with the search request, but allows for more complex queries, such as intersection with a GeoJSON. \n",
    "\n",
    "For further API details, see https://c-stac-api.c-core.app/docs#/default/Search_search_post .\n",
    "For the API specification, see https://api.stacspec.org/v1.0.0-rc.1/item-search/#operation/postItemSearch\n",
    "\n",
    "Here, we specify GeoJSON polygons surrounding Resolute, Pond Inlet, and the world."
   ]
  },
  {
   "cell_type": "code",
   "execution_count": 15,
   "metadata": {},
   "outputs": [],
   "source": [
    "geojsons = {\n",
    "    \"resolute\": {\n",
    "        \"type\": \"Polygon\",\n",
    "        \"coordinates\": [\n",
    "          [\n",
    "            [\n",
    "              -97.09716796875,\n",
    "              74.27612190544454\n",
    "            ],\n",
    "            [\n",
    "              -92.5103759765625,\n",
    "              74.27612190544454\n",
    "            ],\n",
    "            [\n",
    "              -92.5103759765625,\n",
    "              75.00636121985819\n",
    "            ],\n",
    "            [\n",
    "              -97.09716796875,\n",
    "              75.00636121985819\n",
    "            ],\n",
    "            [\n",
    "              -97.09716796875,\n",
    "              74.27612190544454\n",
    "            ]\n",
    "          ]\n",
    "        ]\n",
    "    },\n",
    "    \"pond_inlet\": {\n",
    "        \"type\": \"Polygon\",\n",
    "        \"coordinates\": [\n",
    "          [\n",
    "            [\n",
    "              -80.606689453125,\n",
    "              72.18852591070342\n",
    "            ],\n",
    "            [\n",
    "              -75.1025390625,\n",
    "              72.18852591070342\n",
    "            ],\n",
    "            [\n",
    "              -75.1025390625,\n",
    "              73.18543401519665\n",
    "            ],\n",
    "            [\n",
    "              -80.606689453125,\n",
    "              73.18543401519665\n",
    "            ],\n",
    "            [\n",
    "              -80.606689453125,\n",
    "              72.18852591070342\n",
    "            ]\n",
    "          ]\n",
    "        ]\n",
    "    },\n",
    "    \"world\": {\n",
    "        \"type\": \"Polygon\",\n",
    "        \"coordinates\": [\n",
    "          [\n",
    "            [\n",
    "              -180,\n",
    "              -90\n",
    "            ],\n",
    "            [\n",
    "              180,\n",
    "              -90\n",
    "            ],\n",
    "            [\n",
    "              180,\n",
    "              90\n",
    "            ],\n",
    "            [\n",
    "              -180,\n",
    "              90\n",
    "            ],\n",
    "            [\n",
    "              -180,\n",
    "              -90\n",
    "            ]\n",
    "          ]\n",
    "        ]\n",
    "    }\n",
    "}"
   ]
  },
  {
   "cell_type": "markdown",
   "metadata": {},
   "source": [
    "A convenience function for requesting a search POST method with an intersecting GeoJSON."
   ]
  },
  {
   "cell_type": "code",
   "execution_count": 16,
   "metadata": {},
   "outputs": [],
   "source": [
    "def list_items_in_geojson(\n",
    "    geojson: Dict, \n",
    "    collection_id: str, \n",
    "    limit: int = 2,\n",
    "    sortby: Optional[List[Dict]] = None,\n",
    "    url: str = api_url\n",
    ") -> List[Dict]:\n",
    "    \"\"\"List items, filtering by geoaptial bbox.\"\"\"\n",
    "    post_url = f\"{url}/search\"\n",
    "    \n",
    "    data = {\n",
    "        \"intersects\": geojson,\n",
    "        \"collections\": [collection_id],\n",
    "        \"limit\": limit,\n",
    "        \"sortby\": sortby,\n",
    "    }\n",
    "    \n",
    "    with httpx.Client(timeout = 20) as client:\n",
    "        log.info(post_url)\n",
    "        log.info(data)\n",
    "        response = client.post(post_url, data=json.dumps(data))\n",
    "    \n",
    "    try:\n",
    "        # Raise exception if status code not 2xx success\n",
    "        response.raise_for_status()\n",
    "    except httpx.HTTPError as exception:\n",
    "        log.exception(exception.response.json())\n",
    "        raise exception\n",
    "    \n",
    "    response_body = response.json()\n",
    "    \n",
    "    return response_body"
   ]
  },
  {
   "cell_type": "markdown",
   "metadata": {},
   "source": [
    "When searching with the POST method, `sortby` accespts an array of dictionaries specifying the `field` and `direction`. Here is a datetime descending sort example."
   ]
  },
  {
   "cell_type": "code",
   "execution_count": 17,
   "metadata": {},
   "outputs": [
    {
     "name": "stderr",
     "output_type": "stream",
     "text": [
      "INFO:__main__:https://c-stac-api.c-core.app/search\n",
      "INFO:__main__:{'intersects': {'type': 'Polygon', 'coordinates': [[[-80.606689453125, 72.18852591070342], [-75.1025390625, 72.18852591070342], [-75.1025390625, 73.18543401519665], [-80.606689453125, 73.18543401519665], [-80.606689453125, 72.18852591070342]]]}, 'collections': ['cis-ice-charts'], 'limit': 2, 'sortby': [{'field': 'datetime', 'direction': 'desc'}]}\n"
     ]
    },
    {
     "data": {
      "text/plain": [
       "['2022-06-14T00:00:00+00:00', '2022-06-13T00:00:00+00:00']"
      ]
     },
     "execution_count": 17,
     "metadata": {},
     "output_type": "execute_result"
    }
   ],
   "source": [
    "sortby = [{\n",
    "    \"field\": \"datetime\",\n",
    "    \"direction\": \"desc\",\n",
    "}]\n",
    "\n",
    "items = list_items_in_geojson(geojsons[\"pond_inlet\"], \"cis-ice-charts\", sortby=sortby)\n",
    "[item[\"properties\"][\"datetime\"] for item in items[\"features\"]]"
   ]
  },
  {
   "cell_type": "markdown",
   "metadata": {},
   "source": [
    "Here is a datetime ascending sourt example."
   ]
  },
  {
   "cell_type": "code",
   "execution_count": 18,
   "metadata": {},
   "outputs": [
    {
     "name": "stderr",
     "output_type": "stream",
     "text": [
      "INFO:__main__:https://c-stac-api.c-core.app/search\n",
      "INFO:__main__:{'intersects': {'type': 'Polygon', 'coordinates': [[[-80.606689453125, 72.18852591070342], [-75.1025390625, 72.18852591070342], [-75.1025390625, 73.18543401519665], [-80.606689453125, 73.18543401519665], [-80.606689453125, 72.18852591070342]]]}, 'collections': ['cis-ice-charts'], 'limit': 2, 'sortby': [{'field': 'datetime', 'direction': 'asc'}]}\n"
     ]
    },
    {
     "data": {
      "text/plain": [
       "['2021-07-16T18:00:00+00:00', '2021-07-17T18:00:00+00:00']"
      ]
     },
     "execution_count": 18,
     "metadata": {},
     "output_type": "execute_result"
    }
   ],
   "source": [
    "sortby = [{\n",
    "    \"field\": \"datetime\",\n",
    "    \"direction\": \"asc\",\n",
    "}]\n",
    "\n",
    "items = list_items_in_geojson(geojsons[\"pond_inlet\"], \"cis-ice-charts\", sortby=sortby)\n",
    "[item[\"properties\"][\"datetime\"] for item in items[\"features\"]]"
   ]
  },
  {
   "cell_type": "markdown",
   "metadata": {},
   "source": [
    "## Example with vector data\n",
    "Let's plot the most recent floe edge polygon data near Resolute."
   ]
  },
  {
   "cell_type": "code",
   "execution_count": 19,
   "metadata": {},
   "outputs": [
    {
     "name": "stderr",
     "output_type": "stream",
     "text": [
      "INFO:__main__:https://c-stac-api.c-core.app/search\n",
      "INFO:__main__:{'intersects': {'type': 'Polygon', 'coordinates': [[[-97.09716796875, 74.27612190544454], [-92.5103759765625, 74.27612190544454], [-92.5103759765625, 75.00636121985819], [-97.09716796875, 75.00636121985819], [-97.09716796875, 74.27612190544454]]]}, 'collections': ['cis-ice-charts'], 'limit': 1, 'sortby': [{'field': 'datetime', 'direction': 'desc'}]}\n"
     ]
    },
    {
     "data": {
      "text/plain": [
       "{'type': 'Feature',\n",
       " 'geometry': {'coordinates': [[[-43.58839173610251, 58.66489376209507],\n",
       "    [-43.58839173610251, 80.80427918352213],\n",
       "    [-103.69417038344184, 80.80427918352213],\n",
       "    [-103.69417038344184, 58.66489376209507],\n",
       "    [-43.58839173610251, 58.66489376209507]]],\n",
       "  'type': 'Polygon'},\n",
       " 'properties': {'datetime': '2022-06-14T00:00:00+00:00'},\n",
       " 'id': 'SGRDAEA_20220614',\n",
       " 'bbox': [-103.69417038344184,\n",
       "  58.66489376209507,\n",
       "  -43.58839173610251,\n",
       "  80.80427918352213],\n",
       " 'assets': {'geojson': {'title': 'GeoJSON',\n",
       "   'description': 'GeoJSON',\n",
       "   'start_datetime': None,\n",
       "   'end_datetime': None,\n",
       "   'created': None,\n",
       "   'updated': None,\n",
       "   'platform': None,\n",
       "   'instruments': None,\n",
       "   'constellation': None,\n",
       "   'mission': None,\n",
       "   'providers': None,\n",
       "   'gsd': None,\n",
       "   'href': 'https://storage.googleapis.com/cis-ice-charts-public/SGRDAEA_20220614/SGRDAEA_20220614.geojson',\n",
       "   'type': 'application/geo+json',\n",
       "   'roles': ['vector-data'],\n",
       "   'uri': 'gs://cis-ice-charts-public/SGRDAEA_20220614/SGRDAEA_20220614.geojson'},\n",
       "  'shapefile': {'title': 'Shapefile',\n",
       "   'description': 'Shapefile',\n",
       "   'start_datetime': None,\n",
       "   'end_datetime': None,\n",
       "   'created': None,\n",
       "   'updated': None,\n",
       "   'platform': None,\n",
       "   'instruments': None,\n",
       "   'constellation': None,\n",
       "   'mission': None,\n",
       "   'providers': None,\n",
       "   'gsd': None,\n",
       "   'href': 'https://storage.googleapis.com/cis-ice-charts-public/SGRDAEA_20220614/SGRDAEA_20220614.tar',\n",
       "   'type': 'application/gzip',\n",
       "   'roles': ['vector-data'],\n",
       "   'uri': 'gs://cis-ice-charts-public/SGRDAEA_20220614/SGRDAEA_20220614.tar'},\n",
       "  'vector_tiles': {'title': 'Mapbox vector tiles',\n",
       "   'description': 'Mapbox vector tiles optimized for web browser',\n",
       "   'start_datetime': None,\n",
       "   'end_datetime': None,\n",
       "   'created': None,\n",
       "   'updated': None,\n",
       "   'platform': None,\n",
       "   'instruments': None,\n",
       "   'constellation': None,\n",
       "   'mission': None,\n",
       "   'providers': None,\n",
       "   'gsd': None,\n",
       "   'href': 'https://storage.googleapis.com/cis-ice-charts-public/SGRDAEA_20220614/{z}/{x}/{y}.pbf',\n",
       "   'type': 'application/vnd.mapbox-vector-tile',\n",
       "   'roles': ['vector-data', 'vector-tiles'],\n",
       "   'uri': 'gs://cis-ice-charts-public/SGRDAEA_20220614/{z}/{x}/{y}.pbf'},\n",
       "  'vector_tile_metadata': {'title': 'Vector tile metadata',\n",
       "   'description': 'Vector tile tileset metadata',\n",
       "   'start_datetime': None,\n",
       "   'end_datetime': None,\n",
       "   'created': None,\n",
       "   'updated': None,\n",
       "   'platform': None,\n",
       "   'instruments': None,\n",
       "   'constellation': None,\n",
       "   'mission': None,\n",
       "   'providers': None,\n",
       "   'gsd': None,\n",
       "   'href': 'https://storage.googleapis.com/cis-ice-charts-public/SGRDAEA_20220614/SGRDAEA_20220614-tileset-metadata.json',\n",
       "   'type': 'application/json',\n",
       "   'roles': ['metadata'],\n",
       "   'uri': 'gs://cis-ice-charts-public/SGRDAEA_20220614/SGRDAEA_20220614-tileset-metadata.json'}},\n",
       " 'links': [{'href': 'http://c-stac-api.c-core.app/collections/cis-ice-charts/items/SGRDAEA_20220614',\n",
       "   'rel': 'self',\n",
       "   'type': 'application/geo+json',\n",
       "   'title': None,\n",
       "   'label': None},\n",
       "  {'href': 'http://c-stac-api.c-core.app/collections/cis-ice-charts',\n",
       "   'rel': 'parent',\n",
       "   'type': 'application/json',\n",
       "   'title': None,\n",
       "   'label': None},\n",
       "  {'href': 'http://c-stac-api.c-core.app/collections/cis-ice-charts',\n",
       "   'rel': 'collection',\n",
       "   'type': 'application/json',\n",
       "   'title': None,\n",
       "   'label': None},\n",
       "  {'href': 'http://c-stac-api.c-core.app/',\n",
       "   'rel': 'root',\n",
       "   'type': 'application/json',\n",
       "   'title': None,\n",
       "   'label': None},\n",
       "  {'href': 'http://c-stac-api.c-core.app/collections/cis-ice-charts/items/SGRDAEA_20220614/tiles',\n",
       "   'rel': 'alternate',\n",
       "   'type': 'application/json',\n",
       "   'title': 'tiles',\n",
       "   'label': None}]}"
      ]
     },
     "execution_count": 19,
     "metadata": {},
     "output_type": "execute_result"
    }
   ],
   "source": [
    "sortby = [{\n",
    "    \"field\": \"datetime\",\n",
    "    \"direction\": \"desc\",\n",
    "}]\n",
    "\n",
    "items = list_items_in_geojson(geojsons[\"resolute\"], \"cis-ice-charts\", sortby=sortby, limit=1)\n",
    "item = items[\"features\"][0]\n",
    "item"
   ]
  },
  {
   "cell_type": "markdown",
   "metadata": {},
   "source": [
    "## Convenience functions\n",
    "A few convenience functions to extract the vector tile url and vector tile metadata from the STAC item."
   ]
  },
  {
   "cell_type": "code",
   "execution_count": 20,
   "metadata": {},
   "outputs": [],
   "source": [
    "def get_vector_tiles_url(item: Dict) -> Optional[str]:\n",
    "    \"\"\"Get vector tiles url from STAC item\"\"\"\n",
    "    try:\n",
    "        url = item[\"assets\"][\"vector_tiles\"][\"href\"]\n",
    "    except KeyError:\n",
    "        log.warning(f\"Item {item['id']} has no vector tile asset\")\n",
    "        return None\n",
    "    \n",
    "    return url"
   ]
  },
  {
   "cell_type": "code",
   "execution_count": 21,
   "metadata": {},
   "outputs": [],
   "source": [
    "def get_vector_tiles_metadata(item: Dict) -> Optional[Dict]:\n",
    "    \"\"\"Get vector tiles metadata from STAC item\"\"\"\n",
    "    try:\n",
    "        if \"vector_tile_metadata\" in item[\"assets\"].keys():\n",
    "            url = item[\"assets\"][\"vector_tile_metadata\"][\"href\"]\n",
    "        else:\n",
    "            url = item[\"assets\"][\"tileset_metadata\"][\"href\"]\n",
    "    except KeyError:\n",
    "        log.warning(f\"Item {item['id']} has no vector tile metadata asset\")\n",
    "        return None\n",
    "    \n",
    "    with httpx.Client(timeout = 20) as client:\n",
    "        log.info(url)\n",
    "        response = client.get(url)\n",
    "    \n",
    "    try:\n",
    "        # Raise exception if status code not 2xx success\n",
    "        response.raise_for_status()\n",
    "    except httpx.HTTPError as exception:\n",
    "        log.exception(exception.response.json())\n",
    "        raise exception\n",
    "    \n",
    "    response_body = response.json()\n",
    "    \n",
    "    return response_body"
   ]
  },
  {
   "cell_type": "markdown",
   "metadata": {},
   "source": [
    "Get the vector tile url and metadata."
   ]
  },
  {
   "cell_type": "code",
   "execution_count": 22,
   "metadata": {},
   "outputs": [
    {
     "data": {
      "text/plain": [
       "'https://storage.googleapis.com/cis-ice-charts-public/SGRDAEA_20220614/{z}/{x}/{y}.pbf'"
      ]
     },
     "execution_count": 22,
     "metadata": {},
     "output_type": "execute_result"
    }
   ],
   "source": [
    "url = get_vector_tiles_url(item)\n",
    "url"
   ]
  },
  {
   "cell_type": "code",
   "execution_count": 23,
   "metadata": {},
   "outputs": [
    {
     "name": "stderr",
     "output_type": "stream",
     "text": [
      "INFO:__main__:https://storage.googleapis.com/cis-ice-charts-public/SGRDAEA_20220614/SGRDAEA_20220614-tileset-metadata.json\n"
     ]
    },
    {
     "data": {
      "text/plain": [
       "{'name': '/tmp/tmp__k1tsg3',\n",
       " 'description': '/tmp/tmp__k1tsg3',\n",
       " 'version': '2',\n",
       " 'minzoom': '1',\n",
       " 'maxzoom': '10',\n",
       " 'center': '-51.855469,64.848834,10',\n",
       " 'bounds': '-103.694170,58.664894,-43.588392,80.804279',\n",
       " 'type': 'overlay',\n",
       " 'format': 'pbf',\n",
       " 'generator': 'tippecanoe v1.36.0',\n",
       " 'generator_options': \"tippecanoe -l data --output-to-directory /tmp/tmp__k1tsg3 '--minimum-zoom=1' --drop-densest-as-needed --extend-zooms-if-still-dropping --read-parallel -z10 --force /tmp/tmp__k1tsg3/SGRDAEA_20220614.geojson\",\n",
       " 'json': '{\"vector_layers\": [ { \"id\": \"data\", \"description\": \"\", \"minzoom\": 1, \"maxzoom\": 10, \"fields\": {\"AREA\": \"Number\", \"CA\": \"String\", \"CB\": \"String\", \"CC\": \"String\", \"CD\": \"String\", \"CF\": \"String\", \"CN\": \"String\", \"CT\": \"String\", \"FA\": \"String\", \"FB\": \"String\", \"FC\": \"String\", \"PERIMETER\": \"Number\", \"POLY_TYPE\": \"String\", \"SA\": \"String\", \"SB\": \"String\", \"SC\": \"String\"} } ],\"tilestats\": {\"layerCount\": 1,\"layers\": [{\"layer\": \"data\",\"count\": 210,\"geometry\": \"Polygon\",\"attributeCount\": 16,\"attributes\": [{\"attribute\": \"AREA\",\"count\": 210,\"type\": \"number\",\"values\": [102497968.709,102947349.508,103171596.52,105303492.861,10625295490.5,10778321737.2,10792326038.3,108776185.565,110115498.948,110454214.815,110477007.919,111310319.528,111436110134,1139650.24659,1142444055.23,1166735494.54,1172532347.75,11954994029.1,1204395717.24,120796670.736,12082794.291,1217400.73361,121770308.175,122145445.352,1223788214.91,1224201184.17,123281454.199,127202132.616,1272106904540,12860267984.4,131182473.407,131940286.387,1345269687.71,134558161.64,136001379.006,137082689.345,138035258.965,1394364813.42,142768637.027,143530572.257,14520038.7468,1477518988.84,1497255.65692,1503218.67764,151879359.508,15917474.4216,16020742977.1,160803749.268,16347389.7014,1636315750.79,163671216.159,164058516.37,165394692.222,16910855.2289,1700349.44043,172576763.729,176472943.606,177842685.35,178296674.125,180840061.31,18149738.7608,18193888979.3,185702667.674,185783958.445,18644269.965,1875641748.99,18997668007.2,193104175.229,1954621.18342,19645757026.9,201054319.185,21016241.585,2167453.06719,218135611.89,22765114.4642,228265845.586,2298781160.37,230836317.785,231847096.477,23414990.1462,235074165.371,235096296.124,23701780.6138,237525037.496,2472557963.51,249531235.089,249673670.229,25389633.3423,25672514.8814,2590477.12718,2607001.5337,262892686.108,264795221.184,265639217.22,268002794.033,271476589.021,2723263.44998,279069770.622,282665968.332,288269800.366],\"min\": 349164.498621,\"max\": 1272106904540},{\"attribute\": \"CA\",\"count\": 5,\"type\": \"string\",\"values\": [\"-9\",\"10\",\"30\",\"40\",\"50\"]},{\"attribute\": \"CB\",\"count\": 6,\"type\": \"string\",\"values\": [\"-9\",\"10\",\"20\",\"40\",\"60\",\"80\"]},{\"attribute\": \"CC\",\"count\": 1,\"type\": \"string\",\"values\": [\"-9\"]},{\"attribute\": \"CD\",\"count\": 1,\"type\": \"string\",\"values\": [\"-9\"]},{\"attribute\": \"CF\",\"count\": 5,\"type\": \"string\",\"values\": [\"0405\",\"05-9\",\"0506\",\"08-9\",\"10-9\"]},{\"attribute\": \"CN\",\"count\": 2,\"type\": \"string\",\"values\": [\"-9\",\"95\"]},{\"attribute\": \"CT\",\"count\": 9,\"type\": \"string\",\"values\": [\"02\",\"20\",\"30\",\"50\",\"60\",\"70\",\"80\",\"90\",\"92\"]},{\"attribute\": \"FA\",\"count\": 4,\"type\": \"string\",\"values\": [\"05\",\"06\",\"08\",\"10\"]},{\"attribute\": \"FB\",\"count\": 3,\"type\": \"string\",\"values\": [\"-9\",\"04\",\"05\"]},{\"attribute\": \"FC\",\"count\": 1,\"type\": \"string\",\"values\": [\"-9\"]},{\"attribute\": \"PERIMETER\",\"count\": 210,\"type\": \"number\",\"values\": [100725.074619,10251.8315203,103765.683607,105520.975843,107300.606864,108590.845221,109917.717364,1101625.05334,11078.1887591,110786.96428,112204.650573,112473.68875,112994.563272,113055.97635,115330.344797,115499.224399,119500.862827,119636.726672,1207727.81194,124711.333252,126280.657457,127288.323315,13142.0392015,134623.207418,13897.484282,13925.6353984,141039.108053,1429816.67046,147345.533841,148130.163958,153007.631132,153150.84226,15480.927264,1577146.15198,160274.124093,161290.123629,162148.220001,162868.395654,1661457.87817,1664625.19821,167224.88343,167348.8048,167929.218811,168587.276218,16942.2997236,170855.718198,170961.55178,17165.1194219,173673.341504,17493.0455299,17840311.5703,179513.319628,1849091.10584,1898253.90663,194063.141523,19517.202847,198401.450295,198577.82816,20325.7453125,205657.946923,209416.122454,21130.9407062,2132211.46337,216693.529868,22458116.7343,22582.8377967,238212.493751,239542.517593,26337.3858212,264223.029212,2669956.35316,27416.4401648,28096.5352936,281594.479274,284498.677219,29367.1955355,30083.9038547,30352.9470094,313265.303511,31346.2349079,314845.14437,31751.5926258,32675.6594908,32866.4575892,3288.37847311,332038.913886,34154.3340184,34454.9806238,3462513.34337,34792.9840319,35576.532634100004,35710.7266651,36428.1664884,364473.572627,366907.062487,372308.07097,37429.405915,38089.3911712,38245.348435,39213.4613747],\"min\": 3288.37847311,\"max\": 65882689.9816},{\"attribute\": \"POLY_TYPE\",\"count\": 4,\"type\": \"string\",\"values\": [\"I\",\"L\",\"N\",\"W\"]},{\"attribute\": \"SA\",\"count\": 5,\"type\": \"string\",\"values\": [\"84\",\"91\",\"93\",\"95\",\"98\"]},{\"attribute\": \"SB\",\"count\": 3,\"type\": \"string\",\"values\": [\"-9\",\"91\",\"93\"]},{\"attribute\": \"SC\",\"count\": 1,\"type\": \"string\",\"values\": [\"-9\"]}]}]}}'}"
      ]
     },
     "execution_count": 23,
     "metadata": {},
     "output_type": "execute_result"
    }
   ],
   "source": [
    "metadata = get_vector_tiles_metadata(item)\n",
    "metadata"
   ]
  },
  {
   "cell_type": "code",
   "execution_count": 24,
   "metadata": {},
   "outputs": [
    {
     "data": {
      "text/plain": [
       "[64.848834, -51.855469]"
      ]
     },
     "execution_count": 24,
     "metadata": {},
     "output_type": "execute_result"
    }
   ],
   "source": [
    "center = [float(coordinate) for coordinate in metadata[\"center\"].split(\",\")[:2]][::-1]\n",
    "center"
   ]
  },
  {
   "cell_type": "markdown",
   "metadata": {},
   "source": [
    "## Plot vector data"
   ]
  },
  {
   "cell_type": "code",
   "execution_count": 25,
   "metadata": {},
   "outputs": [
    {
     "data": {
      "application/vnd.jupyter.widget-view+json": {
       "model_id": "c1651c5bac3e4a77bf0cb4710afbfbb5",
       "version_major": 2,
       "version_minor": 0
      },
      "text/plain": [
       "Map(center=[64.848834, -51.855469], controls=(ZoomControl(options=['position', 'zoom_in_text', 'zoom_in_title'…"
      ]
     },
     "metadata": {},
     "output_type": "display_data"
    }
   ],
   "source": [
    "layer = VectorTileLayer(url=url)\n",
    "map = Map(center=center, zoom=6)\n",
    "map.add_layer(layer)\n",
    "\n",
    "map"
   ]
  },
  {
   "cell_type": "code",
   "execution_count": 26,
   "metadata": {},
   "outputs": [],
   "source": [
    "def get_raster_tiles_url(item: Dict, tms: Optional[bool] = None) -> Optional[str]:\n",
    "    \"\"\"Get raster tiles url from STAC item\"\"\"\n",
    "    try:\n",
    "        url = item[\"assets\"][\"raster_tiles\"][\"href\"]\n",
    "    except KeyError:\n",
    "        log.warning(f\"Item {item['id']} has no raster tile asset\")\n",
    "        return None\n",
    "    \n",
    "    # If url is TMS scheme, need to invert the `y`.\n",
    "    # https://gist.github.com/tmcw/4954720?permalink_comment_id=3768325#gistcomment-3768325\n",
    "    if tms:\n",
    "        url = url.replace(\"{y}\", \"{-y}\")\n",
    "    \n",
    "    return url"
   ]
  },
  {
   "cell_type": "markdown",
   "metadata": {},
   "source": [
    "## GeoJSON\n",
    "Get ice chart as a GeoJSON object."
   ]
  },
  {
   "cell_type": "code",
   "execution_count": 27,
   "metadata": {},
   "outputs": [],
   "source": [
    "def get_geojson(item: Dict) -> Optional[Dict]:\n",
    "    \"\"\"Get ice chart data as geojson.\"\"\"\n",
    "    try:\n",
    "        url = item[\"assets\"][\"geojson\"][\"href\"]\n",
    "    except KeyError:\n",
    "        log.warning(f\"Item {item['id']} has no geojson asset\")\n",
    "        return None\n",
    "    \n",
    "    with httpx.Client(timeout = 20) as client:\n",
    "        log.info(url)\n",
    "        response = client.get(url)\n",
    "    \n",
    "    try:\n",
    "        # Raise exception if status code not 2xx success\n",
    "        response.raise_for_status()\n",
    "    except httpx.HTTPError as exception:\n",
    "        log.exception(exception.response.json())\n",
    "        raise exception\n",
    "    \n",
    "    response_body = response.json()\n",
    "    \n",
    "    return response_body"
   ]
  },
  {
   "cell_type": "code",
   "execution_count": 28,
   "metadata": {},
   "outputs": [
    {
     "name": "stderr",
     "output_type": "stream",
     "text": [
      "INFO:__main__:https://storage.googleapis.com/cis-ice-charts-public/SGRDAEA_20220614/SGRDAEA_20220614.geojson\n"
     ]
    },
    {
     "data": {
      "text/plain": [
       "{'type': 'Feature',\n",
       " 'properties': {'AREA': 44620852.6554,\n",
       "  'PERIMETER': 66516.7286975,\n",
       "  'CT': '92',\n",
       "  'CA': '-9',\n",
       "  'SA': '91',\n",
       "  'FA': '08',\n",
       "  'CB': '-9',\n",
       "  'SB': '-9',\n",
       "  'FB': '-9',\n",
       "  'CC': '-9',\n",
       "  'SC': '-9',\n",
       "  'FC': '-9',\n",
       "  'CN': '-9',\n",
       "  'CD': '-9',\n",
       "  'CF': '08-9',\n",
       "  'POLY_TYPE': 'I'},\n",
       " 'geometry': {'type': 'Polygon',\n",
       "  'coordinates': [[[-64.15422013319042, 59.79000134012374],\n",
       "    [-64.14755279881867, 59.78664048354326],\n",
       "    [-64.15088663325452, 59.77497126268959],\n",
       "    [-64.18172486693128, 59.77372402142633],\n",
       "    [-64.19505307200184, 59.770363266077275],\n",
       "    [-64.19914289023578, 59.76416808252639],\n",
       "    [-64.17749833168766, 59.75997215651503],\n",
       "    [-64.17758167854032, 59.75249887561682],\n",
       "    [-64.19088797540576, 59.74247334113419],\n",
       "    [-64.19088700312501, 59.73913970015188],\n",
       "    [-64.18338771266045, 59.734553656810384],\n",
       "    [-64.1666644512681, 59.73122439429473],\n",
       "    [-64.16007987677175, 59.727055626069244],\n",
       "    [-64.15499881103487, 59.727028189895705],\n",
       "    [-64.15422039868888, 59.7308043878082],\n",
       "    [-64.1467515584276, 59.73041591591316],\n",
       "    [-64.13092070481856, 59.72244288167328],\n",
       "    [-64.13341549496941, 59.7203907852461],\n",
       "    [-64.15172473673901, 59.7203905284426],\n",
       "    [-64.15663887692462, 59.72205777520255],\n",
       "    [-64.16419242834111, 59.712471456351025],\n",
       "    [-64.16249904902216, 59.70249979466974],\n",
       "    [-64.1550299008256, 59.69869646318517],\n",
       "    [-64.14672132541389, 59.69958561295088],\n",
       "    [-64.13502395479233, 59.69458402631623],\n",
       "    [-64.10175190876365, 59.694526875731405],\n",
       "    [-64.09586387162047, 59.70000095954817],\n",
       "    [-64.08335879718645, 59.7045556790716],\n",
       "    [-64.07755310092949, 59.709972876122045],\n",
       "    [-64.09916674845293, 59.71497384092078],\n",
       "    [-64.09674866096543, 59.717109788672545],\n",
       "    [-64.07668961009723, 59.7145844758747],\n",
       "    [-64.06175190529416, 59.70958363706265],\n",
       "    [-64.04333499272802, 59.72039053637858],\n",
       "    [-64.03538732665663, 59.71810937692856],\n",
       "    [-64.0382606335074, 59.71598204562447],\n",
       "    [-64.04123903337738, 59.71361050911772],\n",
       "    [-64.04272806943297, 59.71242471605897],\n",
       "    [-64.04352294346418, 59.710808599448164],\n",
       "    [-64.04548461743003, 59.707279903988365],\n",
       "    [-64.04625073909442, 59.70503104979879],\n",
       "    [-64.04658767385038, 59.701813201378606],\n",
       "    [-64.04658097879036, 59.69952454609164],\n",
       "    [-64.04601622426313, 59.69768058012039],\n",
       "    [-64.04369205290627, 59.69527247157858],\n",
       "    [-64.03862220208812, 59.69177576727443],\n",
       "    [-64.03510397963657, 59.6906472700543],\n",
       "    [-64.02644465598665, 59.68870058665933],\n",
       "    [-64.0234063773954, 59.68751763397553],\n",
       "    [-64.02112275385754, 59.68596037713279],\n",
       "    [-64.03336314746011, 59.682083509636364],\n",
       "    [-64.05000472949504, 59.68041661027399],\n",
       "    [-64.06005880919416, 59.681252081551015],\n",
       "    [-64.07672098087227, 59.68788963533709],\n",
       "    [-64.08338949333573, 59.687916172827414],\n",
       "    [-64.08666957186207, 59.684555373062196],\n",
       "    [-64.09500093874681, 59.68455558434162],\n",
       "    [-64.09841891942817, 59.68208333201287],\n",
       "    [-64.10833013307793, 59.68205711366863],\n",
       "    [-64.17175292301883, 59.689582961558386],\n",
       "    [-64.18919352641329, 59.7074741396886],\n",
       "    [-64.18924692964943, 59.714973760806295],\n",
       "    [-64.19342013780994, 59.717918529861834],\n",
       "    [-64.2142257908826, 59.719139107178194],\n",
       "    [-64.21086190653243, 59.719971092369605],\n",
       "    [-64.21083082930159, 59.72499863458379],\n",
       "    [-64.24253069476205, 59.74250057290437],\n",
       "    [-64.24919114407776, 59.75166740995372],\n",
       "    [-64.25924615008569, 59.75744646329953],\n",
       "    [-64.25922342819713, 59.76247448560968],\n",
       "    [-64.25413566105367, 59.765835133410356],\n",
       "    [-64.26086405792813, 59.77333474427422],\n",
       "    [-64.2575838015904, 59.77661183104702],\n",
       "    [-64.27088960924016, 59.7841379006543],\n",
       "    [-64.26252778107362, 59.7966386892335],\n",
       "    [-64.25341801927607, 59.80125063398681],\n",
       "    [-64.25252496756316, 59.798332645039125],\n",
       "    [-64.25916266882945, 59.794167089020604],\n",
       "    [-64.24996991222537, 59.79039002989253],\n",
       "    [-64.24424747182498, 59.79163788153084],\n",
       "    [-64.23085784048797, 59.7783052599242],\n",
       "    [-64.22177913198013, 59.774555390616435],\n",
       "    [-64.2066651623817, 59.77288833932788],\n",
       "    [-64.19672349389589, 59.77291523746171],\n",
       "    [-64.18174684751199, 59.78125070745541],\n",
       "    [-64.16674858932899, 59.782082045501944],\n",
       "    [-64.16083510691803, 59.784138147672145],\n",
       "    [-64.15755532864712, 59.790832736511994],\n",
       "    [-64.15247395804506, 59.7916110219512],\n",
       "    [-64.15422013319042, 59.79000134012374]]]}}"
      ]
     },
     "execution_count": 28,
     "metadata": {},
     "output_type": "execute_result"
    }
   ],
   "source": [
    "geojson = get_geojson(item)\n",
    "geojson[\"features\"][0]"
   ]
  },
  {
   "cell_type": "markdown",
   "metadata": {},
   "source": [
    "## GeoPandas\n",
    "GeoPandas can read the ice chart directly from the GeoJSON href."
   ]
  },
  {
   "cell_type": "code",
   "execution_count": 29,
   "metadata": {},
   "outputs": [],
   "source": [
    "import geopandas"
   ]
  },
  {
   "cell_type": "code",
   "execution_count": 30,
   "metadata": {},
   "outputs": [
    {
     "data": {
      "text/html": [
       "<div>\n",
       "<style scoped>\n",
       "    .dataframe tbody tr th:only-of-type {\n",
       "        vertical-align: middle;\n",
       "    }\n",
       "\n",
       "    .dataframe tbody tr th {\n",
       "        vertical-align: top;\n",
       "    }\n",
       "\n",
       "    .dataframe thead th {\n",
       "        text-align: right;\n",
       "    }\n",
       "</style>\n",
       "<table border=\"1\" class=\"dataframe\">\n",
       "  <thead>\n",
       "    <tr style=\"text-align: right;\">\n",
       "      <th></th>\n",
       "      <th>AREA</th>\n",
       "      <th>PERIMETER</th>\n",
       "      <th>CT</th>\n",
       "      <th>CA</th>\n",
       "      <th>SA</th>\n",
       "      <th>FA</th>\n",
       "      <th>CB</th>\n",
       "      <th>SB</th>\n",
       "      <th>FB</th>\n",
       "      <th>CC</th>\n",
       "      <th>SC</th>\n",
       "      <th>FC</th>\n",
       "      <th>CN</th>\n",
       "      <th>CD</th>\n",
       "      <th>CF</th>\n",
       "      <th>POLY_TYPE</th>\n",
       "      <th>geometry</th>\n",
       "    </tr>\n",
       "  </thead>\n",
       "  <tbody>\n",
       "    <tr>\n",
       "      <th>0</th>\n",
       "      <td>4.462085e+07</td>\n",
       "      <td>6.651673e+04</td>\n",
       "      <td>92</td>\n",
       "      <td>-9</td>\n",
       "      <td>91</td>\n",
       "      <td>08</td>\n",
       "      <td>-9</td>\n",
       "      <td>-9</td>\n",
       "      <td>-9</td>\n",
       "      <td>-9</td>\n",
       "      <td>-9</td>\n",
       "      <td>-9</td>\n",
       "      <td>-9</td>\n",
       "      <td>-9</td>\n",
       "      <td>08-9</td>\n",
       "      <td>I</td>\n",
       "      <td>POLYGON ((-64.15422 59.79000, -64.14755 59.786...</td>\n",
       "    </tr>\n",
       "    <tr>\n",
       "      <th>1</th>\n",
       "      <td>2.607002e+06</td>\n",
       "      <td>6.506222e+03</td>\n",
       "      <td>92</td>\n",
       "      <td>-9</td>\n",
       "      <td>91</td>\n",
       "      <td>08</td>\n",
       "      <td>-9</td>\n",
       "      <td>-9</td>\n",
       "      <td>-9</td>\n",
       "      <td>-9</td>\n",
       "      <td>-9</td>\n",
       "      <td>-9</td>\n",
       "      <td>-9</td>\n",
       "      <td>-9</td>\n",
       "      <td>08-9</td>\n",
       "      <td>I</td>\n",
       "      <td>POLYGON ((-64.05448 59.79746, -64.05688 59.794...</td>\n",
       "    </tr>\n",
       "    <tr>\n",
       "      <th>2</th>\n",
       "      <td>2.101624e+07</td>\n",
       "      <td>2.809654e+04</td>\n",
       "      <td>92</td>\n",
       "      <td>-9</td>\n",
       "      <td>91</td>\n",
       "      <td>08</td>\n",
       "      <td>-9</td>\n",
       "      <td>-9</td>\n",
       "      <td>-9</td>\n",
       "      <td>-9</td>\n",
       "      <td>-9</td>\n",
       "      <td>-9</td>\n",
       "      <td>-9</td>\n",
       "      <td>-9</td>\n",
       "      <td>08-9</td>\n",
       "      <td>I</td>\n",
       "      <td>POLYGON ((-64.09197 59.86530, -64.09209 59.864...</td>\n",
       "    </tr>\n",
       "    <tr>\n",
       "      <th>3</th>\n",
       "      <td>1.634739e+07</td>\n",
       "      <td>2.032575e+04</td>\n",
       "      <td>92</td>\n",
       "      <td>-9</td>\n",
       "      <td>91</td>\n",
       "      <td>08</td>\n",
       "      <td>-9</td>\n",
       "      <td>-9</td>\n",
       "      <td>-9</td>\n",
       "      <td>-9</td>\n",
       "      <td>-9</td>\n",
       "      <td>-9</td>\n",
       "      <td>-9</td>\n",
       "      <td>-9</td>\n",
       "      <td>08-9</td>\n",
       "      <td>I</td>\n",
       "      <td>POLYGON ((-64.18973 59.96212, -64.17869 59.953...</td>\n",
       "    </tr>\n",
       "    <tr>\n",
       "      <th>4</th>\n",
       "      <td>5.703091e+07</td>\n",
       "      <td>7.939651e+04</td>\n",
       "      <td>92</td>\n",
       "      <td>-9</td>\n",
       "      <td>91</td>\n",
       "      <td>08</td>\n",
       "      <td>-9</td>\n",
       "      <td>-9</td>\n",
       "      <td>-9</td>\n",
       "      <td>-9</td>\n",
       "      <td>-9</td>\n",
       "      <td>-9</td>\n",
       "      <td>-9</td>\n",
       "      <td>-9</td>\n",
       "      <td>08-9</td>\n",
       "      <td>I</td>\n",
       "      <td>POLYGON ((-64.21753 60.01336, -64.22250 60.005...</td>\n",
       "    </tr>\n",
       "    <tr>\n",
       "      <th>...</th>\n",
       "      <td>...</td>\n",
       "      <td>...</td>\n",
       "      <td>...</td>\n",
       "      <td>...</td>\n",
       "      <td>...</td>\n",
       "      <td>...</td>\n",
       "      <td>...</td>\n",
       "      <td>...</td>\n",
       "      <td>...</td>\n",
       "      <td>...</td>\n",
       "      <td>...</td>\n",
       "      <td>...</td>\n",
       "      <td>...</td>\n",
       "      <td>...</td>\n",
       "      <td>...</td>\n",
       "      <td>...</td>\n",
       "      <td>...</td>\n",
       "    </tr>\n",
       "    <tr>\n",
       "      <th>205</th>\n",
       "      <td>9.212271e+10</td>\n",
       "      <td>5.740280e+06</td>\n",
       "      <td>None</td>\n",
       "      <td>None</td>\n",
       "      <td>None</td>\n",
       "      <td>None</td>\n",
       "      <td>None</td>\n",
       "      <td>None</td>\n",
       "      <td>None</td>\n",
       "      <td>None</td>\n",
       "      <td>None</td>\n",
       "      <td>None</td>\n",
       "      <td>None</td>\n",
       "      <td>None</td>\n",
       "      <td>None</td>\n",
       "      <td>L</td>\n",
       "      <td>POLYGON ((-73.13279 79.54962, -73.10728 79.547...</td>\n",
       "    </tr>\n",
       "    <tr>\n",
       "      <th>206</th>\n",
       "      <td>1.360014e+08</td>\n",
       "      <td>5.408321e+04</td>\n",
       "      <td>None</td>\n",
       "      <td>None</td>\n",
       "      <td>None</td>\n",
       "      <td>None</td>\n",
       "      <td>None</td>\n",
       "      <td>None</td>\n",
       "      <td>None</td>\n",
       "      <td>None</td>\n",
       "      <td>None</td>\n",
       "      <td>None</td>\n",
       "      <td>None</td>\n",
       "      <td>None</td>\n",
       "      <td>None</td>\n",
       "      <td>L</td>\n",
       "      <td>POLYGON ((-95.05664 80.69097, -95.02411 80.680...</td>\n",
       "    </tr>\n",
       "    <tr>\n",
       "      <th>207</th>\n",
       "      <td>4.001161e+10</td>\n",
       "      <td>2.669956e+06</td>\n",
       "      <td>None</td>\n",
       "      <td>None</td>\n",
       "      <td>None</td>\n",
       "      <td>None</td>\n",
       "      <td>None</td>\n",
       "      <td>None</td>\n",
       "      <td>None</td>\n",
       "      <td>None</td>\n",
       "      <td>None</td>\n",
       "      <td>None</td>\n",
       "      <td>None</td>\n",
       "      <td>None</td>\n",
       "      <td>None</td>\n",
       "      <td>L</td>\n",
       "      <td>POLYGON ((-90.68412 80.60586, -90.66822 80.605...</td>\n",
       "    </tr>\n",
       "    <tr>\n",
       "      <th>208</th>\n",
       "      <td>1.272107e+12</td>\n",
       "      <td>6.588269e+07</td>\n",
       "      <td>None</td>\n",
       "      <td>None</td>\n",
       "      <td>None</td>\n",
       "      <td>None</td>\n",
       "      <td>None</td>\n",
       "      <td>None</td>\n",
       "      <td>None</td>\n",
       "      <td>None</td>\n",
       "      <td>None</td>\n",
       "      <td>None</td>\n",
       "      <td>None</td>\n",
       "      <td>None</td>\n",
       "      <td>None</td>\n",
       "      <td>N</td>\n",
       "      <td>POLYGON ((-63.50156 79.48926, -63.51160 79.479...</td>\n",
       "    </tr>\n",
       "    <tr>\n",
       "      <th>209</th>\n",
       "      <td>8.091498e+11</td>\n",
       "      <td>2.245812e+07</td>\n",
       "      <td>None</td>\n",
       "      <td>None</td>\n",
       "      <td>None</td>\n",
       "      <td>None</td>\n",
       "      <td>None</td>\n",
       "      <td>None</td>\n",
       "      <td>None</td>\n",
       "      <td>None</td>\n",
       "      <td>None</td>\n",
       "      <td>None</td>\n",
       "      <td>None</td>\n",
       "      <td>None</td>\n",
       "      <td>None</td>\n",
       "      <td>L</td>\n",
       "      <td>POLYGON ((-43.58839 61.29768, -45.24002 60.464...</td>\n",
       "    </tr>\n",
       "  </tbody>\n",
       "</table>\n",
       "<p>210 rows × 17 columns</p>\n",
       "</div>"
      ],
      "text/plain": [
       "             AREA     PERIMETER    CT    CA    SA    FA    CB    SB    FB  \\\n",
       "0    4.462085e+07  6.651673e+04    92    -9    91    08    -9    -9    -9   \n",
       "1    2.607002e+06  6.506222e+03    92    -9    91    08    -9    -9    -9   \n",
       "2    2.101624e+07  2.809654e+04    92    -9    91    08    -9    -9    -9   \n",
       "3    1.634739e+07  2.032575e+04    92    -9    91    08    -9    -9    -9   \n",
       "4    5.703091e+07  7.939651e+04    92    -9    91    08    -9    -9    -9   \n",
       "..            ...           ...   ...   ...   ...   ...   ...   ...   ...   \n",
       "205  9.212271e+10  5.740280e+06  None  None  None  None  None  None  None   \n",
       "206  1.360014e+08  5.408321e+04  None  None  None  None  None  None  None   \n",
       "207  4.001161e+10  2.669956e+06  None  None  None  None  None  None  None   \n",
       "208  1.272107e+12  6.588269e+07  None  None  None  None  None  None  None   \n",
       "209  8.091498e+11  2.245812e+07  None  None  None  None  None  None  None   \n",
       "\n",
       "       CC    SC    FC    CN    CD    CF POLY_TYPE  \\\n",
       "0      -9    -9    -9    -9    -9  08-9         I   \n",
       "1      -9    -9    -9    -9    -9  08-9         I   \n",
       "2      -9    -9    -9    -9    -9  08-9         I   \n",
       "3      -9    -9    -9    -9    -9  08-9         I   \n",
       "4      -9    -9    -9    -9    -9  08-9         I   \n",
       "..    ...   ...   ...   ...   ...   ...       ...   \n",
       "205  None  None  None  None  None  None         L   \n",
       "206  None  None  None  None  None  None         L   \n",
       "207  None  None  None  None  None  None         L   \n",
       "208  None  None  None  None  None  None         N   \n",
       "209  None  None  None  None  None  None         L   \n",
       "\n",
       "                                              geometry  \n",
       "0    POLYGON ((-64.15422 59.79000, -64.14755 59.786...  \n",
       "1    POLYGON ((-64.05448 59.79746, -64.05688 59.794...  \n",
       "2    POLYGON ((-64.09197 59.86530, -64.09209 59.864...  \n",
       "3    POLYGON ((-64.18973 59.96212, -64.17869 59.953...  \n",
       "4    POLYGON ((-64.21753 60.01336, -64.22250 60.005...  \n",
       "..                                                 ...  \n",
       "205  POLYGON ((-73.13279 79.54962, -73.10728 79.547...  \n",
       "206  POLYGON ((-95.05664 80.69097, -95.02411 80.680...  \n",
       "207  POLYGON ((-90.68412 80.60586, -90.66822 80.605...  \n",
       "208  POLYGON ((-63.50156 79.48926, -63.51160 79.479...  \n",
       "209  POLYGON ((-43.58839 61.29768, -45.24002 60.464...  \n",
       "\n",
       "[210 rows x 17 columns]"
      ]
     },
     "execution_count": 30,
     "metadata": {},
     "output_type": "execute_result"
    }
   ],
   "source": [
    "data_frame = geopandas.read_file(item[\"assets\"][\"geojson\"][\"href\"])\n",
    "data_frame"
   ]
  },
  {
   "cell_type": "markdown",
   "metadata": {},
   "source": [
    "## Plot with GeoPandas\n",
    "GeoPandas has it's own default plot method."
   ]
  },
  {
   "cell_type": "code",
   "execution_count": 31,
   "metadata": {},
   "outputs": [
    {
     "data": {
      "text/plain": [
       "<AxesSubplot:>"
      ]
     },
     "execution_count": 31,
     "metadata": {},
     "output_type": "execute_result"
    },
    {
     "data": {
      "image/png": "[encoded data removed]",
      "text/plain": [
       "<Figure size 432x288 with 1 Axes>"
      ]
     },
     "metadata": {
      "needs_background": "light"
     },
     "output_type": "display_data"
    }
   ],
   "source": [
    "data_frame.plot()"
   ]
  },
  {
   "cell_type": "markdown",
   "metadata": {},
   "source": [
    "## Download original Shapefile\n",
    "The original shapefile, as received from the Canadian Ice Services, can also be downloaded."
   ]
  },
  {
   "cell_type": "code",
   "execution_count": 32,
   "metadata": {},
   "outputs": [
    {
     "data": {
      "text/plain": [
       "'https://storage.googleapis.com/cis-ice-charts-public/SGRDAEA_20220614/SGRDAEA_20220614.tar'"
      ]
     },
     "execution_count": 32,
     "metadata": {},
     "output_type": "execute_result"
    }
   ],
   "source": [
    "item[\"assets\"][\"shapefile\"][\"href\"]"
   ]
  },
  {
   "cell_type": "code",
   "execution_count": 33,
   "metadata": {},
   "outputs": [],
   "source": [
    "import urllib.request\n",
    "from pathlib import Path"
   ]
  },
  {
   "cell_type": "code",
   "execution_count": 34,
   "metadata": {},
   "outputs": [
    {
     "data": {
      "text/plain": [
       "('SGRDAEA_20220614.tar', <http.client.HTTPMessage at 0x7f57e42cacb0>)"
      ]
     },
     "execution_count": 34,
     "metadata": {},
     "output_type": "execute_result"
    }
   ],
   "source": [
    "result = urllib.request.urlretrieve(item[\"assets\"][\"shapefile\"][\"href\"], f\"{item['id']}.tar\")\n",
    "result"
   ]
  },
  {
   "cell_type": "markdown",
   "metadata": {},
   "source": [
    "Confirm shapefile exists on local storage"
   ]
  },
  {
   "cell_type": "code",
   "execution_count": 35,
   "metadata": {},
   "outputs": [
    {
     "data": {
      "text/plain": [
       "True"
      ]
     },
     "execution_count": 35,
     "metadata": {},
     "output_type": "execute_result"
    }
   ],
   "source": [
    "Path(result[0]).exists()"
   ]
  }
 ],
 "metadata": {
  "kernelspec": {
   "display_name": "Python 3 (ipykernel)",
   "language": "python",
   "name": "python3"
  },
  "language_info": {
   "codemirror_mode": {
    "name": "ipython",
    "version": 3
   },
   "file_extension": ".py",
   "mimetype": "text/x-python",
   "name": "python",
   "nbconvert_exporter": "python",
   "pygments_lexer": "ipython3",
   "version": "3.10.5"
  }
 },
 "nbformat": 4,
 "nbformat_minor": 4
}
