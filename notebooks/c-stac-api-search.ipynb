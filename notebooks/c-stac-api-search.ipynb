{
 "cells": [
  {
   "cell_type": "code",
   "execution_count": 1,
   "metadata": {},
   "outputs": [],
   "source": [
    "from typing import List, Dict, Optional\n",
    "import urllib.parse\n",
    "import json\n",
    "import httpx\n",
    "import logging\n",
    "\n",
    "\n",
    "logging.basicConfig(level=logging.INFO)\n",
    "log = logging.getLogger(__name__)"
   ]
  },
  {
   "cell_type": "markdown",
   "metadata": {},
   "source": [
    "## Base URL for the API\n",
    "For API documentation, see https://c-stac-api.c-core.app/docs"
   ]
  },
  {
   "cell_type": "code",
   "execution_count": 2,
   "metadata": {},
   "outputs": [],
   "source": [
    "api_url = \"https://c-stac-api.c-core.app\""
   ]
  },
  {
   "cell_type": "markdown",
   "metadata": {},
   "source": [
    "## List all collection IDs in the catalog"
   ]
  },
  {
   "cell_type": "code",
   "execution_count": 3,
   "metadata": {},
   "outputs": [],
   "source": [
    "def list_collection_ids(url: str = api_url) -> List[str]:\n",
    "    \"\"\"List collection IDs in the catalog.\"\"\"\n",
    "    get_url = f\"{url}/collections\"\n",
    "    \n",
    "    with httpx.Client(timeout = 20) as client:\n",
    "        response = client.get(get_url)\n",
    "    \n",
    "    # Raise exception if status code not 2xx success\n",
    "    response.raise_for_status()\n",
    "    \n",
    "    response_body = response.json()\n",
    "    collections = response_body[\"collections\"]\n",
    "    collection_ids = [collection[\"id\"] for collection in collections]\n",
    "    \n",
    "    return collection_ids\n",
    "    "
   ]
  },
  {
   "cell_type": "code",
   "execution_count": 4,
   "metadata": {},
   "outputs": [
    {
     "data": {
      "text/plain": [
       "['joplin',\n",
       " 'ice-drift-feature-tracking',\n",
       " 'floe-edge-convergence',\n",
       " 'floe-edge-coherence',\n",
       " 'floe-edge-linestrings',\n",
       " 'floe-edge-polygons']"
      ]
     },
     "execution_count": 4,
     "metadata": {},
     "output_type": "execute_result"
    }
   ],
   "source": [
    "list_collection_ids()"
   ]
  },
  {
   "cell_type": "markdown",
   "metadata": {},
   "source": [
    "## List items in collection"
   ]
  },
  {
   "cell_type": "code",
   "execution_count": 5,
   "metadata": {},
   "outputs": [],
   "source": [
    "def list_items( \n",
    "    collection_id: str, \n",
    "    limit: int = 2,\n",
    "    sortby: Optional[str] = \"-id\",\n",
    "    url: str = api_url) -> List[Dict]:\n",
    "    \"\"\"List items, filtering by geoaptial bbox.\"\"\"\n",
    "    # `sortby` need to be urlencoded because it accepts `+`\n",
    "    url_parameters = f\"collections={collection_id}&limit={limit}&sortby={urllib.parse.quote(sortby)}\"\n",
    "    get_collections_url = f\"{url}/search?{url_parameters}\"\n",
    "    \n",
    "    with httpx.Client(timeout = 20) as client:\n",
    "        log.info(get_collections_url)\n",
    "        response = client.get(get_collections_url)\n",
    "    \n",
    "    # Raise exception if status code not 2xx success\n",
    "    response.raise_for_status()\n",
    "    \n",
    "    response_body = response.json()\n",
    "    \n",
    "    return response_body"
   ]
  },
  {
   "cell_type": "code",
   "execution_count": 6,
   "metadata": {},
   "outputs": [
    {
     "name": "stderr",
     "output_type": "stream",
     "text": [
      "INFO:__main__:https://c-stac-api.c-core.app/search?collections=floe-edge-linestrings&limit=2&sortby=-id\n"
     ]
    },
    {
     "data": {
      "text/plain": [
       "['2021-12-28T12:34:53+00:00', '2021-12-24T13:07:39+00:00']"
      ]
     },
     "execution_count": 6,
     "metadata": {},
     "output_type": "execute_result"
    }
   ],
   "source": [
    "items = list_items(\"floe-edge-linestrings\", sortby=\"-id\")\n",
    "[item[\"properties\"][\"datetime\"] for item in items[\"features\"]]"
   ]
  },
  {
   "cell_type": "code",
   "execution_count": 7,
   "metadata": {},
   "outputs": [
    {
     "name": "stderr",
     "output_type": "stream",
     "text": [
      "INFO:__main__:https://c-stac-api.c-core.app/search?collections=floe-edge-linestrings&limit=2&sortby=%2Bid\n"
     ]
    },
    {
     "data": {
      "text/plain": [
       "['2019-12-16T12:25:42+00:00', '2019-12-18T12:25:42+00:00']"
      ]
     },
     "execution_count": 7,
     "metadata": {},
     "output_type": "execute_result"
    }
   ],
   "source": [
    "items = list_items(\"floe-edge-linestrings\", sortby=\"+id\")\n",
    "[item[\"properties\"][\"datetime\"] for item in items[\"features\"]]"
   ]
  },
  {
   "cell_type": "markdown",
   "metadata": {},
   "source": [
    "## Filter by location with bbox\n",
    "For further API details, see https://api.stacspec.org/v1.0.0-rc.1/item-search/#operation/getItemSearch"
   ]
  },
  {
   "cell_type": "code",
   "execution_count": 8,
   "metadata": {},
   "outputs": [],
   "source": [
    "def list_items_in_bbox(\n",
    "    bbox: List[float], \n",
    "    collection_id: str, \n",
    "    limit: int = 2,\n",
    "    sortby: Optional[str] = \"-id\",\n",
    "    url: str = api_url) -> List[Dict]:\n",
    "    \"\"\"List items, filtering by geoaptial bbox.\"\"\"\n",
    "    bbox_parameter = \",\".join([str(coordinate) for coordinate in bbox])\n",
    "    \n",
    "    # `sortby` need to be urlencoded because it accepts `+`\n",
    "    url_parameters = f\"collections={collection_id}&bbox={bbox_parameter}&limit={limit}&sortby={urllib.parse.quote(sortby)}\"\n",
    "    get_collections_url = f\"{url}/search?{url_parameters}\"\n",
    "    \n",
    "    with httpx.Client(timeout = 20) as client:\n",
    "        log.info(get_collections_url)\n",
    "        response = client.get(get_collections_url)\n",
    "    \n",
    "    # Raise exception if status code not 2xx success\n",
    "    response.raise_for_status()\n",
    "    \n",
    "    response_body = response.json()\n",
    "    \n",
    "    return response_body"
   ]
  },
  {
   "cell_type": "code",
   "execution_count": 9,
   "metadata": {},
   "outputs": [],
   "source": [
    "bboxes = {\n",
    "    \"resolute\": [-97.1, 74.3, -92.5, 75.0],\n",
    "    \"pond_inlet\": [-80.6, 72.2, -75.1, 73.2],\n",
    "    \"world\": [-180, -90, 180, 90],\n",
    "}"
   ]
  },
  {
   "cell_type": "code",
   "execution_count": 10,
   "metadata": {},
   "outputs": [
    {
     "name": "stderr",
     "output_type": "stream",
     "text": [
      "INFO:__main__:https://c-stac-api.c-core.app/search?collections=floe-edge-linestrings&bbox=-80.6,72.2,-75.1,73.2&limit=2&sortby=-id\n"
     ]
    },
    {
     "data": {
      "text/plain": [
       "['2021-12-24T11:30:21+00:00', '2021-12-19T12:10:31+00:00']"
      ]
     },
     "execution_count": 10,
     "metadata": {},
     "output_type": "execute_result"
    }
   ],
   "source": [
    "items = list_items_in_bbox(bboxes[\"pond_inlet\"], \"floe-edge-linestrings\", sortby=\"-id\")\n",
    "[item[\"properties\"][\"datetime\"] for item in items[\"features\"]]"
   ]
  },
  {
   "cell_type": "code",
   "execution_count": 11,
   "metadata": {},
   "outputs": [
    {
     "name": "stderr",
     "output_type": "stream",
     "text": [
      "INFO:__main__:https://c-stac-api.c-core.app/search?collections=floe-edge-linestrings&bbox=-80.6,72.2,-75.1,73.2&limit=2&sortby=%2Bid\n"
     ]
    },
    {
     "data": {
      "text/plain": [
       "['2020-10-18T12:18:38+00:00', '2020-10-19T12:11:15+00:00']"
      ]
     },
     "execution_count": 11,
     "metadata": {},
     "output_type": "execute_result"
    }
   ],
   "source": [
    "items = list_items_in_bbox(bboxes[\"pond_inlet\"], \"floe-edge-linestrings\", sortby=\"+id\")\n",
    "[item[\"properties\"][\"datetime\"] for item in items[\"features\"]]"
   ]
  },
  {
   "cell_type": "code",
   "execution_count": 12,
   "metadata": {},
   "outputs": [
    {
     "name": "stderr",
     "output_type": "stream",
     "text": [
      "INFO:__main__:https://c-stac-api.c-core.app/search?collections=floe-edge-linestrings&bbox=-80.6,72.2,-75.1,73.2&limit=2&sortby=-datetime\n"
     ]
    },
    {
     "data": {
      "text/plain": [
       "['2021-12-24T11:30:21+00:00', '2021-12-19T12:10:31+00:00']"
      ]
     },
     "execution_count": 12,
     "metadata": {},
     "output_type": "execute_result"
    }
   ],
   "source": [
    "items = list_items_in_bbox(bboxes[\"pond_inlet\"], \"floe-edge-linestrings\", sortby=\"-datetime\")\n",
    "[item[\"properties\"][\"datetime\"] for item in items[\"features\"]]"
   ]
  },
  {
   "cell_type": "code",
   "execution_count": 13,
   "metadata": {},
   "outputs": [
    {
     "name": "stderr",
     "output_type": "stream",
     "text": [
      "INFO:__main__:https://c-stac-api.c-core.app/search?collections=floe-edge-linestrings&bbox=-80.6,72.2,-75.1,73.2&limit=2&sortby=%2Bdatetime\n"
     ]
    },
    {
     "data": {
      "text/plain": [
       "['2020-10-18T12:18:38+00:00', '2020-10-19T12:11:15+00:00']"
      ]
     },
     "execution_count": 13,
     "metadata": {},
     "output_type": "execute_result"
    }
   ],
   "source": [
    "items = list_items_in_bbox(bboxes[\"pond_inlet\"], \"floe-edge-linestrings\", sortby=\"+datetime\")\n",
    "[item[\"properties\"][\"datetime\"] for item in items[\"features\"]]"
   ]
  },
  {
   "cell_type": "markdown",
   "metadata": {},
   "source": [
    "## Filter by location with geojson\n",
    "For further API details, see https://api.stacspec.org/v1.0.0-rc.1/item-search/#operation/postItemSearch"
   ]
  },
  {
   "cell_type": "code",
   "execution_count": 14,
   "metadata": {},
   "outputs": [],
   "source": [
    "geojsons = {\n",
    "    \"tutoyaktuk\": {\n",
    "        \"type\": \"Polygon\",\n",
    "        \"coordinates\": [\n",
    "          [\n",
    "            [\n",
    "              -97.09716796875,\n",
    "              74.27612190544454\n",
    "            ],\n",
    "            [\n",
    "              -92.5103759765625,\n",
    "              74.27612190544454\n",
    "            ],\n",
    "            [\n",
    "              -92.5103759765625,\n",
    "              75.00636121985819\n",
    "            ],\n",
    "            [\n",
    "              -97.09716796875,\n",
    "              75.00636121985819\n",
    "            ],\n",
    "            [\n",
    "              -97.09716796875,\n",
    "              74.27612190544454\n",
    "            ]\n",
    "          ]\n",
    "        ]\n",
    "    },\n",
    "    \"pond_inlet\": {\n",
    "        \"type\": \"Polygon\",\n",
    "        \"coordinates\": [\n",
    "          [\n",
    "            [\n",
    "              -80.606689453125,\n",
    "              72.18852591070342\n",
    "            ],\n",
    "            [\n",
    "              -75.1025390625,\n",
    "              72.18852591070342\n",
    "            ],\n",
    "            [\n",
    "              -75.1025390625,\n",
    "              73.18543401519665\n",
    "            ],\n",
    "            [\n",
    "              -80.606689453125,\n",
    "              73.18543401519665\n",
    "            ],\n",
    "            [\n",
    "              -80.606689453125,\n",
    "              72.18852591070342\n",
    "            ]\n",
    "          ]\n",
    "        ]\n",
    "    },\n",
    "    \"world\": {\n",
    "        \"type\": \"Polygon\",\n",
    "        \"coordinates\": [\n",
    "          [\n",
    "            [\n",
    "              -180,\n",
    "              -90\n",
    "            ],\n",
    "            [\n",
    "              180,\n",
    "              -90\n",
    "            ],\n",
    "            [\n",
    "              180,\n",
    "              90\n",
    "            ],\n",
    "            [\n",
    "              -180,\n",
    "              90\n",
    "            ],\n",
    "            [\n",
    "              -180,\n",
    "              -90\n",
    "            ]\n",
    "          ]\n",
    "        ]\n",
    "    }\n",
    "}"
   ]
  },
  {
   "cell_type": "code",
   "execution_count": 26,
   "metadata": {},
   "outputs": [],
   "source": [
    "def list_items_in_geojson(\n",
    "    geojson: Dict, \n",
    "    collection_id: str, \n",
    "    limit: int = 2,\n",
    "    sortby: Optional[str] = \"-id\",\n",
    "    url: str = api_url) -> List[Dict]:\n",
    "    \"\"\"List items, filtering by geoaptial bbox.\"\"\"\n",
    "\n",
    "    post_url = f\"{url}/search\"\n",
    "    \n",
    "    data = {\n",
    "        \"intersects\": geojson,\n",
    "        \"collections\": [collection_id],\n",
    "        \"limit\": limit,\n",
    "        \"sortby\": [sortby],\n",
    "    }\n",
    "    \n",
    "    with httpx.Client(timeout = 20) as client:\n",
    "        log.info(post_url)\n",
    "        log.info(data)\n",
    "        response = client.post(post_url, data=json.dumps(data))\n",
    "    \n",
    "    try:\n",
    "        # Raise exception if status code not 2xx success\n",
    "        response.raise_for_status()\n",
    "    except httpx.HTTPError as exception:\n",
    "        log.exception(exception.response.json())\n",
    "        raise exception\n",
    "    \n",
    "    response_body = response.json()\n",
    "    \n",
    "    return response_body"
   ]
  },
  {
   "cell_type": "code",
   "execution_count": 27,
   "metadata": {},
   "outputs": [
    {
     "name": "stderr",
     "output_type": "stream",
     "text": [
      "INFO:__main__:https://c-stac-api.c-core.app/search\n",
      "INFO:__main__:{'intersects': {'type': 'Polygon', 'coordinates': [[[-80.606689453125, 72.18852591070342], [-75.1025390625, 72.18852591070342], [-75.1025390625, 73.18543401519665], [-80.606689453125, 73.18543401519665], [-80.606689453125, 72.18852591070342]]]}, 'collections': ['floe-edge-linestrings'], 'limit': 2, 'sortby': ['-datetime']}\n",
      "ERROR:__main__:{'detail': [{'loc': ['body', 'sortby', 0], 'msg': 'value is not a valid dict', 'type': 'type_error.dict'}]}\n",
      "Traceback (most recent call last):\n",
      "  File \"<ipython-input-26-9c792de08ff6>\", line 25, in list_items_in_geojson\n",
      "    response.raise_for_status()\n",
      "  File \"/home/jthetzel/.cache/pypoetry/virtualenvs/notebooks-4iuYC0qS-py3.9/lib/python3.9/site-packages/httpx/_models.py\", line 1510, in raise_for_status\n",
      "    raise HTTPStatusError(message, request=request, response=self)\n",
      "httpx.HTTPStatusError: Client error '400 Bad Request' for url 'https://c-stac-api.c-core.app/search'\n",
      "For more information check: https://httpstatuses.com/400\n"
     ]
    },
    {
     "ename": "HTTPStatusError",
     "evalue": "Client error '400 Bad Request' for url 'https://c-stac-api.c-core.app/search'\nFor more information check: https://httpstatuses.com/400",
     "output_type": "error",
     "traceback": [
      "\u001b[0;31m---------------------------------------------------------------------------\u001b[0m",
      "\u001b[0;31mHTTPStatusError\u001b[0m                           Traceback (most recent call last)",
      "\u001b[0;32m<ipython-input-27-4cdd04c5d187>\u001b[0m in \u001b[0;36m<module>\u001b[0;34m\u001b[0m\n\u001b[0;32m----> 1\u001b[0;31m \u001b[0mitems\u001b[0m \u001b[0;34m=\u001b[0m \u001b[0mlist_items_in_geojson\u001b[0m\u001b[0;34m(\u001b[0m\u001b[0mgeojsons\u001b[0m\u001b[0;34m[\u001b[0m\u001b[0;34m\"pond_inlet\"\u001b[0m\u001b[0;34m]\u001b[0m\u001b[0;34m,\u001b[0m \u001b[0;34m\"floe-edge-linestrings\"\u001b[0m\u001b[0;34m,\u001b[0m \u001b[0msortby\u001b[0m\u001b[0;34m=\u001b[0m\u001b[0;34m\"-datetime\"\u001b[0m\u001b[0;34m)\u001b[0m\u001b[0;34m\u001b[0m\u001b[0;34m\u001b[0m\u001b[0m\n\u001b[0m\u001b[1;32m      2\u001b[0m \u001b[0;34m[\u001b[0m\u001b[0mitem\u001b[0m\u001b[0;34m[\u001b[0m\u001b[0;34m\"properties\"\u001b[0m\u001b[0;34m]\u001b[0m\u001b[0;34m[\u001b[0m\u001b[0;34m\"datetime\"\u001b[0m\u001b[0;34m]\u001b[0m \u001b[0;32mfor\u001b[0m \u001b[0mitem\u001b[0m \u001b[0;32min\u001b[0m \u001b[0mitems\u001b[0m\u001b[0;34m[\u001b[0m\u001b[0;34m\"features\"\u001b[0m\u001b[0;34m]\u001b[0m\u001b[0;34m]\u001b[0m\u001b[0;34m\u001b[0m\u001b[0;34m\u001b[0m\u001b[0m\n",
      "\u001b[0;32m<ipython-input-26-9c792de08ff6>\u001b[0m in \u001b[0;36mlist_items_in_geojson\u001b[0;34m(geojson, collection_id, limit, sortby, url)\u001b[0m\n\u001b[1;32m     26\u001b[0m     \u001b[0;32mexcept\u001b[0m \u001b[0mhttpx\u001b[0m\u001b[0;34m.\u001b[0m\u001b[0mHTTPError\u001b[0m \u001b[0;32mas\u001b[0m \u001b[0mexception\u001b[0m\u001b[0;34m:\u001b[0m\u001b[0;34m\u001b[0m\u001b[0;34m\u001b[0m\u001b[0m\n\u001b[1;32m     27\u001b[0m         \u001b[0mlog\u001b[0m\u001b[0;34m.\u001b[0m\u001b[0mexception\u001b[0m\u001b[0;34m(\u001b[0m\u001b[0mexception\u001b[0m\u001b[0;34m.\u001b[0m\u001b[0mresponse\u001b[0m\u001b[0;34m.\u001b[0m\u001b[0mjson\u001b[0m\u001b[0;34m(\u001b[0m\u001b[0;34m)\u001b[0m\u001b[0;34m)\u001b[0m\u001b[0;34m\u001b[0m\u001b[0;34m\u001b[0m\u001b[0m\n\u001b[0;32m---> 28\u001b[0;31m         \u001b[0;32mraise\u001b[0m \u001b[0mexception\u001b[0m\u001b[0;34m\u001b[0m\u001b[0;34m\u001b[0m\u001b[0m\n\u001b[0m\u001b[1;32m     29\u001b[0m \u001b[0;34m\u001b[0m\u001b[0m\n\u001b[1;32m     30\u001b[0m     \u001b[0mresponse_body\u001b[0m \u001b[0;34m=\u001b[0m \u001b[0mresponse\u001b[0m\u001b[0;34m.\u001b[0m\u001b[0mjson\u001b[0m\u001b[0;34m(\u001b[0m\u001b[0;34m)\u001b[0m\u001b[0;34m\u001b[0m\u001b[0;34m\u001b[0m\u001b[0m\n",
      "\u001b[0;32m<ipython-input-26-9c792de08ff6>\u001b[0m in \u001b[0;36mlist_items_in_geojson\u001b[0;34m(geojson, collection_id, limit, sortby, url)\u001b[0m\n\u001b[1;32m     23\u001b[0m     \u001b[0;32mtry\u001b[0m\u001b[0;34m:\u001b[0m\u001b[0;34m\u001b[0m\u001b[0;34m\u001b[0m\u001b[0m\n\u001b[1;32m     24\u001b[0m         \u001b[0;31m# Raise exception if status code not 2xx success\u001b[0m\u001b[0;34m\u001b[0m\u001b[0;34m\u001b[0m\u001b[0;34m\u001b[0m\u001b[0m\n\u001b[0;32m---> 25\u001b[0;31m         \u001b[0mresponse\u001b[0m\u001b[0;34m.\u001b[0m\u001b[0mraise_for_status\u001b[0m\u001b[0;34m(\u001b[0m\u001b[0;34m)\u001b[0m\u001b[0;34m\u001b[0m\u001b[0;34m\u001b[0m\u001b[0m\n\u001b[0m\u001b[1;32m     26\u001b[0m     \u001b[0;32mexcept\u001b[0m \u001b[0mhttpx\u001b[0m\u001b[0;34m.\u001b[0m\u001b[0mHTTPError\u001b[0m \u001b[0;32mas\u001b[0m \u001b[0mexception\u001b[0m\u001b[0;34m:\u001b[0m\u001b[0;34m\u001b[0m\u001b[0;34m\u001b[0m\u001b[0m\n\u001b[1;32m     27\u001b[0m         \u001b[0mlog\u001b[0m\u001b[0;34m.\u001b[0m\u001b[0mexception\u001b[0m\u001b[0;34m(\u001b[0m\u001b[0mexception\u001b[0m\u001b[0;34m.\u001b[0m\u001b[0mresponse\u001b[0m\u001b[0;34m.\u001b[0m\u001b[0mjson\u001b[0m\u001b[0;34m(\u001b[0m\u001b[0;34m)\u001b[0m\u001b[0;34m)\u001b[0m\u001b[0;34m\u001b[0m\u001b[0;34m\u001b[0m\u001b[0m\n",
      "\u001b[0;32m~/.cache/pypoetry/virtualenvs/notebooks-4iuYC0qS-py3.9/lib/python3.9/site-packages/httpx/_models.py\u001b[0m in \u001b[0;36mraise_for_status\u001b[0;34m(self)\u001b[0m\n\u001b[1;32m   1508\u001b[0m         \u001b[0merror_type\u001b[0m \u001b[0;34m=\u001b[0m \u001b[0merror_types\u001b[0m\u001b[0;34m.\u001b[0m\u001b[0mget\u001b[0m\u001b[0;34m(\u001b[0m\u001b[0mstatus_class\u001b[0m\u001b[0;34m,\u001b[0m \u001b[0;34m\"Invalid status code\"\u001b[0m\u001b[0;34m)\u001b[0m\u001b[0;34m\u001b[0m\u001b[0;34m\u001b[0m\u001b[0m\n\u001b[1;32m   1509\u001b[0m         \u001b[0mmessage\u001b[0m \u001b[0;34m=\u001b[0m \u001b[0mmessage\u001b[0m\u001b[0;34m.\u001b[0m\u001b[0mformat\u001b[0m\u001b[0;34m(\u001b[0m\u001b[0mself\u001b[0m\u001b[0;34m,\u001b[0m \u001b[0merror_type\u001b[0m\u001b[0;34m=\u001b[0m\u001b[0merror_type\u001b[0m\u001b[0;34m)\u001b[0m\u001b[0;34m\u001b[0m\u001b[0;34m\u001b[0m\u001b[0m\n\u001b[0;32m-> 1510\u001b[0;31m         \u001b[0;32mraise\u001b[0m \u001b[0mHTTPStatusError\u001b[0m\u001b[0;34m(\u001b[0m\u001b[0mmessage\u001b[0m\u001b[0;34m,\u001b[0m \u001b[0mrequest\u001b[0m\u001b[0;34m=\u001b[0m\u001b[0mrequest\u001b[0m\u001b[0;34m,\u001b[0m \u001b[0mresponse\u001b[0m\u001b[0;34m=\u001b[0m\u001b[0mself\u001b[0m\u001b[0;34m)\u001b[0m\u001b[0;34m\u001b[0m\u001b[0;34m\u001b[0m\u001b[0m\n\u001b[0m\u001b[1;32m   1511\u001b[0m \u001b[0;34m\u001b[0m\u001b[0m\n\u001b[1;32m   1512\u001b[0m     \u001b[0;32mdef\u001b[0m \u001b[0mjson\u001b[0m\u001b[0;34m(\u001b[0m\u001b[0mself\u001b[0m\u001b[0;34m,\u001b[0m \u001b[0;34m**\u001b[0m\u001b[0mkwargs\u001b[0m\u001b[0;34m:\u001b[0m \u001b[0mtyping\u001b[0m\u001b[0;34m.\u001b[0m\u001b[0mAny\u001b[0m\u001b[0;34m)\u001b[0m \u001b[0;34m->\u001b[0m \u001b[0mtyping\u001b[0m\u001b[0;34m.\u001b[0m\u001b[0mAny\u001b[0m\u001b[0;34m:\u001b[0m\u001b[0;34m\u001b[0m\u001b[0;34m\u001b[0m\u001b[0m\n",
      "\u001b[0;31mHTTPStatusError\u001b[0m: Client error '400 Bad Request' for url 'https://c-stac-api.c-core.app/search'\nFor more information check: https://httpstatuses.com/400"
     ]
    }
   ],
   "source": [
    "items = list_items_in_geojson(geojsons[\"pond_inlet\"], \"floe-edge-linestrings\", sortby=\"-datetime\")\n",
    "[item[\"properties\"][\"datetime\"] for item in items[\"features\"]]"
   ]
  },
  {
   "cell_type": "code",
   "execution_count": null,
   "metadata": {},
   "outputs": [],
   "source": []
  },
  {
   "cell_type": "code",
   "execution_count": null,
   "metadata": {},
   "outputs": [],
   "source": []
  }
 ],
 "metadata": {
  "kernelspec": {
   "display_name": "Python 3",
   "language": "python",
   "name": "python3"
  },
  "language_info": {
   "codemirror_mode": {
    "name": "ipython",
    "version": 3
   },
   "file_extension": ".py",
   "mimetype": "text/x-python",
   "name": "python",
   "nbconvert_exporter": "python",
   "pygments_lexer": "ipython3",
   "version": "3.9.6"
  }
 },
 "nbformat": 4,
 "nbformat_minor": 4
}
