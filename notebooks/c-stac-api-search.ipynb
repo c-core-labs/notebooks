{
 "cells": [
  {
   "cell_type": "markdown",
   "metadata": {},
   "source": [
    "# Search the C-STAC API by bounding box or geojson\n",
    "Items in the API may be searched by a bounding box or GeoJSON. Items intersecting the bounding box or GeoJSON are returned."
   ]
  },
  {
   "cell_type": "markdown",
   "metadata": {},
   "source": [
    "## Import dependencies"
   ]
  },
  {
   "cell_type": "code",
   "execution_count": 1,
   "metadata": {},
   "outputs": [],
   "source": [
    "from typing import List, Dict, Optional\n",
    "import urllib.parse\n",
    "import json\n",
    "import httpx\n",
    "from ipyleaflet import Map, VectorTileLayer, basemap_to_tiles\n",
    "import logging\n",
    "\n",
    "\n",
    "logging.basicConfig(level=logging.INFO)\n",
    "log = logging.getLogger(__name__)"
   ]
  },
  {
   "cell_type": "markdown",
   "metadata": {},
   "source": [
    "## Base URL for the API\n",
    "For API documentation, see https://c-stac-api.c-core.app/docs\n",
    "C-STAC-API implements the STAC API specification. For further details of the API search specification, see https://api.stacspec.org/v1.0.0-rc.1/item-search/"
   ]
  },
  {
   "cell_type": "code",
   "execution_count": 2,
   "metadata": {},
   "outputs": [],
   "source": [
    "api_url = \"https://c-stac-api.c-core.app\""
   ]
  },
  {
   "cell_type": "markdown",
   "metadata": {},
   "source": [
    "## List all collection IDs in the catalog"
   ]
  },
  {
   "cell_type": "code",
   "execution_count": 3,
   "metadata": {},
   "outputs": [],
   "source": [
    "def list_collection_ids(url: str = api_url) -> List[str]:\n",
    "    \"\"\"List collection IDs in the catalog.\"\"\"\n",
    "    get_url = f\"{url}/collections\"\n",
    "    \n",
    "    with httpx.Client(timeout = 20) as client:\n",
    "        response = client.get(get_url)\n",
    "    \n",
    "    try:\n",
    "        # Raise exception if status code not 2xx success\n",
    "        response.raise_for_status()\n",
    "    except httpx.HTTPError as exception:\n",
    "        log.exception(exception.response.json())\n",
    "        raise exception\n",
    "    \n",
    "    response_body = response.json()\n",
    "    collections = response_body[\"collections\"]\n",
    "    collection_ids = [collection[\"id\"] for collection in collections]\n",
    "    \n",
    "    return collection_ids\n",
    "    "
   ]
  },
  {
   "cell_type": "code",
   "execution_count": 4,
   "metadata": {},
   "outputs": [
    {
     "data": {
      "text/plain": [
       "['joplin',\n",
       " 'floe-edge-linestrings',\n",
       " 'floe-edge-polygons',\n",
       " 'ice-drift-feature-tracking',\n",
       " 'floe-edge-convergence',\n",
       " 'floe-edge-coherence']"
      ]
     },
     "execution_count": 4,
     "metadata": {},
     "output_type": "execute_result"
    }
   ],
   "source": [
    "collection_ids = list_collection_ids()\n",
    "collection_ids"
   ]
  },
  {
   "cell_type": "markdown",
   "metadata": {},
   "source": [
    "## Collection names\n",
    "The database names differ from the common names assigned to the products for reasons of development history. Here is a map:\n",
    "\n",
    "- `joplin`: A test collection that is unrelated to the sea ice products.\n",
    "- `ice-drift-feature-tracking`: Ice tracking.\n",
    "- `floe-edge-convergence`: Land-fast ice motion.\n",
    "- `floe-edge-coherence`: Tidal cracks.\n",
    "- `floe-edge-polygons`: Floe edge as a polygon.\n",
    "- `floe-edge-linestrings`: Floe edge as a linestring."
   ]
  },
  {
   "cell_type": "markdown",
   "metadata": {
    "tags": []
   },
   "source": [
    "## List items in collection\n",
    "This example uses the GET method, which may be easier for simple listings, compared to the POST method. A POST example appears later."
   ]
  },
  {
   "cell_type": "code",
   "execution_count": 5,
   "metadata": {},
   "outputs": [],
   "source": [
    "def list_items( \n",
    "    collection_id: str, \n",
    "    limit: int = 2,\n",
    "    sortby: Optional[str] = \"-id\",\n",
    "    url: str = api_url\n",
    ") -> List[Dict]:\n",
    "    \"\"\"List items, filtering by geoaptial bbox.\"\"\"\n",
    "\n",
    "    # `sortby` need to be urlencoded because it accepts `+`\n",
    "    url_parameters = f\"collections={collection_id}&limit={limit}&sortby={urllib.parse.quote(sortby)}\"\n",
    "    get_collections_url = f\"{url}/search?{url_parameters}\"\n",
    "    \n",
    "    with httpx.Client(timeout = 20) as client:\n",
    "        log.info(get_collections_url)\n",
    "        response = client.get(get_collections_url)\n",
    "    \n",
    "    try:\n",
    "        # Raise exception if status code not 2xx success\n",
    "        response.raise_for_status()\n",
    "    except httpx.HTTPError as exception:\n",
    "        log.exception(exception.response.json())\n",
    "        raise exception\n",
    "    \n",
    "    response_body = response.json()\n",
    "    \n",
    "    return response_body"
   ]
  },
  {
   "cell_type": "markdown",
   "metadata": {},
   "source": [
    "Note we can sort by `id`. For descending sort, specify `-id`."
   ]
  },
  {
   "cell_type": "code",
   "execution_count": 36,
   "metadata": {},
   "outputs": [
    {
     "name": "stderr",
     "output_type": "stream",
     "text": [
      "INFO:__main__:https://c-stac-api.c-core.app/search?collections=floe-edge-polygons&limit=2&sortby=-id\n"
     ]
    },
    {
     "data": {
      "text/plain": [
       "['2022-03-24T12:18:28+00:00', '2022-03-22T12:34:51+00:00']"
      ]
     },
     "execution_count": 36,
     "metadata": {},
     "output_type": "execute_result"
    }
   ],
   "source": [
    "items = list_items(\"floe-edge-polygons\", sortby=\"-id\")\n",
    "[item[\"properties\"][\"datetime\"] for item in items[\"features\"]]"
   ]
  },
  {
   "cell_type": "markdown",
   "metadata": {},
   "source": [
    "For ascending sort, specify `+id`."
   ]
  },
  {
   "cell_type": "code",
   "execution_count": 7,
   "metadata": {},
   "outputs": [
    {
     "name": "stderr",
     "output_type": "stream",
     "text": [
      "INFO:__main__:https://c-stac-api.c-core.app/search?collections=floe-edge-linestrings&limit=2&sortby=%2Bid\n"
     ]
    },
    {
     "data": {
      "text/plain": [
       "['2019-12-16T12:25:42+00:00', '2019-12-18T12:25:42+00:00']"
      ]
     },
     "execution_count": 7,
     "metadata": {},
     "output_type": "execute_result"
    }
   ],
   "source": [
    "items = list_items(\"floe-edge-linestrings\", sortby=\"+id\")\n",
    "[item[\"properties\"][\"datetime\"] for item in items[\"features\"]]"
   ]
  },
  {
   "cell_type": "markdown",
   "metadata": {},
   "source": [
    "## Filter by location with bbox\n",
    "This is an example of search by the GET method, which is a convenient way to search by a bounding box (bbox). A search by POST method for more complex queires is demonstarted later.\n",
    "\n",
    "For further API details, see https://c-stac-api.c-core.app/docs#/default/Search_search_get .\n",
    "For the API specification, see https://api.stacspec.org/v1.0.0-rc.1/item-search/#operation/getItemSearch .\n",
    "\n",
    "The GET method accepts a `bbox` parameter. Here, we specify rough bounding boxes for Resolute, Pond Inlet, and the world. The bbox order is `[lower left longitude, lower left latitude, upper right longitude, upper right latitude]`."
   ]
  },
  {
   "cell_type": "code",
   "execution_count": 8,
   "metadata": {},
   "outputs": [],
   "source": [
    "bboxes = {\n",
    "    \"resolute\": [-97.1, 74.3, -92.5, 75.0],\n",
    "    \"pond_inlet\": [-80.6, 72.2, -75.1, 73.2],\n",
    "    \"world\": [-180, -90, 180, 90],\n",
    "}"
   ]
  },
  {
   "cell_type": "markdown",
   "metadata": {},
   "source": [
    "A convenience function for requesting a search GET method with a bbox."
   ]
  },
  {
   "cell_type": "code",
   "execution_count": 9,
   "metadata": {},
   "outputs": [],
   "source": [
    "def list_items_in_bbox(\n",
    "    bbox: List[float], \n",
    "    collection_id: str, \n",
    "    limit: int = 2,\n",
    "    sortby: Optional[str] = \"-id\",\n",
    "    url: str = api_url\n",
    ") -> List[Dict]:\n",
    "    \"\"\"List items, filtering by geoaptial bbox.\"\"\"\n",
    "    bbox_parameter = \",\".join([str(coordinate) for coordinate in bbox])\n",
    "    \n",
    "    # `sortby` need to be urlencoded because it accepts `+`\n",
    "    url_parameters = f\"collections={collection_id}&bbox={bbox_parameter}&limit={limit}&sortby={urllib.parse.quote(sortby)}\"\n",
    "    get_collections_url = f\"{url}/search?{url_parameters}\"\n",
    "    \n",
    "    with httpx.Client(timeout = 20) as client:\n",
    "        log.info(get_collections_url)\n",
    "        response = client.get(get_collections_url)\n",
    "\n",
    "    try:\n",
    "        # Raise exception if status code not 2xx success\n",
    "        response.raise_for_status()\n",
    "    except httpx.HTTPError as exception:\n",
    "        log.exception(exception.response.json())\n",
    "        raise exception\n",
    "    \n",
    "    response_body = response.json()\n",
    "    \n",
    "    return response_body"
   ]
  },
  {
   "cell_type": "code",
   "execution_count": 10,
   "metadata": {},
   "outputs": [
    {
     "name": "stderr",
     "output_type": "stream",
     "text": [
      "INFO:__main__:https://c-stac-api.c-core.app/search?collections=floe-edge-linestrings&bbox=-80.6,72.2,-75.1,73.2&limit=2&sortby=-id\n"
     ]
    },
    {
     "data": {
      "text/plain": [
       "['2022-03-24T12:18:28+00:00', '2022-03-21T11:53:57+00:00']"
      ]
     },
     "execution_count": 10,
     "metadata": {},
     "output_type": "execute_result"
    }
   ],
   "source": [
    "items = list_items_in_bbox(bboxes[\"pond_inlet\"], \"floe-edge-linestrings\", sortby=\"-id\")\n",
    "[item[\"properties\"][\"datetime\"] for item in items[\"features\"]]"
   ]
  },
  {
   "cell_type": "code",
   "execution_count": 11,
   "metadata": {},
   "outputs": [
    {
     "name": "stderr",
     "output_type": "stream",
     "text": [
      "INFO:__main__:https://c-stac-api.c-core.app/search?collections=floe-edge-linestrings&bbox=-80.6,72.2,-75.1,73.2&limit=2&sortby=%2Bid\n"
     ]
    },
    {
     "data": {
      "text/plain": [
       "['2020-10-18T12:18:38+00:00', '2020-10-19T12:11:15+00:00']"
      ]
     },
     "execution_count": 11,
     "metadata": {},
     "output_type": "execute_result"
    }
   ],
   "source": [
    "items = list_items_in_bbox(bboxes[\"pond_inlet\"], \"floe-edge-linestrings\", sortby=\"+id\")\n",
    "[item[\"properties\"][\"datetime\"] for item in items[\"features\"]]"
   ]
  },
  {
   "cell_type": "markdown",
   "metadata": {},
   "source": [
    "We can also sort by `datetime`. Because `id` includes the value of the datetime, sorting by either probably results in the same results."
   ]
  },
  {
   "cell_type": "code",
   "execution_count": 12,
   "metadata": {},
   "outputs": [
    {
     "name": "stderr",
     "output_type": "stream",
     "text": [
      "INFO:__main__:https://c-stac-api.c-core.app/search?collections=floe-edge-linestrings&bbox=-80.6,72.2,-75.1,73.2&limit=2&sortby=-datetime\n"
     ]
    },
    {
     "data": {
      "text/plain": [
       "['2022-03-24T12:18:28+00:00', '2022-03-21T11:53:57+00:00']"
      ]
     },
     "execution_count": 12,
     "metadata": {},
     "output_type": "execute_result"
    }
   ],
   "source": [
    "items = list_items_in_bbox(bboxes[\"pond_inlet\"], \"floe-edge-linestrings\", sortby=\"-datetime\")\n",
    "[item[\"properties\"][\"datetime\"] for item in items[\"features\"]]"
   ]
  },
  {
   "cell_type": "code",
   "execution_count": 13,
   "metadata": {},
   "outputs": [
    {
     "name": "stderr",
     "output_type": "stream",
     "text": [
      "INFO:__main__:https://c-stac-api.c-core.app/search?collections=floe-edge-linestrings&bbox=-80.6,72.2,-75.1,73.2&limit=2&sortby=%2Bdatetime\n"
     ]
    },
    {
     "data": {
      "text/plain": [
       "['2020-10-18T12:18:38+00:00', '2020-10-19T12:11:15+00:00']"
      ]
     },
     "execution_count": 13,
     "metadata": {},
     "output_type": "execute_result"
    }
   ],
   "source": [
    "items = list_items_in_bbox(bboxes[\"pond_inlet\"], \"floe-edge-linestrings\", sortby=\"+datetime\")\n",
    "[item[\"properties\"][\"datetime\"] for item in items[\"features\"]]"
   ]
  },
  {
   "cell_type": "markdown",
   "metadata": {},
   "source": [
    "## Filter by location with geojson\n",
    "This is an example of search by the POST method. It requires providing a JSON body with the search request, but allows for more complex queries, such as intersection with a GeoJSON. \n",
    "\n",
    "For further API details, see https://c-stac-api.c-core.app/docs#/default/Search_search_post .\n",
    "For the API specification, see https://api.stacspec.org/v1.0.0-rc.1/item-search/#operation/postItemSearch\n",
    "\n",
    "Here, we specify GeoJSON polygons surrounding Resolute, Pond Inlet, and the world."
   ]
  },
  {
   "cell_type": "code",
   "execution_count": 14,
   "metadata": {},
   "outputs": [],
   "source": [
    "geojsons = {\n",
    "    \"resolute\": {\n",
    "        \"type\": \"Polygon\",\n",
    "        \"coordinates\": [\n",
    "          [\n",
    "            [\n",
    "              -97.09716796875,\n",
    "              74.27612190544454\n",
    "            ],\n",
    "            [\n",
    "              -92.5103759765625,\n",
    "              74.27612190544454\n",
    "            ],\n",
    "            [\n",
    "              -92.5103759765625,\n",
    "              75.00636121985819\n",
    "            ],\n",
    "            [\n",
    "              -97.09716796875,\n",
    "              75.00636121985819\n",
    "            ],\n",
    "            [\n",
    "              -97.09716796875,\n",
    "              74.27612190544454\n",
    "            ]\n",
    "          ]\n",
    "        ]\n",
    "    },\n",
    "    \"pond_inlet\": {\n",
    "        \"type\": \"Polygon\",\n",
    "        \"coordinates\": [\n",
    "          [\n",
    "            [\n",
    "              -80.606689453125,\n",
    "              72.18852591070342\n",
    "            ],\n",
    "            [\n",
    "              -75.1025390625,\n",
    "              72.18852591070342\n",
    "            ],\n",
    "            [\n",
    "              -75.1025390625,\n",
    "              73.18543401519665\n",
    "            ],\n",
    "            [\n",
    "              -80.606689453125,\n",
    "              73.18543401519665\n",
    "            ],\n",
    "            [\n",
    "              -80.606689453125,\n",
    "              72.18852591070342\n",
    "            ]\n",
    "          ]\n",
    "        ]\n",
    "    },\n",
    "    \"world\": {\n",
    "        \"type\": \"Polygon\",\n",
    "        \"coordinates\": [\n",
    "          [\n",
    "            [\n",
    "              -180,\n",
    "              -90\n",
    "            ],\n",
    "            [\n",
    "              180,\n",
    "              -90\n",
    "            ],\n",
    "            [\n",
    "              180,\n",
    "              90\n",
    "            ],\n",
    "            [\n",
    "              -180,\n",
    "              90\n",
    "            ],\n",
    "            [\n",
    "              -180,\n",
    "              -90\n",
    "            ]\n",
    "          ]\n",
    "        ]\n",
    "    }\n",
    "}"
   ]
  },
  {
   "cell_type": "markdown",
   "metadata": {},
   "source": [
    "A convenience function for requesting a search POST method with an intersecting GeoJSON."
   ]
  },
  {
   "cell_type": "code",
   "execution_count": 15,
   "metadata": {},
   "outputs": [],
   "source": [
    "def list_items_in_geojson(\n",
    "    geojson: Dict, \n",
    "    collection_id: str, \n",
    "    limit: int = 2,\n",
    "    sortby: Optional[List[Dict]] = None,\n",
    "    url: str = api_url\n",
    ") -> List[Dict]:\n",
    "    \"\"\"List items, filtering by geoaptial bbox.\"\"\"\n",
    "    post_url = f\"{url}/search\"\n",
    "    \n",
    "    data = {\n",
    "        \"intersects\": geojson,\n",
    "        \"collections\": [collection_id],\n",
    "        \"limit\": limit,\n",
    "        \"sortby\": sortby,\n",
    "    }\n",
    "    \n",
    "    with httpx.Client(timeout = 20) as client:\n",
    "        log.info(post_url)\n",
    "        log.info(data)\n",
    "        response = client.post(post_url, data=json.dumps(data))\n",
    "    \n",
    "    try:\n",
    "        # Raise exception if status code not 2xx success\n",
    "        response.raise_for_status()\n",
    "    except httpx.HTTPError as exception:\n",
    "        log.exception(exception.response.json())\n",
    "        raise exception\n",
    "    \n",
    "    response_body = response.json()\n",
    "    \n",
    "    return response_body"
   ]
  },
  {
   "cell_type": "markdown",
   "metadata": {},
   "source": [
    "When searching with the POST method, `sortby` accespts an array of dictionaries specifying the `field` and `direction`. Here is a datetime descending sort example."
   ]
  },
  {
   "cell_type": "code",
   "execution_count": 16,
   "metadata": {},
   "outputs": [
    {
     "name": "stderr",
     "output_type": "stream",
     "text": [
      "INFO:__main__:https://c-stac-api.c-core.app/search\n",
      "INFO:__main__:{'intersects': {'type': 'Polygon', 'coordinates': [[[-80.606689453125, 72.18852591070342], [-75.1025390625, 72.18852591070342], [-75.1025390625, 73.18543401519665], [-80.606689453125, 73.18543401519665], [-80.606689453125, 72.18852591070342]]]}, 'collections': ['floe-edge-linestrings'], 'limit': 2, 'sortby': [{'field': 'datetime', 'direction': 'desc'}]}\n"
     ]
    },
    {
     "data": {
      "text/plain": [
       "['2022-03-24T12:18:28+00:00', '2022-03-21T11:53:57+00:00']"
      ]
     },
     "execution_count": 16,
     "metadata": {},
     "output_type": "execute_result"
    }
   ],
   "source": [
    "sortby = [{\n",
    "    \"field\": \"datetime\",\n",
    "    \"direction\": \"desc\",\n",
    "}]\n",
    "\n",
    "items = list_items_in_geojson(geojsons[\"pond_inlet\"], \"floe-edge-linestrings\", sortby=sortby)\n",
    "[item[\"properties\"][\"datetime\"] for item in items[\"features\"]]"
   ]
  },
  {
   "cell_type": "markdown",
   "metadata": {},
   "source": [
    "Here is a datetime ascending sourt example."
   ]
  },
  {
   "cell_type": "code",
   "execution_count": 17,
   "metadata": {},
   "outputs": [
    {
     "name": "stderr",
     "output_type": "stream",
     "text": [
      "INFO:__main__:https://c-stac-api.c-core.app/search\n",
      "INFO:__main__:{'intersects': {'type': 'Polygon', 'coordinates': [[[-80.606689453125, 72.18852591070342], [-75.1025390625, 72.18852591070342], [-75.1025390625, 73.18543401519665], [-80.606689453125, 73.18543401519665], [-80.606689453125, 72.18852591070342]]]}, 'collections': ['floe-edge-linestrings'], 'limit': 2, 'sortby': [{'field': 'datetime', 'direction': 'asc'}]}\n"
     ]
    },
    {
     "data": {
      "text/plain": [
       "['2020-10-18T12:18:38+00:00', '2020-10-19T12:11:15+00:00']"
      ]
     },
     "execution_count": 17,
     "metadata": {},
     "output_type": "execute_result"
    }
   ],
   "source": [
    "sortby = [{\n",
    "    \"field\": \"datetime\",\n",
    "    \"direction\": \"asc\",\n",
    "}]\n",
    "\n",
    "items = list_items_in_geojson(geojsons[\"pond_inlet\"], \"floe-edge-linestrings\", sortby=sortby)\n",
    "[item[\"properties\"][\"datetime\"] for item in items[\"features\"]]"
   ]
  },
  {
   "cell_type": "markdown",
   "metadata": {},
   "source": [
    "## Example with vector data\n",
    "Let's plot the most recent floe edge polygon data near Resolute."
   ]
  },
  {
   "cell_type": "code",
   "execution_count": 18,
   "metadata": {},
   "outputs": [
    {
     "name": "stderr",
     "output_type": "stream",
     "text": [
      "INFO:__main__:https://c-stac-api.c-core.app/search\n",
      "INFO:__main__:{'intersects': {'type': 'Polygon', 'coordinates': [[[-97.09716796875, 74.27612190544454], [-92.5103759765625, 74.27612190544454], [-92.5103759765625, 75.00636121985819], [-97.09716796875, 75.00636121985819], [-97.09716796875, 74.27612190544454]]]}, 'collections': ['floe-edge-polygons'], 'limit': 1, 'sortby': [{'field': 'datetime', 'direction': 'desc'}]}\n"
     ]
    },
    {
     "data": {
      "text/plain": [
       "{'type': 'Feature',\n",
       " 'geometry': {'coordinates': [[[-80.767476, 74.415217],\n",
       "    [-80.767476, 78.146234],\n",
       "    [-98.151094, 78.146234],\n",
       "    [-98.151094, 74.415217],\n",
       "    [-80.767476, 74.415217]]],\n",
       "  'type': 'Polygon'},\n",
       " 'properties': {'datetime': '2021-12-24T13:07:39+00:00'},\n",
       " 'id': 'floe-edge-polygons-2021-12-18T13:06:50.273Z--2021-12-24T13:07:39.300Z',\n",
       " 'bbox': [-98.151094, 74.415217, -80.767476, 78.146234],\n",
       " 'assets': {'geojson': {'title': 'GeoJSON',\n",
       "   'description': 'Vector data in GeoJSON format',\n",
       "   'start_datetime': None,\n",
       "   'end_datetime': None,\n",
       "   'created': None,\n",
       "   'updated': None,\n",
       "   'platform': None,\n",
       "   'instruments': None,\n",
       "   'constellation': None,\n",
       "   'mission': None,\n",
       "   'providers': None,\n",
       "   'gsd': None,\n",
       "   'href': 'https://coresight-layers.s3-us-west-2.amazonaws.com/floe-edge-polygons/2021-12-18T13:06:50.273Z--2021-12-24T13:07:39.300Z/2021-12-18T13:06:50.273Z--2021-12-24T13:07:39.300Z.geojson',\n",
       "   'type': 'application/geo+json',\n",
       "   'roles': ['vector-data']},\n",
       "  'vector_tiles': {'title': 'Mapbox Vector Tiles',\n",
       "   'description': 'Vector data in Mapbox Vector Tile format',\n",
       "   'start_datetime': None,\n",
       "   'end_datetime': None,\n",
       "   'created': None,\n",
       "   'updated': None,\n",
       "   'platform': None,\n",
       "   'instruments': None,\n",
       "   'constellation': None,\n",
       "   'mission': None,\n",
       "   'providers': None,\n",
       "   'gsd': None,\n",
       "   'href': 'https://coresight-layers.s3-us-west-2.amazonaws.com/floe-edge-polygons/2021-12-18T13:06:50.273Z--2021-12-24T13:07:39.300Z/{z}/{x}/{y}.pbf',\n",
       "   'type': 'application/vnd.mapbox-vector-tile',\n",
       "   'roles': ['vector-data', 'vector-tiles']},\n",
       "  'vector_tiles_metadata': {'title': 'Vector Tiles Metadata',\n",
       "   'description': 'Metadata related to vector tile creation',\n",
       "   'start_datetime': None,\n",
       "   'end_datetime': None,\n",
       "   'created': None,\n",
       "   'updated': None,\n",
       "   'platform': None,\n",
       "   'instruments': None,\n",
       "   'constellation': None,\n",
       "   'mission': None,\n",
       "   'providers': None,\n",
       "   'gsd': None,\n",
       "   'href': 'https://coresight-layers.s3-us-west-2.amazonaws.com/floe-edge-polygons/2021-12-18T13:06:50.273Z--2021-12-24T13:07:39.300Z/metadata.json',\n",
       "   'type': 'application/json',\n",
       "   'roles': ['metadata']}},\n",
       " 'links': [{'href': 'http://c-stac-api.c-core.app/collections/floe-edge-polygons/items/floe-edge-polygons-2021-12-18T13:06:50.273Z--2021-12-24T13:07:39.300Z',\n",
       "   'rel': 'self',\n",
       "   'type': 'application/geo+json',\n",
       "   'title': None,\n",
       "   'label': None},\n",
       "  {'href': 'http://c-stac-api.c-core.app/collections/floe-edge-polygons',\n",
       "   'rel': 'parent',\n",
       "   'type': 'application/json',\n",
       "   'title': None,\n",
       "   'label': None},\n",
       "  {'href': 'http://c-stac-api.c-core.app/collections/floe-edge-polygons',\n",
       "   'rel': 'collection',\n",
       "   'type': 'application/json',\n",
       "   'title': None,\n",
       "   'label': None},\n",
       "  {'href': 'http://c-stac-api.c-core.app/',\n",
       "   'rel': 'root',\n",
       "   'type': 'application/json',\n",
       "   'title': None,\n",
       "   'label': None},\n",
       "  {'href': 'http://c-stac-api.c-core.app/collections/floe-edge-polygons/items/floe-edge-polygons-2021-12-18T13:06:50.273Z--2021-12-24T13:07:39.300Z/tiles',\n",
       "   'rel': 'alternate',\n",
       "   'type': 'application/json',\n",
       "   'title': 'tiles',\n",
       "   'label': None}]}"
      ]
     },
     "execution_count": 18,
     "metadata": {},
     "output_type": "execute_result"
    }
   ],
   "source": [
    "sortby = [{\n",
    "    \"field\": \"datetime\",\n",
    "    \"direction\": \"desc\",\n",
    "}]\n",
    "\n",
    "items = list_items_in_geojson(geojsons[\"resolute\"], \"floe-edge-polygons\", sortby=sortby, limit=1)\n",
    "item = items[\"features\"][0]\n",
    "item"
   ]
  },
  {
   "cell_type": "markdown",
   "metadata": {},
   "source": [
    "## Convenience functions\n",
    "A few convenience functions to extract the vector tile url and vector tile metadata from the STAC item."
   ]
  },
  {
   "cell_type": "code",
   "execution_count": 19,
   "metadata": {},
   "outputs": [],
   "source": [
    "def get_vector_tiles_url(item: Dict) -> Optional[str]:\n",
    "    \"\"\"Get vector tiles url from STAC item\"\"\"\n",
    "    try:\n",
    "        url = item[\"assets\"][\"vector_tiles\"][\"href\"]\n",
    "    except KeyError:\n",
    "        log.warning(f\"Item {item['id']} has no vector tile asset\")\n",
    "        return None\n",
    "    \n",
    "    return url"
   ]
  },
  {
   "cell_type": "code",
   "execution_count": 20,
   "metadata": {},
   "outputs": [],
   "source": [
    "def get_vector_tiles_metadata(item: Dict) -> Optional[Dict]:\n",
    "    \"\"\"Get vector tiles metadata from STAC item\"\"\"\n",
    "    try:\n",
    "        url = item[\"assets\"][\"vector_tiles_metadata\"][\"href\"]\n",
    "    except KeyError:\n",
    "        log.warning(f\"Item {item['id']} has no vector tile metadata asset\")\n",
    "        return None\n",
    "    \n",
    "    with httpx.Client(timeout = 20) as client:\n",
    "        log.info(url)\n",
    "        response = client.get(url)\n",
    "    \n",
    "    try:\n",
    "        # Raise exception if status code not 2xx success\n",
    "        response.raise_for_status()\n",
    "    except httpx.HTTPError as exception:\n",
    "        log.exception(exception.response.json())\n",
    "        raise exception\n",
    "    \n",
    "    response_body = response.json()\n",
    "    \n",
    "    return response_body"
   ]
  },
  {
   "cell_type": "markdown",
   "metadata": {},
   "source": [
    "Get the vector tile url and metadata."
   ]
  },
  {
   "cell_type": "code",
   "execution_count": 21,
   "metadata": {},
   "outputs": [
    {
     "data": {
      "text/plain": [
       "'https://coresight-layers.s3-us-west-2.amazonaws.com/floe-edge-polygons/2021-12-18T13:06:50.273Z--2021-12-24T13:07:39.300Z/{z}/{x}/{y}.pbf'"
      ]
     },
     "execution_count": 21,
     "metadata": {},
     "output_type": "execute_result"
    }
   ],
   "source": [
    "url = get_vector_tiles_url(item)\n",
    "url"
   ]
  },
  {
   "cell_type": "code",
   "execution_count": 22,
   "metadata": {},
   "outputs": [
    {
     "name": "stderr",
     "output_type": "stream",
     "text": [
      "INFO:__main__:https://coresight-layers.s3-us-west-2.amazonaws.com/floe-edge-polygons/2021-12-18T13:06:50.273Z--2021-12-24T13:07:39.300Z/metadata.json\n"
     ]
    },
    {
     "data": {
      "text/plain": [
       "{'name': '/tmp/tmpcmow0252',\n",
       " 'description': '/tmp/tmpcmow0252',\n",
       " 'version': '2',\n",
       " 'minzoom': '1',\n",
       " 'maxzoom': '10',\n",
       " 'center': '-81.035156,76.393250,10',\n",
       " 'bounds': '-98.151094,74.415217,-80.767476,78.146234',\n",
       " 'type': 'overlay',\n",
       " 'format': 'pbf',\n",
       " 'generator': 'tippecanoe v1.36.0',\n",
       " 'generator_options': \"tippecanoe '--minimum-zoom=1' '--maximum-zoom=10' -l floe-edge-polygons --output-to-directory /tmp/tmpcmow0252 --drop-densest-as-needed --extend-zooms-if-still-dropping --no-tile-compression --read-parallel --force /tmp/tmpcmow0252/2021-12-18T13:06:50.273Z--2021-12-24T13:07:39.300Z.geojson\",\n",
       " 'json': '{\"vector_layers\": [ { \"id\": \"floe-edge-polygons\", \"description\": \"\", \"minzoom\": 1, \"maxzoom\": 10, \"fields\": {\"datetime_interval\": \"String\", \"geometry_type\": \"String\", \"ogc_fid\": \"Number\", \"timedelta_seconds\": \"Number\", \"timestamp1\": \"String\", \"timestamp2\": \"String\"} } ],\"tilestats\": {\"layerCount\": 1,\"layers\": [{\"layer\": \"floe-edge-polygons\",\"count\": 5,\"geometry\": \"Polygon\",\"attributeCount\": 6,\"attributes\": [{\"attribute\": \"datetime_interval\",\"count\": 1,\"type\": \"string\",\"values\": [\"2021-12-18T13:06:50.273Z--2021-12-24T13:07:39.300Z\"]},{\"attribute\": \"geometry_type\",\"count\": 1,\"type\": \"string\",\"values\": [\"linestring\"]},{\"attribute\": \"ogc_fid\",\"count\": 5,\"type\": \"number\",\"values\": [266514,266515,266516,266517,266518],\"min\": 266514,\"max\": 266518},{\"attribute\": \"timedelta_seconds\",\"count\": 1,\"type\": \"number\",\"values\": [49],\"min\": 49,\"max\": 49},{\"attribute\": \"timestamp1\",\"count\": 1,\"type\": \"string\",\"values\": [\"2021-12-18T13:06:50.273Z\"]},{\"attribute\": \"timestamp2\",\"count\": 1,\"type\": \"string\",\"values\": [\"2021-12-24T13:07:39.300Z\"]}]}]}}'}"
      ]
     },
     "execution_count": 22,
     "metadata": {},
     "output_type": "execute_result"
    }
   ],
   "source": [
    "metadata = get_vector_tiles_metadata(item)\n",
    "metadata"
   ]
  },
  {
   "cell_type": "code",
   "execution_count": 23,
   "metadata": {},
   "outputs": [
    {
     "data": {
      "text/plain": [
       "[76.39325, -81.035156]"
      ]
     },
     "execution_count": 23,
     "metadata": {},
     "output_type": "execute_result"
    }
   ],
   "source": [
    "center = [float(coordinate) for coordinate in metadata[\"center\"].split(\",\")[:2]][::-1]\n",
    "center"
   ]
  },
  {
   "cell_type": "markdown",
   "metadata": {},
   "source": [
    "## Plot vector data"
   ]
  },
  {
   "cell_type": "code",
   "execution_count": 24,
   "metadata": {},
   "outputs": [
    {
     "data": {
      "application/vnd.jupyter.widget-view+json": {
       "model_id": "f8fdaff5bc944a09ba1e819fd94e49ab",
       "version_major": 2,
       "version_minor": 0
      },
      "text/plain": [
       "Map(center=[76.39325, -81.035156], controls=(ZoomControl(options=['position', 'zoom_in_text', 'zoom_in_title',…"
      ]
     },
     "metadata": {},
     "output_type": "display_data"
    }
   ],
   "source": [
    "layer = VectorTileLayer(url=url)\n",
    "map = Map(center=center, zoom=6)\n",
    "map.add_layer(layer)\n",
    "\n",
    "map"
   ]
  },
  {
   "cell_type": "markdown",
   "metadata": {},
   "source": [
    "## Example with raster data\n",
    "Let's plot the most recent tidal crack data near Resolute."
   ]
  },
  {
   "cell_type": "code",
   "execution_count": 25,
   "metadata": {},
   "outputs": [
    {
     "name": "stderr",
     "output_type": "stream",
     "text": [
      "INFO:__main__:https://c-stac-api.c-core.app/search\n",
      "INFO:__main__:{'intersects': {'type': 'Polygon', 'coordinates': [[[-97.09716796875, 74.27612190544454], [-92.5103759765625, 74.27612190544454], [-92.5103759765625, 75.00636121985819], [-97.09716796875, 75.00636121985819], [-97.09716796875, 74.27612190544454]]]}, 'collections': ['floe-edge-coherence'], 'limit': 1, 'sortby': [{'field': 'datetime', 'direction': 'desc'}]}\n"
     ]
    },
    {
     "data": {
      "text/plain": [
       "{'type': 'Feature',\n",
       " 'geometry': {'coordinates': [[[74.3381679945762, -85.65939696533742],\n",
       "    [74.3381679945762, 78.06458264850178],\n",
       "    [-92.62825799363675, 78.06458264850178],\n",
       "    [-92.62825799363675, -85.65939696533742],\n",
       "    [74.3381679945762, -85.65939696533742]]],\n",
       "  'type': 'Polygon'},\n",
       " 'properties': {'datetime': '2021-09-03T12:50:29+00:00'},\n",
       " 'id': '20210903T125029_20210915T125030_001664_swath4_fasticecoherence',\n",
       " 'bbox': [-92.62825799363675,\n",
       "  -85.65939696533742,\n",
       "  74.3381679945762,\n",
       "  78.06458264850178],\n",
       " 'assets': {'geotiff': {'title': 'GeoTIFF',\n",
       "   'description': 'Raster data in GeoTIFF format',\n",
       "   'start_datetime': None,\n",
       "   'end_datetime': None,\n",
       "   'created': None,\n",
       "   'updated': None,\n",
       "   'platform': None,\n",
       "   'instruments': None,\n",
       "   'constellation': None,\n",
       "   'mission': None,\n",
       "   'providers': None,\n",
       "   'gsd': None,\n",
       "   'href': 'https://s3.ca-central-1.amazonaws.com/c-core-ottawa/20210903T125029_20210915T125030_001664_swath4_fasticecoherence-coh.tif',\n",
       "   'type': 'image/tiff; application=geotiff;',\n",
       "   'roles': ['raster-data']},\n",
       "  'raster_tiles': {'title': 'Raster Tiles',\n",
       "   'description': 'Raster tiles in xyz png format',\n",
       "   'start_datetime': None,\n",
       "   'end_datetime': None,\n",
       "   'created': None,\n",
       "   'updated': None,\n",
       "   'platform': None,\n",
       "   'instruments': None,\n",
       "   'constellation': None,\n",
       "   'mission': None,\n",
       "   'providers': None,\n",
       "   'gsd': None,\n",
       "   'href': 'https://c-core-ottawa.s3.amazonaws.com/tms/20210903T125029_20210915T125030_001664_swath4_fasticecoherence-coh.tif/{z}/{x}/{y}.png',\n",
       "   'type': 'image/png',\n",
       "   'roles': ['raster-data', 'raster-tiles']}},\n",
       " 'links': [{'href': 'http://c-stac-api.c-core.app/collections/floe-edge-coherence/items/20210903T125029_20210915T125030_001664_swath4_fasticecoherence',\n",
       "   'rel': 'self',\n",
       "   'type': 'application/geo+json',\n",
       "   'title': None,\n",
       "   'label': None},\n",
       "  {'href': 'http://c-stac-api.c-core.app/collections/floe-edge-coherence',\n",
       "   'rel': 'parent',\n",
       "   'type': 'application/json',\n",
       "   'title': None,\n",
       "   'label': None},\n",
       "  {'href': 'http://c-stac-api.c-core.app/collections/floe-edge-coherence',\n",
       "   'rel': 'collection',\n",
       "   'type': 'application/json',\n",
       "   'title': None,\n",
       "   'label': None},\n",
       "  {'href': 'http://c-stac-api.c-core.app/',\n",
       "   'rel': 'root',\n",
       "   'type': 'application/json',\n",
       "   'title': None,\n",
       "   'label': None},\n",
       "  {'href': 'http://c-stac-api.c-core.app/collections/floe-edge-coherence/items/20210903T125029_20210915T125030_001664_swath4_fasticecoherence/tiles',\n",
       "   'rel': 'alternate',\n",
       "   'type': 'application/json',\n",
       "   'title': 'tiles',\n",
       "   'label': None}]}"
      ]
     },
     "execution_count": 25,
     "metadata": {},
     "output_type": "execute_result"
    }
   ],
   "source": [
    "sortby = [{\n",
    "    \"field\": \"datetime\",\n",
    "    \"direction\": \"desc\",\n",
    "}]\n",
    "\n",
    "items = list_items_in_geojson(geojsons[\"resolute\"], \"floe-edge-coherence\", sortby=sortby, limit=1)\n",
    "item = items[\"features\"][0]\n",
    "item"
   ]
  },
  {
   "cell_type": "markdown",
   "metadata": {},
   "source": [
    "## Convenience functions\n",
    "Convenience function to get the raster tile url from the STAC item. Note, the raster tiles url are in TMS schema, as opposed to XYZ schema, so we need to invert the `y` value (https://gist.github.com/tmcw/4954720)."
   ]
  },
  {
   "cell_type": "code",
   "execution_count": 26,
   "metadata": {},
   "outputs": [],
   "source": [
    "def get_raster_tiles_url(item: Dict, tms: Optional[bool] = None) -> Optional[str]:\n",
    "    \"\"\"Get raster tiles url from STAC item\"\"\"\n",
    "    try:\n",
    "        url = item[\"assets\"][\"raster_tiles\"][\"href\"]\n",
    "    except KeyError:\n",
    "        log.warning(f\"Item {item['id']} has no raster tile asset\")\n",
    "        return None\n",
    "    \n",
    "    # If url is TMS scheme, need to invert the `y`.\n",
    "    # https://gist.github.com/tmcw/4954720?permalink_comment_id=3768325#gistcomment-3768325\n",
    "    if tms:\n",
    "        url = url.replace(\"{y}\", \"{-y}\")\n",
    "    \n",
    "    return url"
   ]
  },
  {
   "cell_type": "markdown",
   "metadata": {},
   "source": [
    "## Plot raster data"
   ]
  },
  {
   "cell_type": "code",
   "execution_count": 27,
   "metadata": {},
   "outputs": [
    {
     "data": {
      "application/vnd.jupyter.widget-view+json": {
       "model_id": "b3c98588482e4d6d93131bc4ab3dc2f4",
       "version_major": 2,
       "version_minor": 0
      },
      "text/plain": [
       "Map(center=[74.3381679945762, -85.65939696533742], controls=(ZoomControl(options=['position', 'zoom_in_text', …"
      ]
     },
     "metadata": {},
     "output_type": "display_data"
    }
   ],
   "source": [
    "url = get_raster_tiles_url(item, tms=True)\n",
    "\n",
    "center = (item[\"geometry\"][\"coordinates\"][0][0][0], item[\"geometry\"][\"coordinates\"][0][0][1])\n",
    "\n",
    "layer = basemap_to_tiles({\n",
    "    \"url\": url,\n",
    "})\n",
    "map = Map(center=center, zoom=6)\n",
    "map.add_layer(layer)\n",
    "\n",
    "map"
   ]
  },
  {
   "cell_type": "code",
   "execution_count": 28,
   "metadata": {},
   "outputs": [
    {
     "data": {
      "text/plain": [
       "'https://c-core-ottawa.s3.amazonaws.com/tms/20210903T125029_20210915T125030_001664_swath4_fasticecoherence-coh.tif/{z}/{x}/{-y}.png'"
      ]
     },
     "execution_count": 28,
     "metadata": {},
     "output_type": "execute_result"
    }
   ],
   "source": [
    "url"
   ]
  },
  {
   "cell_type": "code",
   "execution_count": 35,
   "metadata": {},
   "outputs": [
    {
     "name": "stderr",
     "output_type": "stream",
     "text": [
      "INFO:__main__:https://c-stac-api.c-core.app/search?collections=floe-edge-polygons&limit=2&sortby=%2Bid\n"
     ]
    },
    {
     "data": {
      "text/plain": [
       "{'type': 'Feature',\n",
       " 'geometry': {'coordinates': [[[-75.99302, 74.45437],\n",
       "    [-75.99302, 76.9875],\n",
       "    [-85.955635, 76.9875],\n",
       "    [-85.955635, 74.45437],\n",
       "    [-75.99302, 74.45437]]],\n",
       "  'type': 'Polygon'},\n",
       " 'properties': {'datetime': '2019-12-16T12:25:42+00:00'},\n",
       " 'id': 'floe-edge-polygons-2019-12-16T12:25:42.821Z--2019-12-17T12:18:19.068Z',\n",
       " 'bbox': [-85.955635, 74.45437, -75.99302, 76.9875],\n",
       " 'assets': {'geojson': {'title': 'GeoJSON',\n",
       "   'description': 'Vector data in GeoJSON format',\n",
       "   'start_datetime': None,\n",
       "   'end_datetime': None,\n",
       "   'created': None,\n",
       "   'updated': None,\n",
       "   'platform': None,\n",
       "   'instruments': None,\n",
       "   'constellation': None,\n",
       "   'mission': None,\n",
       "   'providers': None,\n",
       "   'gsd': None,\n",
       "   'href': 'https://coresight-layers.s3-us-west-2.amazonaws.com/floe-edge-polygons/2019-12-16T12:25:42.821Z--2019-12-17T12:18:19.068Z/2019-12-16T12:25:42.821Z--2019-12-17T12:18:19.068Z.geojson',\n",
       "   'type': 'application/geo+json',\n",
       "   'roles': ['vector-data']},\n",
       "  'vector_tiles': {'title': 'Mapbox Vector Tiles',\n",
       "   'description': 'Vector data in Mapbox Vector Tile format',\n",
       "   'start_datetime': None,\n",
       "   'end_datetime': None,\n",
       "   'created': None,\n",
       "   'updated': None,\n",
       "   'platform': None,\n",
       "   'instruments': None,\n",
       "   'constellation': None,\n",
       "   'mission': None,\n",
       "   'providers': None,\n",
       "   'gsd': None,\n",
       "   'href': 'https://coresight-layers.s3-us-west-2.amazonaws.com/floe-edge-polygons/2019-12-16T12:25:42.821Z--2019-12-17T12:18:19.068Z/{z}/{x}/{y}.pbf',\n",
       "   'type': 'application/vnd.mapbox-vector-tile',\n",
       "   'roles': ['vector-data', 'vector-tiles']},\n",
       "  'vector_tiles_metadata': {'title': 'Vector Tiles Metadata',\n",
       "   'description': 'Metadata related to vector tile creation',\n",
       "   'start_datetime': None,\n",
       "   'end_datetime': None,\n",
       "   'created': None,\n",
       "   'updated': None,\n",
       "   'platform': None,\n",
       "   'instruments': None,\n",
       "   'constellation': None,\n",
       "   'mission': None,\n",
       "   'providers': None,\n",
       "   'gsd': None,\n",
       "   'href': 'https://coresight-layers.s3-us-west-2.amazonaws.com/floe-edge-polygons/2019-12-16T12:25:42.821Z--2019-12-17T12:18:19.068Z/metadata.json',\n",
       "   'type': 'application/json',\n",
       "   'roles': ['metadata']}},\n",
       " 'links': [{'href': 'http://c-stac-api.c-core.app/collections/floe-edge-polygons/items/floe-edge-polygons-2019-12-16T12:25:42.821Z--2019-12-17T12:18:19.068Z',\n",
       "   'rel': 'self',\n",
       "   'type': 'application/geo+json',\n",
       "   'title': None,\n",
       "   'label': None},\n",
       "  {'href': 'http://c-stac-api.c-core.app/collections/floe-edge-polygons',\n",
       "   'rel': 'parent',\n",
       "   'type': 'application/json',\n",
       "   'title': None,\n",
       "   'label': None},\n",
       "  {'href': 'http://c-stac-api.c-core.app/collections/floe-edge-polygons',\n",
       "   'rel': 'collection',\n",
       "   'type': 'application/json',\n",
       "   'title': None,\n",
       "   'label': None},\n",
       "  {'href': 'http://c-stac-api.c-core.app/',\n",
       "   'rel': 'root',\n",
       "   'type': 'application/json',\n",
       "   'title': None,\n",
       "   'label': None},\n",
       "  {'href': 'http://c-stac-api.c-core.app/collections/floe-edge-polygons/items/floe-edge-polygons-2019-12-16T12:25:42.821Z--2019-12-17T12:18:19.068Z/tiles',\n",
       "   'rel': 'alternate',\n",
       "   'type': 'application/json',\n",
       "   'title': 'tiles',\n",
       "   'label': None}]}"
      ]
     },
     "execution_count": 35,
     "metadata": {},
     "output_type": "execute_result"
    }
   ],
   "source": [
    "items = list_items(\"floe-edge-polygons\", sortby=\"+id\")\n",
    "item = items[\"features\"][0]\n",
    "item"
   ]
  },
  {
   "cell_type": "code",
   "execution_count": 31,
   "metadata": {},
   "outputs": [],
   "source": [
    "def get_geojson(item: Dict) -> Optional[Dict]:\n",
    "    \"\"\"Get vector tiles metadata from STAC item\"\"\"\n",
    "    try:\n",
    "        url = item[\"assets\"][\"geojson\"][\"href\"]\n",
    "    except KeyError:\n",
    "        log.warning(f\"Item {item['id']} has no geojson asset\")\n",
    "        return None\n",
    "    \n",
    "    with httpx.Client(timeout = 20) as client:\n",
    "        log.info(url)\n",
    "        response = client.get(url)\n",
    "    \n",
    "    try:\n",
    "        # Raise exception if status code not 2xx success\n",
    "        response.raise_for_status()\n",
    "    except httpx.HTTPError as exception:\n",
    "        log.exception(exception.response.json())\n",
    "        raise exception\n",
    "    \n",
    "    response_body = response.json()\n",
    "    \n",
    "    return response_body"
   ]
  },
  {
   "cell_type": "code",
   "execution_count": 33,
   "metadata": {},
   "outputs": [
    {
     "name": "stderr",
     "output_type": "stream",
     "text": [
      "INFO:__main__:https://coresight-layers.s3-us-west-2.amazonaws.com/floe-edge-polygons/2022-03-12T12:18:28.447Z--2022-03-24T12:18:28.833Z/2022-03-12T12:18:28.447Z--2022-03-24T12:18:28.833Z.geojson\n"
     ]
    }
   ],
   "source": [
    "geojson = get_geojson(item)\n",
    "# geojson"
   ]
  },
  {
   "cell_type": "code",
   "execution_count": null,
   "metadata": {},
   "outputs": [],
   "source": []
  }
 ],
 "metadata": {
  "kernelspec": {
   "display_name": "Python 3 (ipykernel)",
   "language": "python",
   "name": "python3"
  },
  "language_info": {
   "codemirror_mode": {
    "name": "ipython",
    "version": 3
   },
   "file_extension": ".py",
   "mimetype": "text/x-python",
   "name": "python",
   "nbconvert_exporter": "python",
   "pygments_lexer": "ipython3",
   "version": "3.10.5"
  }
 },
 "nbformat": 4,
 "nbformat_minor": 4
}
