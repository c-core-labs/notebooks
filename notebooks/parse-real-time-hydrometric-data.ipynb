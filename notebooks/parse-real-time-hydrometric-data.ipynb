{
 "cells": [
  {
   "cell_type": "markdown",
   "id": "d79ea45c-ae5f-4d5d-925b-db2302ed064b",
   "metadata": {},
   "source": [
    "# Parse real time hydrometric data\n",

    "Parse real time data from https://wateroffice.ec.gc.ca/mainmenu/real_time_data_index_e.html .\n",
    "\n",
    "[beautifulsoup](https://beautiful-soup-4.readthedocs.io/) is a popular python library for parsing html. If you found yourself needing to scrape javascript or programatically clicking on buttons, try [selenium](https://selenium-python.readthedocs.io/) instead. \n",
    "\n",
    "In this example, we directly download the data in CSV format to avoid needing to scrape html."
   ]
  },
  {
   "cell_type": "markdown",
   "id": "f055f450-1b66-42d2-befa-aece3315f117",
   "metadata": {},
   "source": [
    " ## Install dependencies\n",
    " [Helpful notes](https://jakevdp.github.io/blog/2017/12/05/installing-python-packages-from-jupyter/) on best practices for installing dependencies with jupyter notebooks."
   ]
  },
  {
   "cell_type": "code",
   "execution_count": 1,
   "id": "6c94a41c-0214-43ba-9e39-8090955d4c96",
   "metadata": {},
   "outputs": [
    {
     "name": "stdout",
     "output_type": "stream",
     "text": [
      "Requirement already satisfied: beautifulsoup4 in /home/jthetzel/.cache/pypoetry/virtualenvs/notebooks-4iuYC0qS-py3.10/lib/python3.10/site-packages (4.11.1)\n",
      "Requirement already satisfied: httpx in /home/jthetzel/.cache/pypoetry/virtualenvs/notebooks-4iuYC0qS-py3.10/lib/python3.10/site-packages (0.22.0)\n",
      "Requirement already satisfied: pandas in /home/jthetzel/.cache/pypoetry/virtualenvs/notebooks-4iuYC0qS-py3.10/lib/python3.10/site-packages (1.4.2)\n",
      "Requirement already satisfied: soupsieve>1.2 in /home/jthetzel/.cache/pypoetry/virtualenvs/notebooks-4iuYC0qS-py3.10/lib/python3.10/site-packages (from beautifulsoup4) (2.3.2.post1)\n",
      "Requirement already satisfied: httpcore<0.15.0,>=0.14.5 in /home/jthetzel/.cache/pypoetry/virtualenvs/notebooks-4iuYC0qS-py3.10/lib/python3.10/site-packages (from httpx) (0.14.7)\n",
      "Requirement already satisfied: sniffio in /home/jthetzel/.cache/pypoetry/virtualenvs/notebooks-4iuYC0qS-py3.10/lib/python3.10/site-packages (from httpx) (1.2.0)\n",
      "Requirement already satisfied: charset-normalizer in /home/jthetzel/.cache/pypoetry/virtualenvs/notebooks-4iuYC0qS-py3.10/lib/python3.10/site-packages (from httpx) (2.0.12)\n",
      "Requirement already satisfied: certifi in /home/jthetzel/.cache/pypoetry/virtualenvs/notebooks-4iuYC0qS-py3.10/lib/python3.10/site-packages (from httpx) (2022.5.18.1)\n",
      "Requirement already satisfied: rfc3986[idna2008]<2,>=1.3 in /home/jthetzel/.cache/pypoetry/virtualenvs/notebooks-4iuYC0qS-py3.10/lib/python3.10/site-packages (from httpx) (1.5.0)\n",
      "Requirement already satisfied: numpy>=1.21.0 in /home/jthetzel/.cache/pypoetry/virtualenvs/notebooks-4iuYC0qS-py3.10/lib/python3.10/site-packages (from pandas) (1.22.4)\n",
      "Requirement already satisfied: python-dateutil>=2.8.1 in /home/jthetzel/.cache/pypoetry/virtualenvs/notebooks-4iuYC0qS-py3.10/lib/python3.10/site-packages (from pandas) (2.8.2)\n",
      "Requirement already satisfied: pytz>=2020.1 in /home/jthetzel/.cache/pypoetry/virtualenvs/notebooks-4iuYC0qS-py3.10/lib/python3.10/site-packages (from pandas) (2022.1)\n",
      "Requirement already satisfied: anyio==3.* in /home/jthetzel/.cache/pypoetry/virtualenvs/notebooks-4iuYC0qS-py3.10/lib/python3.10/site-packages (from httpcore<0.15.0,>=0.14.5->httpx) (3.6.1)\n",
      "Requirement already satisfied: h11<0.13,>=0.11 in /home/jthetzel/.cache/pypoetry/virtualenvs/notebooks-4iuYC0qS-py3.10/lib/python3.10/site-packages (from httpcore<0.15.0,>=0.14.5->httpx) (0.12.0)\n",
      "Requirement already satisfied: idna>=2.8 in /home/jthetzel/.cache/pypoetry/virtualenvs/notebooks-4iuYC0qS-py3.10/lib/python3.10/site-packages (from anyio==3.*->httpcore<0.15.0,>=0.14.5->httpx) (3.3)\n",
      "Requirement already satisfied: six>=1.5 in /home/jthetzel/.cache/pypoetry/virtualenvs/notebooks-4iuYC0qS-py3.10/lib/python3.10/site-packages (from python-dateutil>=2.8.1->pandas) (1.16.0)\n",
      "\u001b[33mWARNING: You are using pip version 22.0.4; however, version 22.3.1 is available.\n",
      "You should consider upgrading via the '/home/jthetzel/.cache/pypoetry/virtualenvs/notebooks-4iuYC0qS-py3.10/bin/python -m pip install --upgrade pip' command.\u001b[0m\u001b[33m\n",
      "\u001b[0m"
     ]
    }
   ],
   "source": [
    "import sys\n",
    "!{sys.executable} -m pip install beautifulsoup4 httpx pandas"
   ]
  },
  {
   "cell_type": "markdown",
   "id": "b9188ac6-2736-4560-8807-dfbc70289d86",
   "metadata": {},
   "source": [
    "## Import dependencies"
   ]
  },
  {
   "cell_type": "code",
   "execution_count": 2,
   "id": "275d207a-1b9d-4921-b235-6408b2fc3725",
   "metadata": {},
   "outputs": [],
   "source": [
    "import httpx\n",
    "from io import BytesIO\n",
    "from zipfile import ZipFile\n",
    "import pandas as pd"
   ]
  },
  {
   "cell_type": "markdown",
   "id": "a33fa9c5-9249-472f-9271-95ea1ed12c94",
   "metadata": {},
   "source": [
    "## Function to download data\n",
    "If we have time later, we will discuss more detail on how this function was developed."
   ]
  },
  {
   "cell_type": "code",
   "execution_count": 5,
   "id": "ecdfa85d-65e6-4f91-b03c-6cd5cc11dcbe",
   "metadata": {},
   "outputs": [],
   "source": [
    "def get_hydrometric_data(station_id: str, date_start: str, date_end: str) -> pd.DataFrame:\n",
    "    \"\"\"Fetch hydrometic data from wateroffice.ec.gc.ca and return pandas data frame.\"\"\"\n",
    "    \n",
    "    # Uri to create a session with wateroffice.ec.gc.ca\n",
    "    uri_station = f\"https://wateroffice.ec.gc.ca/report/real_time_e.html?stn={station_id}&mode=Table&startDate={date_start}&endDate={date_end}\"\n",
    "    \n",
    "    # Uri to accept the terms and conditions, which updates our session that terms are accepted\n",
    "    uri_login = \"https://wateroffice.ec.gc.ca/disclaimer_e.html\"\n",
    "    \n",
    "    # Once our session is updated with accepted terms, we can use this uri to downoad the data as a csv zip archive\n",
    "    uri_csv = f\"https://wateroffice.ec.gc.ca/download/report_e.html?dt=47&df=csv&ext=zip&stn={station_id}&mode=Table&startDate={date_start}&endDate={date_end}\"\n",
    "\n",
    "\n",
    "    # Get the uri_station to create our session\n",
    "    with httpx.Client(timeout=10, follow_redirects=True) as client:\n",
    "        response_station = client.get(uri_station)\n",
    "        response_station.raise_for_status\n",
    "\n",
    "    # Get the session id from the response cookie. We'll use this for future http requests.\n",
    "    PHPSESSID = response_station.cookies[\"PHPSESSID\"]\n",
    "    cookies = httpx.Cookies()\n",
    "    cookies.set(\"PHPSESSID\", PHPSESSID, domain=\"wateroffice.ec.gc.ca\")\n",
    "\n",
    "\n",
    "    # Accept terms and download data. We'll share our cookies so both requests use the same session id.\n",
    "    with httpx.Client(timeout=10, follow_redirects=True, cookies=cookies) as client:\n",
    "        headers = {\"referrer\": uri_station}\n",
    "        data = {\"disclaimer_action\": \"I+Agree\"}\n",
    "\n",
    "        # Accept terms\n",
    "        response_login = client.post(uri_login, data=data, headers=headers)\n",
    "        response_login.raise_for_status()\n",
    "\n",
    "        # Download data\n",
    "        response_csv = client.get(uri_csv)\n",
    "        response_csv.raise_for_status()\n",
    "\n",
    "    # The data are returned as a stream of bytes representing a csv zip archive file. Open the zip archive in memory.\n",
    "    zip_file = ZipFile(BytesIO(response_csv.content))\n",
    "    data_file = zip_file.filelist[0]\n",
    "\n",
    "    # Read the csv file as a stream of bytes into a pandas data frame, skipping non-data rows\n",
    "    data_frame = pd.read_csv(BytesIO(zip_file.read(data_file.filename)), skiprows=9)\n",
    "    \n",
    "    # Return the data frame\n",
    "    return data_frame"
   ]
  },
  {
   "cell_type": "markdown",
   "id": "533471f3-f6be-45e7-9d5c-35448fd1afdf",
   "metadata": {},
   "source": [
    "## Download data\n",
    "Download data from wateroffice.ec.gc.ca, specifying the station_id, date_start, and date_end"
   ]
  },
  {
   "cell_type": "code",
   "execution_count": 6,
   "id": "3f09fb61-6d89-428f-bbf1-19b924ccdcda",
   "metadata": {},
   "outputs": [
    {
     "data": {
      "text/html": [
       "<div>\n",
       "<style scoped>\n",
       "    .dataframe tbody tr th:only-of-type {\n",
       "        vertical-align: middle;\n",
       "    }\n",
       "\n",
       "    .dataframe tbody tr th {\n",
       "        vertical-align: top;\n",
       "    }\n",
       "\n",
       "    .dataframe thead th {\n",
       "        text-align: right;\n",
       "    }\n",
       "</style>\n",
       "<table border=\"1\" class=\"dataframe\">\n",
       "  <thead>\n",
       "    <tr style=\"text-align: right;\">\n",
       "      <th></th>\n",
       "      <th>Date (MST)</th>\n",
       "      <th>Parameter</th>\n",
       "      <th>Value (m³/s)</th>\n",
       "      <th>Approval</th>\n",
       "      <th>Qualifier</th>\n",
       "    </tr>\n",
       "  </thead>\n",
       "  <tbody>\n",
       "    <tr>\n",
       "      <th>0</th>\n",
       "      <td>2022-11-07 00:00:00</td>\n",
       "      <td>47</td>\n",
       "      <td>561</td>\n",
       "      <td>PRELIMINARY</td>\n",
       "      <td>UNSPECIFIED</td>\n",
       "    </tr>\n",
       "    <tr>\n",
       "      <th>1</th>\n",
       "      <td>2022-11-07 00:05:00</td>\n",
       "      <td>47</td>\n",
       "      <td>560</td>\n",
       "      <td>PRELIMINARY</td>\n",
       "      <td>UNSPECIFIED</td>\n",
       "    </tr>\n",
       "    <tr>\n",
       "      <th>2</th>\n",
       "      <td>2022-11-07 00:10:00</td>\n",
       "      <td>47</td>\n",
       "      <td>558</td>\n",
       "      <td>PRELIMINARY</td>\n",
       "      <td>UNSPECIFIED</td>\n",
       "    </tr>\n",
       "    <tr>\n",
       "      <th>3</th>\n",
       "      <td>2022-11-07 00:15:00</td>\n",
       "      <td>47</td>\n",
       "      <td>558</td>\n",
       "      <td>PRELIMINARY</td>\n",
       "      <td>UNSPECIFIED</td>\n",
       "    </tr>\n",
       "    <tr>\n",
       "      <th>4</th>\n",
       "      <td>2022-11-07 00:20:00</td>\n",
       "      <td>47</td>\n",
       "      <td>559</td>\n",
       "      <td>PRELIMINARY</td>\n",
       "      <td>UNSPECIFIED</td>\n",
       "    </tr>\n",
       "    <tr>\n",
       "      <th>...</th>\n",
       "      <td>...</td>\n",
       "      <td>...</td>\n",
       "      <td>...</td>\n",
       "      <td>...</td>\n",
       "      <td>...</td>\n",
       "    </tr>\n",
       "    <tr>\n",
       "      <th>2299</th>\n",
       "      <td>2022-11-14 23:35:00</td>\n",
       "      <td>47</td>\n",
       "      <td>518</td>\n",
       "      <td>PRELIMINARY</td>\n",
       "      <td>UNSPECIFIED</td>\n",
       "    </tr>\n",
       "    <tr>\n",
       "      <th>2300</th>\n",
       "      <td>2022-11-14 23:40:00</td>\n",
       "      <td>47</td>\n",
       "      <td>515</td>\n",
       "      <td>PRELIMINARY</td>\n",
       "      <td>UNSPECIFIED</td>\n",
       "    </tr>\n",
       "    <tr>\n",
       "      <th>2301</th>\n",
       "      <td>2022-11-14 23:45:00</td>\n",
       "      <td>47</td>\n",
       "      <td>513</td>\n",
       "      <td>PRELIMINARY</td>\n",
       "      <td>UNSPECIFIED</td>\n",
       "    </tr>\n",
       "    <tr>\n",
       "      <th>2302</th>\n",
       "      <td>2022-11-14 23:50:00</td>\n",
       "      <td>47</td>\n",
       "      <td>515</td>\n",
       "      <td>PRELIMINARY</td>\n",
       "      <td>UNSPECIFIED</td>\n",
       "    </tr>\n",
       "    <tr>\n",
       "      <th>2303</th>\n",
       "      <td>2022-11-14 23:55:00</td>\n",
       "      <td>47</td>\n",
       "      <td>516</td>\n",
       "      <td>PRELIMINARY</td>\n",
       "      <td>UNSPECIFIED</td>\n",
       "    </tr>\n",
       "  </tbody>\n",
       "</table>\n",
       "<p>2304 rows × 5 columns</p>\n",
       "</div>"
      ],
      "text/plain": [
       "               Date (MST)  Parameter   Value (m³/s)     Approval    Qualifier\n",
       "0     2022-11-07 00:00:00          47           561  PRELIMINARY  UNSPECIFIED\n",
       "1     2022-11-07 00:05:00          47           560  PRELIMINARY  UNSPECIFIED\n",
       "2     2022-11-07 00:10:00          47           558  PRELIMINARY  UNSPECIFIED\n",
       "3     2022-11-07 00:15:00          47           558  PRELIMINARY  UNSPECIFIED\n",
       "4     2022-11-07 00:20:00          47           559  PRELIMINARY  UNSPECIFIED\n",
       "...                   ...         ...           ...          ...          ...\n",
       "2299  2022-11-14 23:35:00          47           518  PRELIMINARY  UNSPECIFIED\n",
       "2300  2022-11-14 23:40:00          47           515  PRELIMINARY  UNSPECIFIED\n",
       "2301  2022-11-14 23:45:00          47           513  PRELIMINARY  UNSPECIFIED\n",
       "2302  2022-11-14 23:50:00          47           515  PRELIMINARY  UNSPECIFIED\n",
       "2303  2022-11-14 23:55:00          47           516  PRELIMINARY  UNSPECIFIED\n",
       "\n",
       "[2304 rows x 5 columns]"
      ]
     },
     "execution_count": 6,
     "metadata": {},
     "output_type": "execute_result"
    }
   ],
   "source": [
    "station_id = \"10JC003\"\n",
    "date_start = \"2022-11-07\"\n",
    "date_end = \"2022-11-14\"\n",
    "\n",
    "data_frame = get_hydrometric_data(station_id, date_start, date_end)\n",
    "data_frame"
   ]
  },
  {
   "cell_type": "markdown",
   "id": "2400aea3-4643-4a2f-8966-ee458051d64c",
   "metadata": {},
   "source": [
    "## Done!\n",
    "We now have hydrometric data in a pandas data frame. Not sure how robust `get_hydrometric_data` is to modifying the station_id, date_start, or date_end arguments, but hopefully if we get the patterns right, this should be automatable.\n",
    "\n",
    "Below are some notes to self that we might make into a more in depth tutorial of using http responses, cookies, sessions, and byte streams to access data. If we ever have time. Ignore for now."
   ]
  },
  {
   "cell_type": "markdown",
   "id": "49fc3add-3f98-4f48-8d2f-efa852212cf7",
   "metadata": {},
   "source": [
    "## Login to the website"
   ]
  },
  {
   "cell_type": "code",
   "execution_count": null,
   "id": "8718057e-daee-4cc7-b30e-f0ed66489755",
   "metadata": {},
   "outputs": [],
   "source": [
    "url = \"https://wateroffice.ec.gc.ca/report/real_time_e.html?stn=10JC003&mode=Table&startDate=2022-11-07&endDate=2022-11-14\""
   ]
  },
  {
   "cell_type": "markdown",
   "id": "6b5c69d9-6912-4bd8-8a95-87909772f68e",
   "metadata": {},
   "source": [
    "After playing around with attempting to download the data directly in csv form, it seems the gc.ca website expects a PHP session token. Without it, we get redirected to the login page. By opening the browser developer tools (ctrl-shift-i in chrome) and clicking the `network` tab, we can see the actuall http requests made by the website. If we then click the `agree` button in the login page, we see a POST request to `disclaimer_e.html` in the network tab. Right-clicking this, we can select `copy as fetch` which copies into our clipboard the following:\n",
    "\n",
    "```\n",
    "fetch(\"https://wateroffice.ec.gc.ca/disclaimer_e.html\", {\n",
    "  \"headers\": {\n",
    "    \"accept\": \"text/html,application/xhtml+xml,application/xml;q=0.9,image/avif,image/webp,image/apng,*/*;q=0.8,application/signed-exchange;v=b3;q=0.9\",\n",
    "    \"accept-language\": \"en-US,en;q=0.9\",\n",
    "    \"cache-control\": \"max-age=0\",\n",
    "    \"content-type\": \"application/x-www-form-urlencoded\",\n",
    "    \"sec-ch-ua\": \"\\\"Google Chrome\\\";v=\\\"105\\\", \\\"Not)A;Brand\\\";v=\\\"8\\\", \\\"Chromium\\\";v=\\\"105\\\"\",\n",
    "    \"sec-ch-ua-mobile\": \"?0\",\n",
    "    \"sec-ch-ua-platform\": \"\\\"Linux\\\"\",\n",
    "    \"sec-fetch-dest\": \"document\",\n",
    "    \"sec-fetch-mode\": \"navigate\",\n",
    "    \"sec-fetch-site\": \"same-origin\",\n",
    "    \"sec-fetch-user\": \"?1\",\n",
    "    \"upgrade-insecure-requests\": \"1\"\n",
    "  },\n",
    "  \"referrer\": \"https://wateroffice.ec.gc.ca/report/real_time_e.html?stn=10JC003&mode=Table&startDate=2022-11-07&endDate=2022-11-14\",\n",
    "  \"referrerPolicy\": \"strict-origin-when-cross-origin\",\n",
    "  \"body\": \"disclaimer_action=I+Agree\",\n",
    "  \"method\": \"POST\",\n",
    "  \"mode\": \"cors\",\n",
    "  \"credentials\": \"include\"\n",
    "});\n",
    "```\n",
    "\n",
    "The above is the exact same http post request made by the browser, but translated into javascript (`fetch` is a built-in javascript function for making http requests). We can now translate that into a python function to make a similar request from python."
   ]
  },
  {
   "cell_type": "code",
   "execution_count": 11,
   "id": "81d84832-cf85-419a-b10c-4cfc02f04cf0",
   "metadata": {},
   "outputs": [
    {
     "data": {
      "text/plain": [
       "<Response [200 OK]>"
      ]
     },
     "execution_count": 11,
     "metadata": {},
     "output_type": "execute_result"
    }
   ],
   "source": [
    "with httpx.Client(timeout=10, follow_redirects=True) as client:\n",
    "    headers = {}\n",
    "    referrer = \"https://wateroffice.ec.gc.ca/report/real_time_e.html?stn=10JC003&mode=Table&startDate=2022-11-07&endDate=2022-11-14\"\n",
    "    body = \"disclaimer_action=I+Agree\"\n",
    "    response = client.post(\"https://wateroffice.ec.gc.ca/disclaimer_e.html\", data=body)\n",
    "    \n",
    "response    "
   ]
  },
  {
   "cell_type": "markdown",
   "id": "2da5d74b-2997-4cf7-a3bd-5e5198a93347",
   "metadata": {},
   "source": [
    "THe `200` indicates a success! Other http codes include `300` codes (redirect to another site), `400` codes (malformed request or permission error), or `500` codes (something went wrong on the server). We can inspect the `text` property, which is the html file returned after logging in."
   ]
  },
  {
   "cell_type": "markdown",
   "id": "6af645d9-1f0b-44da-ba4b-3e6238794014",
   "metadata": {},
   "source": [
    "Here are the other properties and methods available to the `response` object."
   ]
  },
  {
   "cell_type": "code",
   "execution_count": 15,
   "id": "b0a8be4f-5e58-4209-afa9-2b4c26edb43f",
   "metadata": {},
   "outputs": [
    {
     "data": {
      "text/plain": [
       "['__class__',\n",
       " '__delattr__',\n",
       " '__dict__',\n",
       " '__dir__',\n",
       " '__doc__',\n",
       " '__eq__',\n",
       " '__format__',\n",
       " '__ge__',\n",
       " '__getattribute__',\n",
       " '__getstate__',\n",
       " '__gt__',\n",
       " '__hash__',\n",
       " '__init__',\n",
       " '__init_subclass__',\n",
       " '__le__',\n",
       " '__lt__',\n",
       " '__module__',\n",
       " '__ne__',\n",
       " '__new__',\n",
       " '__reduce__',\n",
       " '__reduce_ex__',\n",
       " '__repr__',\n",
       " '__setattr__',\n",
       " '__setstate__',\n",
       " '__sizeof__',\n",
       " '__str__',\n",
       " '__subclasshook__',\n",
       " '__weakref__',\n",
       " '_content',\n",
       " '_decoder',\n",
       " '_elapsed',\n",
       " '_encoding',\n",
       " '_get_content_decoder',\n",
       " '_num_bytes_downloaded',\n",
       " '_prepare',\n",
       " '_request',\n",
       " '_text',\n",
       " 'aclose',\n",
       " 'aiter_bytes',\n",
       " 'aiter_lines',\n",
       " 'aiter_raw',\n",
       " 'aiter_text',\n",
       " 'apparent_encoding',\n",
       " 'aread',\n",
       " 'charset_encoding',\n",
       " 'close',\n",
       " 'content',\n",
       " 'cookies',\n",
       " 'elapsed',\n",
       " 'encoding',\n",
       " 'extensions',\n",
       " 'has_redirect_location',\n",
       " 'headers',\n",
       " 'history',\n",
       " 'http_version',\n",
       " 'is_client_error',\n",
       " 'is_closed',\n",
       " 'is_error',\n",
       " 'is_informational',\n",
       " 'is_redirect',\n",
       " 'is_server_error',\n",
       " 'is_stream_consumed',\n",
       " 'is_success',\n",
       " 'iter_bytes',\n",
       " 'iter_lines',\n",
       " 'iter_raw',\n",
       " 'iter_text',\n",
       " 'json',\n",
       " 'links',\n",
       " 'next_request',\n",
       " 'num_bytes_downloaded',\n",
       " 'raise_for_status',\n",
       " 'read',\n",
       " 'reason_phrase',\n",
       " 'request',\n",
       " 'status_code',\n",
       " 'stream',\n",
       " 'text',\n",
       " 'url']"
      ]
     },
     "execution_count": 15,
     "metadata": {},
     "output_type": "execute_result"
    }
   ],
   "source": [
    "dir(response)"
   ]
  },
  {
   "cell_type": "code",
   "execution_count": 31,
   "id": "9a2ad225-af60-47e2-8e9d-7af30c53ca10",
   "metadata": {},
   "outputs": [
    {
     "data": {
      "text/plain": [
       "<Response [200 OK]>"
      ]
     },
     "execution_count": 31,
     "metadata": {},
     "output_type": "execute_result"
    }
   ],
   "source": [
    "with httpx.Client(timeout=10, follow_redirects=True) as client:\n",
    "    referrer = \"https://wateroffice.ec.gc.ca/report/real_time_e.html?stn=10JC003&mode=Table&startDate=2022-11-07&endDate=2022-11-14\"\n",
    "    headers = {\"referrer\": referrer}\n",
    "    data = {\"disclaimer_action\": \"I+Agree\"}\n",
    "    response = client.post(\"https://wateroffice.ec.gc.ca/disclaimer_e.html\", data=body, headers=headers)\n",
    "    \n",
    "response  "
   ]
  },
  {
   "cell_type": "code",
   "execution_count": 50,
   "id": "9c51fa46-db17-478c-ac65-ded39b9e85e0",
   "metadata": {},
   "outputs": [],
   "source": [
    "uri = \"https://wateroffice.ec.gc.ca/report/real_time_e.html?stn=10JC003&mode=Table&startDate=2022-11-07&endDate=2022-11-14\""
   ]
  },
  {
   "cell_type": "code",
   "execution_count": 51,
   "id": "ddca5517-1845-4455-9a0e-2079bdd2494e",
   "metadata": {},
   "outputs": [
    {
     "data": {
      "text/plain": [
       "<Response [200 OK]>"
      ]
     },
     "execution_count": 51,
     "metadata": {},
     "output_type": "execute_result"
    }
   ],
   "source": [
    "with httpx.Client(timeout=10, follow_redirects=True) as client:\n",
    "    response = client.get(uri)\n",
    "    response.raise_for_status\n",
    "    \n",
    "response "
   ]
  },
  {
   "cell_type": "code",
   "execution_count": 52,
   "id": "fc5c162e-7ba7-4118-8b58-00f398df918a",
   "metadata": {},
   "outputs": [
    {
     "data": {
      "text/plain": [
       "<Cookies[<Cookie PHPSESSID=189d6da20ece6a5acaf1d82a883852d9 for wateroffice.ec.gc.ca />]>"
      ]
     },
     "execution_count": 52,
     "metadata": {},
     "output_type": "execute_result"
    }
   ],
   "source": [
    "response.cookies"
   ]
  },
  {
   "cell_type": "code",
   "execution_count": null,
   "id": "094f8963-b914-49b7-b445-0822f7f5a850",
   "metadata": {},
   "outputs": [],
   "source": []
  },
  {
   "cell_type": "code",
   "execution_count": 53,
   "id": "9f35f310-9610-4ab0-b1b4-8384f9a20158",
   "metadata": {},
   "outputs": [
    {
     "data": {
      "text/plain": [
       "'189d6da20ece6a5acaf1d82a883852d9'"
      ]
     },
     "execution_count": 53,
     "metadata": {},
     "output_type": "execute_result"
    }
   ],
   "source": [
    "PHPSESSID = response.cookies[\"PHPSESSID\"]\n",
    "PHPSESSID"
   ]
  },
  {
   "cell_type": "code",
   "execution_count": 54,
   "id": "2fba618c-951c-4636-a79f-f65d52999672",
   "metadata": {},
   "outputs": [],
   "source": [
    "cookies = httpx.Cookies()\n",
    "cookies.set(\"PHPSESSID\", PHPSESSID, domain=\"wateroffice.ec.gc.ca\")"
   ]
  },
  {
   "cell_type": "code",
   "execution_count": 130,
   "id": "3cff08b2-b5ca-4d5c-8d96-611681b44300",
   "metadata": {},
   "outputs": [
    {
     "data": {
      "text/plain": [
       "<zipfile.ZipFile file=<_io.BytesIO object at 0x7f8d86ed2c00> mode='r'>"
      ]
     },
     "execution_count": 130,
     "metadata": {},
     "output_type": "execute_result"
    }
   ],
   "source": [
    "zip_file = ZipFile(BytesIO(response_csv.content))\n",
    "zip_file"
   ]
  },
  {
   "cell_type": "code",
   "execution_count": 131,
   "id": "4ceffb6d-2448-40d0-b3b8-8a2fb35a7a9c",
   "metadata": {},
   "outputs": [
    {
     "data": {
      "text/plain": [
       "<ZipInfo filename='10JC003_QR_20221118T1930.csv' compress_type=deflate filemode='-rw-rw-rw-' file_size=120174 compress_size=8962>"
      ]
     },
     "execution_count": 131,
     "metadata": {},
     "output_type": "execute_result"
    }
   ],
   "source": [
    "data_file = zip_file.filelist[0]\n",
    "data_file"
   ]
  },
  {
   "cell_type": "code",
   "execution_count": 138,
   "id": "f60aa58a-cba0-426d-8b0d-29c0e6e281d5",
   "metadata": {},
   "outputs": [
    {
     "data": {
      "text/html": [
       "<div>\n",
       "<style scoped>\n",
       "    .dataframe tbody tr th:only-of-type {\n",
       "        vertical-align: middle;\n",
       "    }\n",
       "\n",
       "    .dataframe tbody tr th {\n",
       "        vertical-align: top;\n",
       "    }\n",
       "\n",
       "    .dataframe thead th {\n",
       "        text-align: right;\n",
       "    }\n",
       "</style>\n",
       "<table border=\"1\" class=\"dataframe\">\n",
       "  <thead>\n",
       "    <tr style=\"text-align: right;\">\n",
       "      <th></th>\n",
       "      <th>Date (MST)</th>\n",
       "      <th>Parameter</th>\n",
       "      <th>Value (m³/s)</th>\n",
       "      <th>Approval</th>\n",
       "      <th>Qualifier</th>\n",
       "    </tr>\n",
       "  </thead>\n",
       "  <tbody>\n",
       "    <tr>\n",
       "      <th>0</th>\n",
       "      <td>2022-11-07 00:00:00</td>\n",
       "      <td>47</td>\n",
       "      <td>561</td>\n",
       "      <td>PRELIMINARY</td>\n",
       "      <td>UNSPECIFIED</td>\n",
       "    </tr>\n",
       "    <tr>\n",
       "      <th>1</th>\n",
       "      <td>2022-11-07 00:05:00</td>\n",
       "      <td>47</td>\n",
       "      <td>560</td>\n",
       "      <td>PRELIMINARY</td>\n",
       "      <td>UNSPECIFIED</td>\n",
       "    </tr>\n",
       "    <tr>\n",
       "      <th>2</th>\n",
       "      <td>2022-11-07 00:10:00</td>\n",
       "      <td>47</td>\n",
       "      <td>558</td>\n",
       "      <td>PRELIMINARY</td>\n",
       "      <td>UNSPECIFIED</td>\n",
       "    </tr>\n",
       "    <tr>\n",
       "      <th>3</th>\n",
       "      <td>2022-11-07 00:15:00</td>\n",
       "      <td>47</td>\n",
       "      <td>558</td>\n",
       "      <td>PRELIMINARY</td>\n",
       "      <td>UNSPECIFIED</td>\n",
       "    </tr>\n",
       "    <tr>\n",
       "      <th>4</th>\n",
       "      <td>2022-11-07 00:20:00</td>\n",
       "      <td>47</td>\n",
       "      <td>559</td>\n",
       "      <td>PRELIMINARY</td>\n",
       "      <td>UNSPECIFIED</td>\n",
       "    </tr>\n",
       "    <tr>\n",
       "      <th>...</th>\n",
       "      <td>...</td>\n",
       "      <td>...</td>\n",
       "      <td>...</td>\n",
       "      <td>...</td>\n",
       "      <td>...</td>\n",
       "    </tr>\n",
       "    <tr>\n",
       "      <th>2299</th>\n",
       "      <td>2022-11-14 23:35:00</td>\n",
       "      <td>47</td>\n",
       "      <td>518</td>\n",
       "      <td>PRELIMINARY</td>\n",
       "      <td>UNSPECIFIED</td>\n",
       "    </tr>\n",
       "    <tr>\n",
       "      <th>2300</th>\n",
       "      <td>2022-11-14 23:40:00</td>\n",
       "      <td>47</td>\n",
       "      <td>515</td>\n",
       "      <td>PRELIMINARY</td>\n",
       "      <td>UNSPECIFIED</td>\n",
       "    </tr>\n",
       "    <tr>\n",
       "      <th>2301</th>\n",
       "      <td>2022-11-14 23:45:00</td>\n",
       "      <td>47</td>\n",
       "      <td>513</td>\n",
       "      <td>PRELIMINARY</td>\n",
       "      <td>UNSPECIFIED</td>\n",
       "    </tr>\n",
       "    <tr>\n",
       "      <th>2302</th>\n",
       "      <td>2022-11-14 23:50:00</td>\n",
       "      <td>47</td>\n",
       "      <td>515</td>\n",
       "      <td>PRELIMINARY</td>\n",
       "      <td>UNSPECIFIED</td>\n",
       "    </tr>\n",
       "    <tr>\n",
       "      <th>2303</th>\n",
       "      <td>2022-11-14 23:55:00</td>\n",
       "      <td>47</td>\n",
       "      <td>516</td>\n",
       "      <td>PRELIMINARY</td>\n",
       "      <td>UNSPECIFIED</td>\n",
       "    </tr>\n",
       "  </tbody>\n",
       "</table>\n",
       "<p>2304 rows × 5 columns</p>\n",
       "</div>"
      ],
      "text/plain": [
       "               Date (MST)  Parameter   Value (m³/s)     Approval    Qualifier\n",
       "0     2022-11-07 00:00:00          47           561  PRELIMINARY  UNSPECIFIED\n",
       "1     2022-11-07 00:05:00          47           560  PRELIMINARY  UNSPECIFIED\n",
       "2     2022-11-07 00:10:00          47           558  PRELIMINARY  UNSPECIFIED\n",
       "3     2022-11-07 00:15:00          47           558  PRELIMINARY  UNSPECIFIED\n",
       "4     2022-11-07 00:20:00          47           559  PRELIMINARY  UNSPECIFIED\n",
       "...                   ...         ...           ...          ...          ...\n",
       "2299  2022-11-14 23:35:00          47           518  PRELIMINARY  UNSPECIFIED\n",
       "2300  2022-11-14 23:40:00          47           515  PRELIMINARY  UNSPECIFIED\n",
       "2301  2022-11-14 23:45:00          47           513  PRELIMINARY  UNSPECIFIED\n",
       "2302  2022-11-14 23:50:00          47           515  PRELIMINARY  UNSPECIFIED\n",
       "2303  2022-11-14 23:55:00          47           516  PRELIMINARY  UNSPECIFIED\n",
       "\n",
       "[2304 rows x 5 columns]"
      ]
     },
     "execution_count": 138,
     "metadata": {},
     "output_type": "execute_result"
    }
   ],
   "source": [
    "pd.read_csv(BytesIO(zip_file.read(data_file.filename)), skiprows=9)"
   ]
  },
  {
   "cell_type": "code",
   "execution_count": null,
   "id": "83e7cf99-0013-485e-8f3f-243a5294f486",
   "metadata": {},
   "outputs": [],
   "source": [
    "\n",
    "\n",
    "with httpx.Client(timeout=10, follow_redirects=True, cookies=cookies) as client:\n",
    "    referrer = \"https://wateroffice.ec.gc.ca/report/real_time_e.html?stn=10JC003&mode=Table&startDate=2022-11-07&endDate=2022-11-14\"\n",
    "    login_uri = \"https://wateroffice.ec.gc.ca/disclaimer_e.html\"\n",
    "    # download_uri = \"https://wateroffice.ec.gc.ca/download/report_e.html?dt=47&df=txt&ext=zip&stn=10JC003&mode=Table&startDate=2022-11-07&endDate=2022-11-14\"\n",
    "    download_uri = \"https://wateroffice.ec.gc.ca/download/report_e.html?dt=47&df=txt&stn=10JC003&mode=Table&startDate=2022-11-07&endDate=2022-11-14\"\n",
    "    headers = {\"referrer\": referrer}\n",
    "    data = {\"disclaimer_action\": \"I+Agree\"}\n",
    "    response = client.post(login_uri, data=body, headers=headers)\n",
    "    \n",
    "    response.raise_for_status()\n",
    "    \n",
    "    download_response = client.get(download_uri)\n",
    "    \n",
    "download_response"
   ]
  },
  {
   "cell_type": "code",
   "execution_count": 71,
   "id": "b3fea000-9249-4476-86c6-d3edb4b3e32b",
   "metadata": {},
   "outputs": [
    {
     "data": {
      "text/plain": [
       "'utf-8'"
      ]
     },
     "execution_count": 71,
     "metadata": {},
     "output_type": "execute_result"
    }
   ],
   "source": [
    "download_response.encoding"
   ]
  },
  {
   "cell_type": "code",
   "execution_count": 68,
   "id": "ad644ccb-7ff4-43ac-9788-52c9e60b49b8",
   "metadata": {},
   "outputs": [
    {
     "data": {
      "text/plain": [
       "'PK\\x03\\x04\\x14\\x00\\x00\\x00\\x08\\x00��rU��\\t�\\x02#\\x00\\x00n�\\x01\\x00\\x1c\\x00\\x00\\x0010JC003_QR_20221118T1807.txt��ͮ\\x1e�q��\\x14�{8��Z\\x08�����N��D��8�l \\x08�`$�f`��!-�וe\\x16\\x01rC���>_��;\\x01��)@� ��W�55�W�N��\\x7f��/_�\\U00053def�}��͋�/\\x1e>yx�\\x7f���_�}x�����\\x0f�\\u07bcz�݇\\x1f|���??���\\x1f�><��W������wo\\x1f>{�\\u074bo^�$���?���\\x0f>�ˏ}�������<������W_?|���\\x7f����o�|��W\\x0f\\x7f���/\\x1f���Ͽ|x�_��~��ݿ~��ߟ\\x7f���\\x1f~Ҷ��l���\\x0f��˯���\\x06n\\x7f��#�K���_������o�u����\\x1e�\\x7f���]�^>���\\x1f���G��z��\\x1f^<����O�\\x7f|���??�y�ݛwm����\\x1f^~��GϾ��\\x7f��7�[�?���/~����~��?���/���w\\x7f�����O�����\\x0f/���\\x1f��⏯~����\\x1f���\\'�}�\\x1d\\x0f��ӿ�����۳_}���_��_~��?=��/\\x7f���}�/�\\x7f�\\x7f����\\\\��h\\'��$g�n紙�L/��w;�ˌ�������2Y��w;�1m�7�mm���.�\\nv�x;\\\\&���\\x1aovۖxk6s����\\x12o��G�N\\x16�$�[���\\x0c��X�m����%��f\\nvz�o\\x1d�?Q\\x18�b�7��\\x12o>���5�N�I:\\x07�%�\\x00��mQ�\\x13x}Зx��f�vv����>l�n\\']�\\x1eo{���m\\x1b����LR_�B��%���D�?��`,�v�����a��\\x1eo��۱}���i3�o��۰���%�|�n�p�%ަ�$�u���L�-��Q�O\\x16����ٗxs��}���2<��5��ex��k��L�q���f?����}�7�N��g_�of\\\\\\x1f��-m\\x06���u��3I��Ga�p\\x14�\\x0bGa�p�����3����p\\x1er��f�m��\\x166��`��6�ϫf�<d��6]�o\\x05\\x06�\\x07�\\x10os�7���ӹƛ�|�5ަ����Χ��`���|j�\\t<���|�m\\x06�\\x0f����\\\\�S�m�|j�\\r�O��\\x17v������\\x17�5R[�\\x0b�\\x1a���\\x05s=�����t�olk~����\\x0bm�/�\\x0cޟ�5������Bk|������������Bk�<���\\x05s<h��o���B���\\x05�`�Ea|�B�Ea|�����\\x17\\x00S�\\x0f�����&�\\x05�m���n[��O+�\\x17��\\x17|��ښ_0�bm�/�v\\x02?������|}��Bs�A�\\x18���V�/4�/��(�o�_\\x18.��xP�/4�/�\\x0c��Q�����m�/�m\\x1b\\x05;<�Fa� ���\\x19�>(�\\x17Z!��\\n��&�\\x05�N߸���M�\\x0b��Fr\\x1f$^�\\x17�\\x0bM�\\x0b�f�v�e��v�6s�3\\\\��O\\x0b��V�/4�/�����|V[�\\x0b�3M\\x1c\\x07k~�}�k~���5�\\x00\\x18����\\x05��G!����\\x1b\\x07G!ގB���\\x05�\\x0e>\\x7fkGa>]�\\x0b��r\\x16�\\x0bk~����{�����,�\\x17����^�3\\n~\\x1b�8Ȃ������~;\\x0b�\\x05�/�L�?�\\x15\\x18\\x1c\\x07\\'ϟ���\\'ok~\\x0104?�N��j\\'�gŚ_0s���\\x17̜kl<\\x7f\\x1a\\x05�Bl||���Oc��-c�/춯G�?��?!���f�{\\x1ak~�m[��-���h�<$\\x1a?\\x0f���C�\\x15���!�\\n����[4~\\x1e\\x12�_0�i���!�\\x05�\\x0e>\\x0f���!\\x11�<$��O#���X�\\x0b�ݟ�~��$<\\x0b�5������X�\\x0bf�\\'$�p�L+�i8\\x0e:?\\x0f�^�����ƚ_�Q��(�\\'\\x0bv��SL՟Zg\\x0eS���\\x19�T��߶�ޟ��S�\\x14�tv�8U\\x7fzL����T����Ɵi�8h�x[�o�{:U\\x7fj�?S���8:U\\x7f��6�����S�m�>�T���|F�oY�[b�\\x05�gM՟���뷩��=]&�\\x02S���:q����\\x1b��6U\\x7f�3Yx>�>�T���έ�7���4�5U\\x7f�ם�G��?�}�7\\u07b6��mY��v\\x06^W��ۼ�O��\\x07�\\x0f�\\x17��t��\\x15������z?č�A��\\u038b�������Q���~\\x08`�x�4\\x7f:U\\x7f�G��!3l�n�t�{��f3x\\x1d/�S�I:�g!���!��#�C�%��\\x0f�6S���<�\\x17�o;=�\\x17���t�����yџ6�a��S�������ө�S��\\x07�g͋��t\\x19�?��?�\\x19\\x1eo�~�T���>8��C��O��%�\\x1b�\\x1f2U\\x7f��g�|�T��o\\'�{*�C\\x0e��[�I�6>�M�Ϛ�?uǃY����O��Osw\\x19���YПN՟�qp\\x16�M�\\x0c�a�\\x1c��O};�{�S���6��\\x11���6џ�L�`���Ԝ�D\\x7fj�?�?5���?�������x�F�?�<D����)�\\x17Z!������?�\\x17��ݟ���O\\x01C�Qџ\\x02�`\\'鼭�Ss���C�E\\x7f�]��}I+�\\x17Z!�����e��\\x16T/3U\\x7f�?���\\\\\\x7f:/�S3v:�o9U\\x7fj�CT\\x7f�l�`\\x07~\\x1fi��t�.s���6s����=ކ�LG�?Y�\\x03\\x1eo��~[�\\x0b�:q�/�q��\\x17\\\\����q�\\x0c��5�����\\x0c������L\\x16�$�Ϛ_p���\\x17|��oI��5U\\x7f\\n\\x18��I�_��?��Q�3\\n�ɭ�$<s\\x10��;ׯ�\\x05�N+�i\\x05;A���?��^�������\\x10џ�����7џ�{�������g����\\nv�y��O������\\x17\\x0e�\\x19x?\\'�\\x05�?I�G\\x1b���T�in6����I�/L՟\\x02\\x06�;�0�J~!]f\\x14쌂�,<���9��e�\\x19\\x1c\\x07\\'�~�T�������\\x176����5�0�����e\\x7fj3���k~��#�Sso&�S��=�ƴ\\x19�/\\x11�)`���\\x17�,�f�`��G���\\x18��Ӱ\\x19l���T���\\x1d<���Ԝ�D\\x7f\\n��m�\\x05�u��4>����g\\x12�;k~�e�ϧ�?u}\\x1d�<D��>\\x13\\x1bo[\\x14�,��i3ə���罢?u߹��\\x05џ��Qџ�{\\x19џ��mџ�v��\\x10џ�>�\\x05�����O\\x01S��x^���S����9/�O����o��O�<���S�m����?M�aq}^��L�?Y�\\x0f��t\\x16\\ua7de���6�\\nv�����?�m\\x06?�F�}��?���S���\\x19�yџ6�ɭ���\\x04=�=/���2||\\x0b����?�6S��\\x0b~��3p\\\\\\x07�\\x1e�y�\\x7f�3I}�\\x0b���}��P��T���\\x04^\\x1f�\\uf4df���v�z�\\x0e�gt^��m�B\\x1c$~OE\\x7f:m&9�ǷQX��\\uf4df���6�\\x0b~���S����Qx>P_\\x7f^\\ua7da�vR}�yџ�˴��\\x14�D�N\\x14�t�\\x1d��?�.\\x03���E\\x7fj?SX����OMf�z��P����O��\\x14�\\x13[���)֟�\\x17���\\x0c<���m/��^�7�}�S����s��#��?����\\r\\x7f��T��ߟ��у~��T��o\\'\\x0bv\\x12��,��fa� �S���Y8\\x7f[��m�\\x1bo\\x1b�/�\\x17��mg\\x14��\\x1bo\\x1b�/�T/s^��L�����_8�^��?��\\x03�}������������:\\x0b�O�K�S�����f�3x\\x7f��S�\\t�|�����O\\x0f�IΌ��Q�\\x0f�OU\\x7f�]x���R��p�F�\\x1f�?=/�S�a�1;U\\x7fj�\\x7fD\\x7f�3��|F!\\x0e�`\\'�߂��D\\x7f�-�y��?���q �\\'��ξ\\x13|���g\\x06�N֩�S�N�}��O�3!џ\\x02\\x06�G�o�3����7џ���������t�Q�3\\nvr+0x���oy^��\\x0c_���[��?u��Q�7�}�S���<W�/��ԏ�,�\\x01����Z�t�L��i\\x16�-\\x0b��{���������?��\\x0c<\\x1e$ߟ����7��_\\x10�)`�z��_����\\x1d�?�\\x0b���7�\\x7fj?��x���!�?�6���Ga�P�/h�S�mQ�\\x0f�\\u05cb���}��?u�\\x07Ga�p�zF��O�8��{\\\\��O]�M�=�S��������Y�?u��Y8\\x7f���ۤ�S=/�OM;ga>=\\x0b���p�&�\\x05�\\x0e��$�S�m��^��(�\\x07�D\\x7f\\n\\x18�>\\x10������Է��[���g�`\\'�:D럦�$gp�i�S���\\x0f9U\\x7f�2��eT\\x7f:]�m�m8���O���x�߷</�O���B\\x7fF�\\x0e>\\x0f�V\\x18߂��D��i\\x14�\\x0bZ���\\x0c�/��ԍ����#\\n�[��\\x08�������`;�\\x10o��OU\\x7f:l&y�p�^�n.�������S�\\x0e��\\x1b��\\x02�\\x7fڶK��f3���a�o7\\x06���\\x18v�vc�3��\\x1f�?}bX>��\\x14�d�?��O���o\\x0c\\x1aߞ\\x18V���\\x14�\\x04~\\x7f\\x1a��?1,�uc�3��|x���!7\\x06��Q��(�oQ\\x18�\\x02��>1Q�O\\x14���\\x13�x\\x0bx\\x1f���q\\'`>�Ơ��{��Oo\\x0c\\x1ewz!�:̟>1����\\x14���x�a>�\\x19\\x05�\\r��v�_�1I�\\x05�?�1�?\\x03�enL�\\x0e��vcP��\\'��۽1��\\x0c\\x1c�\\x03�O���\\n\\x0c�#�CN���B�|֍I���[�|�\\x13�\\x0b~�x�Kx�{c�3��g���{a\\x7f�\\x17�m/�o;����D�\\x0e��\\x1d�OoL��@�7��7\\x1eo�?5\\x19џv�A�\\x02����\\x1f�\\x1f��L\\x14���O\\x0c���0����7&9�x�����Zl\\x16�Sџ�L��\\x1f�?}b�~��O���\\x15�B\\x7fX>�Ơ|�\\x13�\\x05;��F��\\x18�\\x13�oLR\\x1f�0\\x7fzc����OoLr�}���\\x14�$>�8a��\\x1d���f3əF���O�p\\x19���\\x1bC�\\x03џ\\x02\\x06}\\x0f�a�enLr��3�1�o��o�?uc��\\x0f�1ə�x�\\x02�?\\r��oL�?�`g\\x14�d�\\x0e�����n\\x0c�����oL�N\\x14�\\x13\\x05�u��D!��~����\\'\\n�\\x16�x�^ۍ)�i8\\x0e:�\\x0f�İzm7\\x06�?\\x1d֯�1�{�O�@u8nLr&Q\\x1d�\\x1b��\\x08�g���8m\\x06�yxb\\x1a��rcP=�\\'&��F!����\\x1b;\\x03�\\x07|bF��Hΰ��7\\x06�[���\\x18��$��vc�ߤ���\\x03V����\\x1b}\\x17\\x12�3zbF�\\x0e�/�İ�27&�\\x18�\\x17Ʒ5��3\\r��^��\\x1d�\\x07�1����8*�Omf\\x14��(�ɍ�N�y���oLr�m�m�`\\'�x��\\x17|;�П^x>��|F�?Y��x���OoLr�ϧ�0�MX�����m���7\\x06�\\x0b�0��B��B�MX��=��\\x17ư���p�e|\\U000d909dظ\\x0f\\x02�;ga|;\\x0b��Y���\\x10oga�&�O��G�N��q��Ow�)؉�\\x1d\\x1coZ��n�\\x12o�e�x�6s����=\\u07ba\\x1d\\x07����\\x05�Κ_����\\x1f6���B\\x7f�`�\\x1eo�\\x0f���O���\\x1b`\\nv���\\x0c�\\x7fD\\x7f���_p�Ϛ_�i3w;�e�xk6\\U000e3758.s�7���.s�7���f?�,�-��Y�\\x0bn\\x1c���>\\\\���`�/���_p߹5��3\\x1d�\\x07k~�g\\x06\\x1e\\x0f���ߟ��N�oM���ڲ���Z�4՟Z>h�?��OS���|��O���B\\x7fz�B\\x7fF�?p>m�?u���7��8X�o�Z����g�`\\'\\nv�~����Z�7՟��\\x07�ߚ�O�uoS���\\x04�/4՟��e�F}\\x10t>m�?��\\x16l��T\\x7f\\n�����[��iS�)`�����`���7�?�0���[S��o�\\x17���\\x06~\\x7f����d�N��t�\\x1f��Y��t\\x19�?m�?��e���g\\nv����\\x0f�}=��3\\n��z?�}\\x7fFa����[��BS�)`��\\x0fq�k�\\x1f��L/��\\x17�3\\nv\\x06^��������^؟�4_�T\\x7f��iw��o�?\\x05\\x0c��������\\x0c���T\\x7f�v\\x1c�V`�}����l6��v��HM����\\x0c�o�T\\x7f�3}�1*�C\\x0e�\\x19[�)\\u0601�oM���\\x0f�~H�L�wN��\\x0c~O\\'�O�T\\x7f���@}VS�i��g�{���?��i��`���M��n�����2\\r�\\x0f������n������!��[/�\\x19�\\x1c�,����\\U000d04df���Դ#�S��R���\\x1aV��>\\x13t���S�\\x07x>\\x15��9ω����(�\\r�\\x17D\\x7f�2�_�6��S�/���\\x1c\\x13[!� �S��k||k�~HS�)`\\n�\\'�:Q���;\\x17|\\x7f*�S��\\x0b�?\\x15��\\x1boQ\\x18߂�\\x7fk�?5�\\x14�?��Ϡ�*џ��u����OͱJ��>Cף�?�l�\\uedf9��]������\\x10џ����y��O�w�\\x17���\\x10џ��gP�B��O����m�/��Q�O\\x07���T\\x7f����Sџ�m��\\x05џ��G�\\x0b�f������o\\x14�i\\x1f.\\x134�$�Sw����[�|��O}\\x1f���M��a��\\x1eoa��k~\\x010w;�e��\\x06��>X�\\x0b��̏v��2�xkv\\x7f���l_�㭥���L�Y�m����1Ǫ5�\\x00��m[�\\x0b\\x116�ߟ�\\x10ok~�o�\\x12o��%��e�x;l&9s�7��;\\n��\\x17�wa�/��Y�\\x0b��Y�\\x0b>\\x13\\x05;Q�O�\\nLr_���Q�\\x1b��5���;k~\\x0108���|��\\x17\"]&���������[���5���f��*џ���5�\\x10^������O�5��O};�Ɓ�O};A�ע?\\x05L�?c+0\\x05;Y���m�/\\x00\\x06�G���f�^�����Sџ�{t՟v�\\x19\\x05������Ϛ_0�\\x1fџ\\x02��OE\\x7fj��E\\x7fj���?\\x05\\x0cݟ��\\x140t\\x1d��S�׃�D\\x7f�?\\x1f�~\\x13���\\x1e\\x15����\\x15���|����|��\\x02`��T���3]�\\x0b\\ueefd�\\x17���B\\x7f��\\x1f\\x18o��S+\\x0eB����\\'T\\x7fj�\\x05��O��\\x04�[���ZǇ�O��\\x1b�ׇ�O��h���g�~!T\\x7f�2��!qџn.\\x03��E\\x7f�.\\x13\\x05;P�\\x1c\\x17�i����F�\\x0e�g��O��%�#���fX^&T\\x7f��\\'�~!T\\x7f\\n��m�8��~H�\\x0c��\\x16\\x17���2�\\x15\\x18vo#T\\x7f��f���P�i\\x1e6�\\ue4c7�O��\\x0c�\\x17\\x1d\\x17��\\x19\\x1c\\x07r?d���L\\x16�\\x06�#��O�x\\x1bT�\\x10�?u߅�~�\\x1b\\x07�~�2T\\x7f�>�A��\\x10�?\\x1dv�\\x06^�`�i\\x14��qџ���T�\\x10�?u�iR}V\\\\��v�\\x02�;YX���\\x10�N��\\x03џ�ϔ�o��\\x10w�Z\\uf1f8s�z?$��$g\\x1a�|�ܶ\\x03�\\x19��O};�`�\\x17쌍�)v�ϊ��t�\\x19<�\\x1c��e\\\\���e\\x1a�\\x13\\x19�?���\\x05�s\\x17�?�7����\\x0fqǃ��\\x01�R���A\\x16�O&e���a3��i\\\\�N�)�\\'6\\x1a;��i\\\\��m��}=6����\\x07��O��\\x19V�:.�O��`���x����\\x1dXO<T\\x7f�3K}��f�3c�>\\x18x^���>��\\x85�O\\u0379Q���ZL��m��\\x0f���4T\\x7f�3�\\uecf4���\\x03�~����3�B\\x1c�xk��n��ԜK��i�����2x|�����t:^k�S��ظ�G��d!\\x0e\\x12ǵ�?�m��\\x7f��i�\\x19z\\x1e����f���o�\\x07��Q��(�\\'�\\x10��M����N��qџ��$�\\x03���ܛ��t����x��\\x17|��o��OE\\x7fj�D\\x7fꎉ��ۍ���f\\x1a�Ϛ_p�6\\n��\\x17�5��O\\x01�t\\x0e\\x1e|� �Sw\\x1d2\\n�&�OM;I��q�\\x7fj3||K~�+�S��������M���\\x0f�|�T_\\x1f���q�\\x7fj�`/��^؟�~}���<K\\x13��\\x1bo�_���\\x0b��\\x05���)��e���][J~�|>\\x07ϟj��t��\\x15\\x18�ݯ��?\\r�)���t|�r�zmq�\\x7fj3||;��\\x1cB���~n\\x16�\\x0b�0�\\x15�\\x0bZ���\\x19<���-m_��7���탁�;���E\\x7fj��D\\x7f�����?u���G\\x12��o���Y��5��\\x0f$�`����I~�n[�u��O�\\x18\\x15��\\x19o�?5���O�8\\x10��ߟH\\u07b6N\\u05fdQ�/����j�S�?�\\x15\\x18:ω���u��!�?5��?u�\\x15���M�����N�\\x1dџ�v\\x7f\\x06�c��t�}�\\uf1c8�ԍ���!�?u�\\x05�/L���\\x05џ\\x0e�\\x07��S������\\nL�?x� �S�m����O��H���f\\n����-��\\r�\\x17�������Z��f��\\x1f�_�?\\x05\\x0c������\\x19\\x16\\x07�R�t�\\x0c;�����Ͱ�[��?������o[����yH��O����E�B��~џ��$gz�o=�\\x0f��[��O�e����\\tz��U\\x7f�\\x0bx��U\\x7f��20��U\\x7f�w�Y�\\x0b����ޮ�����r����r��g\\x12�\\t�?=�Ͱ�OW���|:�/���n\\x1b�>yW�iN�IΌB\\x7f\\x06�o�����5�;����g��mP}VW��nہ����SwL��!>��mP�LW����,�-�ߒ�\\x17�E\\x7f�]�ϧI����?�\\x17���2}+0\\x05;\\x03�\\x7f����K�S�o��U{a����B��~�\\x7f�.\\x13\\x05;��\\x07��^�3p\\x1c��<�����mK�\\x1d���Ӟ6����\\x17��O��D�N��Ju՟\\x02&y������ߺ�OӶ���&�g�K���2\\r�\\x0f&�O�/�O\\x0f�I\\ue0feq_wV��_��~\\x1bx��T_�U\\x7f��?\\'�G�/�O�e`��~�\\x7f�]&��G�\\x0c���==�}ˮ�Ӵ}0�3Y�O��T��>C���S��q �S�?A����_��O�����\\x1f�_����f�zT��\\x0c�[!���O���Fc���T���B��i�\\x07�oZ��~>I\\u05c9Z�ԛ\\x1b���ϰ�J�K�Ӵ\\x19���S�\\x7fj���,�\\x7fj3�`��oQ\\x18����~�\\x7f\\x1a6C��E\\x7fj�\\x17D\\x7f��m\\x0b<�tz��_\\ua7e6�$���yt�\\x7fj?��\\n\\x0c��5�\\x00\\x18zn��O\\x0f���,џ��|߲�\\x0c��A��]��������\\x0f�\\x17���>Hz��_���e����\\nv\\x02�K��OE\\x7f:��tz\\x0e+�Ss_�\\n�\\x05՟�q�4���Ӵ\\x19<�����\\x0c\\x1e����>�繽0���{���?=m&9�Ƿ����O]_\\x1f�>��O\\x0f������?��N�GU\\x7fj�`\\x14���Y�?�}�\\uffc9��\\x1dwfa|��{�]���;7\\x0b��B~�\\x15�\\x0b�?�\\x19�_���~џ6��vD\\x7f�l\\x06��ga|����2�<���{U\\x7fj��\\x17�\\x0f�/��{�]���\\x1c|R�s��O���{i�?\\x05\\x0c=\\x0f\\x11��o\\'\\n~�[���&�Ӵ}���\\\\\\x7f�U\\x7f�2�_\\x08�I�4z�K��.\\x13tߨ���2x>\\x15�i�>\\x18t�-�S�]h|� �SsLT�i�\\x0c~>��S՟v����\\x14��^�3\\nvF�\\x0e\\x1fߢ0���t�\\x0c��OO����(�\\x17D\\x7f��\\u06dd�\\'\\x17��ό��Q�O��A��C��O�8\\x18�?��qџ\\x0e�a����O��\\x14���ƃQП���t�\\x0c��6T\\x7f�2�~�6�Α�E\\x7fz�\\x0c����O��\\x0f��\\x0c՟�a3\\x05;��\\x7f��Os�L\\x16�O�8\\x08�w\\x1e\\x17���20�0.���e�����S��\\x04��4.���2�{�C����,�ɤ�\\\\��\\x17�E\\x7f�]���T��m�뷡�S�N/�\\x07~�m\\x14���?�.�\\x1b}��t\\x14���P�t\\\\������#��i3L�=T\\x7fz�>�əQ�����e�`\\'Y}����#l&9�6\\u07b6��\\x05�}����n[��NR��P��og\\x14�d�o|>]\\uf1f8���O��O};P�5\\n�O��O]_���N�\\x1f2T\\x7f\\n\\x18<^��C��f����!�Zl�\\x1f��Z��L�?||;h��q�\\x7fj����\\x0e�\\x7f:.�Om\\x1fd!\\x0e\\x12���i�\\x0c�Ϥ�vGA\\x7f:\\n��qџN����Y؟N�������A\\x16�O&\\x1d\\x13��i�\\x0c^��{�C��>\\x13\\x1bo[$�A���I�g�K��a3\\x05;||����\\x1dџ���O͵��O\\x01�p�)�S3vT\\x7f��\\x0c�O\\x1b�\\x1f2\\n�O��O�wA���I�.h�S����O\\u0379Q��n\\x1c`���Om��y[���e�V`\\nv�П��G�\\x0c�)�i\\x05;���U\\x7fz�\\x0c�k��t��D� \\x1a�?\\x05\\x0c�\\x07���C���x�\\x0b�&��t��\\x15�B\\x7f��U\\x7fj���t����Oǥ���2Y���?�\\x10o�_�\\x19�?���QП���tw�N�S���\\x1dG\\x07�\\x03\\x0e՟\\x0e�oI���ԝK�\\x10oY�O�0����p\\x19��W�i�L/��\\x05����C������_\\x10�����\\x0b��5����;�g4.���2������D\\x7f��$�`3|>���qџ�\\x0c^W��t���\\x0c�\\u05cb�Է\\x13x�;�~a\\\\\\ua7de6C�����?���x�\\x16���Lz�|���g\\x1a�g\\'�S��LZ_f��Է��m���\\x0e՟�~��{E\\x7f��Il����U\\x7f\\x1a.��s��2�?��\\x04�N�P�io6\\U000e3770�s������-��d�?ɾ{<T\\x7fj�Z���3\\x15�i�6��m����f�v����-N�I�LE\\x7f\\x1a�ߖx��%�l\\x1f$�Ϛ_��f�3m�m�Ǜ�L���o\\'\\n����C��\\ueef0�\\x17���B\\x7fr�c\\x15���P�)`\\nv\\x1a�Ϛ_��e\\x02?�(�o��Sџ��(�\\x19����-\\x0e���\\x03џ�f3\\t�\\x14�?�۶�o�2�x��f�3�П{���2�xk�\\x0f��ֺ�d��=�����\\x01PK\\x01\\x02\\x14\\x03\\x14\\x00\\x00\\x00\\x08\\x00��rU��\\t�\\x02#\\x00\\x00n�\\x01\\x00\\x1c\\x00\\x00\\x00\\x00\\x00\\x00\\x00\\x00\\x00\\x00\\x00��\\x00\\x00\\x00\\x0010JC003_QR_20221118T1807.txtPK\\x05\\x06\\x00\\x00\\x00\\x00\\x01\\x00\\x01\\x00J\\x00\\x00\\x00<#\\x00\\x00\\x00\\x00'"
      ]
     },
     "execution_count": 68,
     "metadata": {},
     "output_type": "execute_result"
    }
   ],
   "source": [
    "download_response.text"
   ]
  },
  {
   "cell_type": "code",
   "execution_count": 67,
   "id": "0380224d-fee6-4a31-b160-c7a177d8d036",
   "metadata": {},
   "outputs": [
    {
     "data": {
      "text/plain": [
       "['__class__',\n",
       " '__delattr__',\n",
       " '__dict__',\n",
       " '__dir__',\n",
       " '__doc__',\n",
       " '__eq__',\n",
       " '__format__',\n",
       " '__ge__',\n",
       " '__getattribute__',\n",
       " '__getstate__',\n",
       " '__gt__',\n",
       " '__hash__',\n",
       " '__init__',\n",
       " '__init_subclass__',\n",
       " '__le__',\n",
       " '__lt__',\n",
       " '__module__',\n",
       " '__ne__',\n",
       " '__new__',\n",
       " '__reduce__',\n",
       " '__reduce_ex__',\n",
       " '__repr__',\n",
       " '__setattr__',\n",
       " '__setstate__',\n",
       " '__sizeof__',\n",
       " '__str__',\n",
       " '__subclasshook__',\n",
       " '__weakref__',\n",
       " '_content',\n",
       " '_decoder',\n",
       " '_elapsed',\n",
       " '_encoding',\n",
       " '_get_content_decoder',\n",
       " '_num_bytes_downloaded',\n",
       " '_prepare',\n",
       " '_request',\n",
       " '_text',\n",
       " 'aclose',\n",
       " 'aiter_bytes',\n",
       " 'aiter_lines',\n",
       " 'aiter_raw',\n",
       " 'aiter_text',\n",
       " 'apparent_encoding',\n",
       " 'aread',\n",
       " 'charset_encoding',\n",
       " 'close',\n",
       " 'content',\n",
       " 'cookies',\n",
       " 'elapsed',\n",
       " 'encoding',\n",
       " 'extensions',\n",
       " 'has_redirect_location',\n",
       " 'headers',\n",
       " 'history',\n",
       " 'http_version',\n",
       " 'is_client_error',\n",
       " 'is_closed',\n",
       " 'is_error',\n",
       " 'is_informational',\n",
       " 'is_redirect',\n",
       " 'is_server_error',\n",
       " 'is_stream_consumed',\n",
       " 'is_success',\n",
       " 'iter_bytes',\n",
       " 'iter_lines',\n",
       " 'iter_raw',\n",
       " 'iter_text',\n",
       " 'json',\n",
       " 'links',\n",
       " 'next_request',\n",
       " 'num_bytes_downloaded',\n",
       " 'raise_for_status',\n",
       " 'read',\n",
       " 'reason_phrase',\n",
       " 'request',\n",
       " 'status_code',\n",
       " 'stream',\n",
       " 'text',\n",
       " 'url']"
      ]
     },
     "execution_count": 67,
     "metadata": {},
     "output_type": "execute_result"
    }
   ],
   "source": [
    "dir(download_response)"
   ]
  },
  {
   "cell_type": "code",
   "execution_count": null,
   "id": "5f895d8f-5eb2-4698-8f57-d80c54c1d4ed",
   "metadata": {},
   "outputs": [],
   "source": []
  }
 ],
 "metadata": {
  "kernelspec": {
   "display_name": "Python 3 (ipykernel)",
   "language": "python",
   "name": "python3"
  },
  "language_info": {
   "codemirror_mode": {
    "name": "ipython",
    "version": 3
   },
   "file_extension": ".py",
   "mimetype": "text/x-python",
   "name": "python",
   "nbconvert_exporter": "python",
   "pygments_lexer": "ipython3",
   "version": "3.10.5"
  }
 },
 "nbformat": 4,
 "nbformat_minor": 5
}
