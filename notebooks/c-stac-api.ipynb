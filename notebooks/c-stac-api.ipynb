{
 "cells": [
  {
   "cell_type": "markdown",
   "metadata": {},
   "source": [
    "# C-CORE STAC API\n",
    "The C-CORE STAC API is a [STAC](https://stacspec.org/) compliant catalog of C-CORE earth observation and remote sensing products. It extends the [STAC FastAPI](https://github.com/stac-utils/stac-fastapi) library. Documentation is available at https://c-stac-api.c-core.app/docs ."
   ]
  },
  {
   "cell_type": "markdown",
   "metadata": {},
   "source": [
    "## Base url for the API"
   ]
  },
  {
   "cell_type": "code",
   "execution_count": 4,
   "metadata": {},
   "outputs": [],
   "source": [
    "api_url = \"https://c-stac-api.c-core.app\""
   ]
  },
  {
   "cell_type": "markdown",
   "metadata": {},
   "source": [
    "## Collections\n",
    "Each C-CORE service (e.g. ice-drift-feature-tracking) is indexed as a collection. We can list all available collections."
   ]
  },
  {
   "cell_type": "markdown",
   "metadata": {},
   "source": [
    "### List all collections"
   ]
  },
  {
   "cell_type": "code",
   "execution_count": 5,
   "metadata": {},
   "outputs": [
    {
     "data": {
      "text/plain": [
       "<Response [200 OK]>"
      ]
     },
     "execution_count": 5,
     "metadata": {},
     "output_type": "execute_result"
    }
   ],
   "source": [
    "import httpx\n",
    "\n",
    "\n",
    "get_collections_url = f\"{api_url}/collections\"\n",
    "\n",
    "with httpx.Client(timeout = 20) as client:\n",
    "    response = client.get(get_collections_url)\n",
    "    \n",
    "response"
   ]
  },
  {
   "cell_type": "code",
   "execution_count": 6,
   "metadata": {},
   "outputs": [
    {
     "data": {
      "text/plain": [
       "[{'type': 'Collection',\n",
       "  'id': 'joplin',\n",
       "  'stac_extensions': [],\n",
       "  'stac_version': '1.0.0',\n",
       "  'title': None,\n",
       "  'description': 'This imagery was acquired by the NOAA Remote Sensing Division to support NOAA national security and emergency response requirements. In addition, it will be used for ongoing research efforts for testing and developing standards for airborne digital imagery. Individual images have been combined into a larger mosaic and tiled for distribution. The approximate ground sample distance (GSD) for each pixel is 35 cm (1.14 feet).',\n",
       "  'keywords': None,\n",
       "  'license': 'public-domain',\n",
       "  'providers': None,\n",
       "  'summaries': None,\n",
       "  'extent': {'spatial': {'bbox': [[-94.6911621,\n",
       "      37.0332547,\n",
       "      -94.402771,\n",
       "      37.1077651]]},\n",
       "   'temporal': {'interval': [['2000-02-01T00:00:00Z',\n",
       "      '2000-02-12T00:00:00Z']]}},\n",
       "  'links': [{'rel': 'self',\n",
       "    'type': 'application/json',\n",
       "    'href': 'http://c-stac-api.c-core.app/collections/joplin'},\n",
       "   {'rel': 'parent',\n",
       "    'type': 'application/json',\n",
       "    'href': 'http://c-stac-api.c-core.app/'},\n",
       "   {'rel': 'items',\n",
       "    'type': 'application/geo+json',\n",
       "    'href': 'http://c-stac-api.c-core.app/collections/joplin/items'},\n",
       "   {'rel': 'root',\n",
       "    'type': 'application/json',\n",
       "    'href': 'http://c-stac-api.c-core.app/'}]},\n",
       " {'type': 'Collection',\n",
       "  'id': 'floe-edge-polygons',\n",
       "  'stac_extensions': [],\n",
       "  'stac_version': '1.0.0',\n",
       "  'title': 'Floe Edge Tracking',\n",
       "  'description': 'Floe edge feature tracking derived from Sentinel 1 data. Vector data are dispalyed as polygons.',\n",
       "  'keywords': ['Sentinel 1', 'SAR', 'sea ice'],\n",
       "  'license': 'public-domain',\n",
       "  'providers': ['C-CORE', 'ESA'],\n",
       "  'summaries': None,\n",
       "  'extent': {'spatial': {'bbox': [[-180, -90, 180, 90]]},\n",
       "   'temporal': {'interval': [['2010-01-01T00:00:00Z',\n",
       "      '2030-01-01T00:00:00Z']]}},\n",
       "  'links': [{'rel': 'self',\n",
       "    'type': 'application/json',\n",
       "    'href': 'http://c-stac-api.c-core.app/collections/floe-edge-polygons'},\n",
       "   {'rel': 'parent',\n",
       "    'type': 'application/json',\n",
       "    'href': 'http://c-stac-api.c-core.app/'},\n",
       "   {'rel': 'items',\n",
       "    'type': 'application/geo+json',\n",
       "    'href': 'http://c-stac-api.c-core.app/collections/floe-edge-polygons/items'},\n",
       "   {'rel': 'root',\n",
       "    'type': 'application/json',\n",
       "    'href': 'http://c-stac-api.c-core.app/'}]},\n",
       " {'type': 'Collection',\n",
       "  'id': 'floe-edge-coherence',\n",
       "  'stac_extensions': [],\n",
       "  'stac_version': '1.0.0',\n",
       "  'title': 'Tidal Cracks',\n",
       "  'description': 'Tidal cracks tracking from Sentinel 1 data. Data are available  as GeoTIFF raster and xyz tiles.',\n",
       "  'keywords': ['Sentinel 1', 'SAR', 'sea ice'],\n",
       "  'license': 'public-domain',\n",
       "  'providers': ['C-CORE', 'ESA'],\n",
       "  'summaries': None,\n",
       "  'extent': {'spatial': {'bbox': [[-180, -90, 180, 90]]},\n",
       "   'temporal': {'interval': [['2010-01-01T00:00:00Z',\n",
       "      '2030-01-01T00:00:00Z']]}},\n",
       "  'links': [{'rel': 'self',\n",
       "    'type': 'application/json',\n",
       "    'href': 'http://c-stac-api.c-core.app/collections/floe-edge-coherence'},\n",
       "   {'rel': 'parent',\n",
       "    'type': 'application/json',\n",
       "    'href': 'http://c-stac-api.c-core.app/'},\n",
       "   {'rel': 'items',\n",
       "    'type': 'application/geo+json',\n",
       "    'href': 'http://c-stac-api.c-core.app/collections/floe-edge-coherence/items'},\n",
       "   {'rel': 'root',\n",
       "    'type': 'application/json',\n",
       "    'href': 'http://c-stac-api.c-core.app/'}]},\n",
       " {'type': 'Collection',\n",
       "  'id': 'ice-drift-feature-tracking',\n",
       "  'stac_extensions': [],\n",
       "  'stac_version': '1.0.0',\n",
       "  'title': 'Ice Drift Feature Tracking',\n",
       "  'description': 'Ice drift feature tracking derived from Sentinel 1 data.',\n",
       "  'keywords': ['Sentinel 1', 'SAR', 'sea ice'],\n",
       "  'license': 'public-domain',\n",
       "  'providers': ['C-CORE', 'ESA'],\n",
       "  'summaries': None,\n",
       "  'extent': {'spatial': {'bbox': [[-180, -90, 180, 90]]},\n",
       "   'temporal': {'interval': [['2010-01-01T00:00:00Z',\n",
       "      '2030-01-01T00:00:00Z']]}},\n",
       "  'links': [{'rel': 'self',\n",
       "    'type': 'application/json',\n",
       "    'href': 'http://c-stac-api.c-core.app/collections/ice-drift-feature-tracking'},\n",
       "   {'rel': 'parent',\n",
       "    'type': 'application/json',\n",
       "    'href': 'http://c-stac-api.c-core.app/'},\n",
       "   {'rel': 'items',\n",
       "    'type': 'application/geo+json',\n",
       "    'href': 'http://c-stac-api.c-core.app/collections/ice-drift-feature-tracking/items'},\n",
       "   {'rel': 'root',\n",
       "    'type': 'application/json',\n",
       "    'href': 'http://c-stac-api.c-core.app/'}]},\n",
       " {'type': 'Collection',\n",
       "  'id': 'floe-edge-convergence',\n",
       "  'stac_extensions': [],\n",
       "  'stac_version': '1.0.0',\n",
       "  'title': 'Land-Fast Ice Motion',\n",
       "  'description': 'Land-fase ice motion tracking from Sentinel 1 data. Data are available  as GeoTIFF raster and xyz tiles.',\n",
       "  'keywords': ['Sentinel 1', 'SAR', 'sea ice'],\n",
       "  'license': 'public-domain',\n",
       "  'providers': ['C-CORE', 'ESA'],\n",
       "  'summaries': None,\n",
       "  'extent': {'spatial': {'bbox': [[-180, -90, 180, 90]]},\n",
       "   'temporal': {'interval': [['2010-01-01T00:00:00Z',\n",
       "      '2030-01-01T00:00:00Z']]}},\n",
       "  'links': [{'rel': 'self',\n",
       "    'type': 'application/json',\n",
       "    'href': 'http://c-stac-api.c-core.app/collections/floe-edge-convergence'},\n",
       "   {'rel': 'parent',\n",
       "    'type': 'application/json',\n",
       "    'href': 'http://c-stac-api.c-core.app/'},\n",
       "   {'rel': 'items',\n",
       "    'type': 'application/geo+json',\n",
       "    'href': 'http://c-stac-api.c-core.app/collections/floe-edge-convergence/items'},\n",
       "   {'rel': 'root',\n",
       "    'type': 'application/json',\n",
       "    'href': 'http://c-stac-api.c-core.app/'}]},\n",
       " {'type': 'Collection',\n",
       "  'id': 'floe-edge-linestrings',\n",
       "  'stac_extensions': [],\n",
       "  'stac_version': '1.0.0',\n",
       "  'title': 'Floe Edge Tracking',\n",
       "  'description': 'Floe edge feature tracking derived from Sentinel 1 data. Vector data are dispalyed as linestrings.',\n",
       "  'keywords': ['Sentinel 1', 'SAR', 'sea ice'],\n",
       "  'license': 'public-domain',\n",
       "  'providers': ['C-CORE', 'ESA'],\n",
       "  'summaries': None,\n",
       "  'extent': {'spatial': {'bbox': [[-180, -90, 180, 90]]},\n",
       "   'temporal': {'interval': [['2010-01-01T00:00:00Z',\n",
       "      '2030-01-01T00:00:00Z']]}},\n",
       "  'links': [{'rel': 'self',\n",
       "    'type': 'application/json',\n",
       "    'href': 'http://c-stac-api.c-core.app/collections/floe-edge-linestrings'},\n",
       "   {'rel': 'parent',\n",
       "    'type': 'application/json',\n",
       "    'href': 'http://c-stac-api.c-core.app/'},\n",
       "   {'rel': 'items',\n",
       "    'type': 'application/geo+json',\n",
       "    'href': 'http://c-stac-api.c-core.app/collections/floe-edge-linestrings/items'},\n",
       "   {'rel': 'root',\n",
       "    'type': 'application/json',\n",
       "    'href': 'http://c-stac-api.c-core.app/'}]}]"
      ]
     },
     "execution_count": 6,
     "metadata": {},
     "output_type": "execute_result"
    }
   ],
   "source": [
    "response_body = response.json()\n",
    "collections = response_body[\"collections\"]\n",
    "collections"
   ]
  },
  {
   "cell_type": "markdown",
   "metadata": {},
   "source": [
    "### List single collection"
   ]
  },
  {
   "cell_type": "code",
   "execution_count": 7,
   "metadata": {},
   "outputs": [
    {
     "data": {
      "text/plain": [
       "<Response [200 OK]>"
      ]
     },
     "execution_count": 7,
     "metadata": {},
     "output_type": "execute_result"
    }
   ],
   "source": [
    "collection_id = \"floe-edge-polygons\"\n",
    "get_collections_url = f\"{api_url}/collections/{collection_id}\"\n",
    "\n",
    "with httpx.Client(timeout = 20) as client:\n",
    "    response = client.get(get_collections_url)\n",
    "    \n",
    "response"
   ]
  },
  {
   "cell_type": "code",
   "execution_count": 8,
   "metadata": {},
   "outputs": [
    {
     "data": {
      "text/plain": [
       "{'type': 'Collection',\n",
       " 'id': 'floe-edge-polygons',\n",
       " 'stac_extensions': [],\n",
       " 'stac_version': '1.0.0',\n",
       " 'title': 'Floe Edge Tracking',\n",
       " 'description': 'Floe edge feature tracking derived from Sentinel 1 data. Vector data are dispalyed as polygons.',\n",
       " 'keywords': ['Sentinel 1', 'SAR', 'sea ice'],\n",
       " 'license': 'public-domain',\n",
       " 'providers': ['C-CORE', 'ESA'],\n",
       " 'summaries': None,\n",
       " 'extent': {'spatial': {'bbox': [[-180, -90, 180, 90]]},\n",
       "  'temporal': {'interval': [['2010-01-01T00:00:00Z',\n",
       "     '2030-01-01T00:00:00Z']]}},\n",
       " 'links': [{'rel': 'self',\n",
       "   'type': 'application/json',\n",
       "   'href': 'http://c-stac-api.c-core.app/collections/floe-edge-polygons'},\n",
       "  {'rel': 'parent',\n",
       "   'type': 'application/json',\n",
       "   'href': 'http://c-stac-api.c-core.app/'},\n",
       "  {'rel': 'items',\n",
       "   'type': 'application/geo+json',\n",
       "   'href': 'http://c-stac-api.c-core.app/collections/floe-edge-polygons/items'},\n",
       "  {'rel': 'root',\n",
       "   'type': 'application/json',\n",
       "   'href': 'http://c-stac-api.c-core.app/'}]}"
      ]
     },
     "execution_count": 8,
     "metadata": {},
     "output_type": "execute_result"
    }
   ],
   "source": [
    "response_body = response.json()\n",
    "response_body"
   ]
  },
  {
   "cell_type": "markdown",
   "metadata": {},
   "source": [
    "## Items\n",
    "Each collection has a list of items. Each item maps to a product (e.g. an ice-drift-feature-tracking product derived from a single Sentinel 1 scene)."
   ]
  },
  {
   "cell_type": "markdown",
   "metadata": {},
   "source": [
    "### List all items in a collection\n",
    "We specify an optional `limit` of 2 just to keep the example simple. The default `limit` is 10 and can be increased to an arbitrary high integer."
   ]
  },
  {
   "cell_type": "code",
   "execution_count": 9,
   "metadata": {},
   "outputs": [
    {
     "data": {
      "text/plain": [
       "<Response [200 OK]>"
      ]
     },
     "execution_count": 9,
     "metadata": {},
     "output_type": "execute_result"
    }
   ],
   "source": [
    "limit = 2\n",
    "get_items_url = f\"{api_url}/collections/{collection_id}/items?limit={limit}\"\n",
    "\n",
    "with httpx.Client(timeout = 20) as client:\n",
    "    response = client.get(get_items_url)\n",
    "    \n",
    "response"
   ]
  },
  {
   "cell_type": "code",
   "execution_count": 10,
   "metadata": {},
   "outputs": [
    {
     "data": {
      "text/plain": [
       "{'type': 'FeatureCollection',\n",
       " 'features': [{'type': 'Feature',\n",
       "   'stac_version': '1.0.0',\n",
       "   'stac_extensions': [],\n",
       "   'id': 'floe-edge-polygons-2021-01-06T12:01:06.106Z--2021-01-07T11:52:01.962Z',\n",
       "   'collection': 'floe-edge-polygons',\n",
       "   'geometry': {'type': 'Polygon',\n",
       "    'coordinates': [[[-65.348842, 77.115559],\n",
       "      [-65.348842, 79.815396],\n",
       "      [-76.976024, 79.815396],\n",
       "      [-76.976024, 77.115559],\n",
       "      [-65.348842, 77.115559]]]},\n",
       "   'bbox': [-76.976024, 77.115559, -65.348842, 79.815396],\n",
       "   'properties': {'format': 'pbf',\n",
       "    'created': '2021-10-14T11:47:22Z',\n",
       "    'updated': '2021-10-14T11:47:22Z',\n",
       "    'datetime': '2021-01-06T12:01:06Z',\n",
       "    'latitude': 79.13821,\n",
       "    'tile_url': 'https://coresight-layers.s3-us-west-2.amazonaws.com/floe-edge-polygons/2021-01-06T12:01:06.106Z--2021-01-07T11:52:01.962Z/{z}/{x}/{y}.pbf',\n",
       "    'longitude': -66.972656,\n",
       "    'geojson_url': 'https://coresight-layers.s3-us-west-2.amazonaws.com/floe-edge-polygons/2021-01-06T12:01:06.106Z--2021-01-07T11:52:01.962Z/2021-01-06T12:01:06.106Z--2021-01-07T11:52:01.962Z.geojson',\n",
       "    'datetime_end': '2021-01-07T11:52:01.962Z',\n",
       "    'default_zoom': ['10'],\n",
       "    'maximum_zoom': 10,\n",
       "    'metadata_url': 'https://coresight-layers.s3-us-west-2.amazonaws.com/floe-edge-polygons/2021-01-06T12:01:06.106Z--2021-01-07T11:52:01.962Z/metadata.json',\n",
       "    'minimum_zoom': 1,\n",
       "    'timestamp_end': 1610020321.962,\n",
       "    'datetime_start': '2021-01-06T12:01:06.106Z',\n",
       "    'timestamp_mean': 1609977394.034,\n",
       "    'timestamp_start': 1609934466.106,\n",
       "    'datetime_interval': '2021-01-06T12:01:06.106Z--2021-01-07T11:52:01.962Z'},\n",
       "   'links': [{'rel': 'self',\n",
       "     'type': 'application/geo+json',\n",
       "     'href': 'http://c-stac-api.c-core.app/collections/floe-edge-polygons/items/floe-edge-polygons-2021-01-06T12:01:06.106Z--2021-01-07T11:52:01.962Z'},\n",
       "    {'rel': 'parent',\n",
       "     'type': 'application/json',\n",
       "     'href': 'http://c-stac-api.c-core.app/collections/floe-edge-polygons'},\n",
       "    {'rel': 'collection',\n",
       "     'type': 'application/json',\n",
       "     'href': 'http://c-stac-api.c-core.app/collections/floe-edge-polygons'},\n",
       "    {'rel': 'root',\n",
       "     'type': 'application/json',\n",
       "     'href': 'http://c-stac-api.c-core.app/'},\n",
       "    {'rel': 'alternate',\n",
       "     'type': 'application/json',\n",
       "     'title': 'tiles',\n",
       "     'href': 'http://c-stac-api.c-core.app/collections/floe-edge-polygons/items/floe-edge-polygons-2021-01-06T12:01:06.106Z--2021-01-07T11:52:01.962Z/tiles'}],\n",
       "   'assets': {'geojson': {'href': 'https://coresight-layers.s3-us-west-2.amazonaws.com/floe-edge-polygons/2021-01-06T12:01:06.106Z--2021-01-07T11:52:01.962Z/2021-01-06T12:01:06.106Z--2021-01-07T11:52:01.962Z.geojson',\n",
       "     'type': 'application/geo+json',\n",
       "     'roles': ['vector-data'],\n",
       "     'title': 'GeoJSON',\n",
       "     'description': 'Vector data in GeoJSON format'},\n",
       "    'vector_tiles': {'href': 'https://coresight-layers.s3-us-west-2.amazonaws.com/floe-edge-polygons/2021-01-06T12:01:06.106Z--2021-01-07T11:52:01.962Z/{z}/{x}/{y}.pbf',\n",
       "     'type': 'application/vnd.mapbox-vector-tile',\n",
       "     'roles': ['vector-data', 'vector-tiles'],\n",
       "     'title': 'Mapbox Vector Tiles',\n",
       "     'description': 'Vector data in Mapbox Vector Tile format'},\n",
       "    'vector_tiles_metadata': {'href': 'https://coresight-layers.s3-us-west-2.amazonaws.com/floe-edge-polygons/2021-01-06T12:01:06.106Z--2021-01-07T11:52:01.962Z/metadata.json',\n",
       "     'type': 'application/json',\n",
       "     'roles': ['metadata'],\n",
       "     'title': 'Vector Tiles Metadata',\n",
       "     'description': 'Metadata related to vector tile creation'}}},\n",
       "  {'type': 'Feature',\n",
       "   'stac_version': '1.0.0',\n",
       "   'stac_extensions': [],\n",
       "   'id': 'floe-edge-polygons-2021-01-06T11:12:44.208Z--2021-01-07T11:54:01.961Z',\n",
       "   'collection': 'floe-edge-polygons',\n",
       "   'geometry': {'type': 'Polygon',\n",
       "    'coordinates': [[[-68.274962, 70.023788],\n",
       "      [-68.274962, 71.65579],\n",
       "      [-71.765948, 71.65579],\n",
       "      [-71.765948, 70.023788],\n",
       "      [-68.274962, 70.023788]]]},\n",
       "   'bbox': [-71.765948, 70.023788, -68.274962, 71.65579],\n",
       "   'properties': {'format': 'pbf',\n",
       "    'created': '2021-10-14T11:47:21Z',\n",
       "    'updated': '2021-10-14T11:47:21Z',\n",
       "    'datetime': '2021-01-06T11:12:44Z',\n",
       "    'latitude': 71.356985,\n",
       "    'tile_url': 'https://coresight-layers.s3-us-west-2.amazonaws.com/floe-edge-polygons/2021-01-06T11:12:44.208Z--2021-01-07T11:54:01.961Z/{z}/{x}/{y}.pbf',\n",
       "    'longitude': -71.191406,\n",
       "    'geojson_url': 'https://coresight-layers.s3-us-west-2.amazonaws.com/floe-edge-polygons/2021-01-06T11:12:44.208Z--2021-01-07T11:54:01.961Z/2021-01-06T11:12:44.208Z--2021-01-07T11:54:01.961Z.geojson',\n",
       "    'datetime_end': '2021-01-07T11:54:01.961Z',\n",
       "    'default_zoom': ['10'],\n",
       "    'maximum_zoom': 10,\n",
       "    'metadata_url': 'https://coresight-layers.s3-us-west-2.amazonaws.com/floe-edge-polygons/2021-01-06T11:12:44.208Z--2021-01-07T11:54:01.961Z/metadata.json',\n",
       "    'minimum_zoom': 1,\n",
       "    'timestamp_end': 1610020441.961,\n",
       "    'datetime_start': '2021-01-06T11:12:44.208Z',\n",
       "    'timestamp_mean': 1609976003.0844998,\n",
       "    'timestamp_start': 1609931564.208,\n",
       "    'datetime_interval': '2021-01-06T11:12:44.208Z--2021-01-07T11:54:01.961Z'},\n",
       "   'links': [{'rel': 'self',\n",
       "     'type': 'application/geo+json',\n",
       "     'href': 'http://c-stac-api.c-core.app/collections/floe-edge-polygons/items/floe-edge-polygons-2021-01-06T11:12:44.208Z--2021-01-07T11:54:01.961Z'},\n",
       "    {'rel': 'parent',\n",
       "     'type': 'application/json',\n",
       "     'href': 'http://c-stac-api.c-core.app/collections/floe-edge-polygons'},\n",
       "    {'rel': 'collection',\n",
       "     'type': 'application/json',\n",
       "     'href': 'http://c-stac-api.c-core.app/collections/floe-edge-polygons'},\n",
       "    {'rel': 'root',\n",
       "     'type': 'application/json',\n",
       "     'href': 'http://c-stac-api.c-core.app/'},\n",
       "    {'rel': 'alternate',\n",
       "     'type': 'application/json',\n",
       "     'title': 'tiles',\n",
       "     'href': 'http://c-stac-api.c-core.app/collections/floe-edge-polygons/items/floe-edge-polygons-2021-01-06T11:12:44.208Z--2021-01-07T11:54:01.961Z/tiles'}],\n",
       "   'assets': {'geojson': {'href': 'https://coresight-layers.s3-us-west-2.amazonaws.com/floe-edge-polygons/2021-01-06T11:12:44.208Z--2021-01-07T11:54:01.961Z/2021-01-06T11:12:44.208Z--2021-01-07T11:54:01.961Z.geojson',\n",
       "     'type': 'application/geo+json',\n",
       "     'roles': ['vector-data'],\n",
       "     'title': 'GeoJSON',\n",
       "     'description': 'Vector data in GeoJSON format'},\n",
       "    'vector_tiles': {'href': 'https://coresight-layers.s3-us-west-2.amazonaws.com/floe-edge-polygons/2021-01-06T11:12:44.208Z--2021-01-07T11:54:01.961Z/{z}/{x}/{y}.pbf',\n",
       "     'type': 'application/vnd.mapbox-vector-tile',\n",
       "     'roles': ['vector-data', 'vector-tiles'],\n",
       "     'title': 'Mapbox Vector Tiles',\n",
       "     'description': 'Vector data in Mapbox Vector Tile format'},\n",
       "    'vector_tiles_metadata': {'href': 'https://coresight-layers.s3-us-west-2.amazonaws.com/floe-edge-polygons/2021-01-06T11:12:44.208Z--2021-01-07T11:54:01.961Z/metadata.json',\n",
       "     'type': 'application/json',\n",
       "     'roles': ['metadata'],\n",
       "     'title': 'Vector Tiles Metadata',\n",
       "     'description': 'Metadata related to vector tile creation'}}}],\n",
       " 'links': [{'rel': 'next',\n",
       "   'type': 'application/geo+json',\n",
       "   'href': 'http://c-stac-api.c-core.app/collections/floe-edge-polygons/items?token=Iyl70Mgi&limit=2',\n",
       "   'method': 'GET'}],\n",
       " 'context': None}"
      ]
     },
     "execution_count": 10,
     "metadata": {},
     "output_type": "execute_result"
    }
   ],
   "source": [
    "response_body = response.json()\n",
    "response_body"
   ]
  },
  {
   "cell_type": "markdown",
   "metadata": {},
   "source": [
    "## List the next items\n",
    "The results are paginated, returning just `limit` number of items per request. To view the next `limit` number of items, use the `next` `link`."
   ]
  },
  {
   "cell_type": "code",
   "execution_count": 11,
   "metadata": {},
   "outputs": [
    {
     "data": {
      "text/plain": [
       "{'rel': 'next',\n",
       " 'type': 'application/geo+json',\n",
       " 'href': 'http://c-stac-api.c-core.app/collections/floe-edge-polygons/items?token=Iyl70Mgi&limit=2',\n",
       " 'method': 'GET'}"
      ]
     },
     "execution_count": 11,
     "metadata": {},
     "output_type": "execute_result"
    }
   ],
   "source": [
    "next_link = response_body[\"links\"][0]\n",
    "next_link"
   ]
  },
  {
   "cell_type": "markdown",
   "metadata": {},
   "source": [
    "The `href` string is the url to fetch the next list of items."
   ]
  },
  {
   "cell_type": "code",
   "execution_count": 12,
   "metadata": {},
   "outputs": [
    {
     "data": {
      "text/plain": [
       "'http://c-stac-api.c-core.app/collections/floe-edge-polygons/items?token=Iyl70Mgi&limit=2'"
      ]
     },
     "execution_count": 12,
     "metadata": {},
     "output_type": "execute_result"
    }
   ],
   "source": [
    "next_link[\"href\"]"
   ]
  },
  {
   "cell_type": "code",
   "execution_count": 13,
   "metadata": {},
   "outputs": [
    {
     "data": {
      "text/plain": [
       "{'type': 'FeatureCollection',\n",
       " 'features': [{'type': 'Feature',\n",
       "   'stac_version': '1.0.0',\n",
       "   'stac_extensions': [],\n",
       "   'id': 'floe-edge-polygons-2021-01-05T11:21:49.605Z--2021-01-06T11:12:44.208Z',\n",
       "   'collection': 'floe-edge-polygons',\n",
       "   'geometry': {'type': 'Polygon',\n",
       "    'coordinates': [[[-68.626221, 70.025166],\n",
       "      [-68.626221, 71.656601],\n",
       "      [-71.676217, 71.656601],\n",
       "      [-71.676217, 70.025166],\n",
       "      [-68.626221, 70.025166]]]},\n",
       "   'bbox': [-71.676217, 70.025166, -68.626221, 71.656601],\n",
       "   'properties': {'format': 'pbf',\n",
       "    'created': '2021-10-14T11:47:20Z',\n",
       "    'updated': '2021-10-14T11:47:20Z',\n",
       "    'datetime': '2021-01-05T11:21:49Z',\n",
       "    'latitude': 71.356985,\n",
       "    'tile_url': 'https://coresight-layers.s3-us-west-2.amazonaws.com/floe-edge-polygons/2021-01-05T11:21:49.605Z--2021-01-06T11:12:44.208Z/{z}/{x}/{y}.pbf',\n",
       "    'longitude': -71.191406,\n",
       "    'geojson_url': 'https://coresight-layers.s3-us-west-2.amazonaws.com/floe-edge-polygons/2021-01-05T11:21:49.605Z--2021-01-06T11:12:44.208Z/2021-01-05T11:21:49.605Z--2021-01-06T11:12:44.208Z.geojson',\n",
       "    'datetime_end': '2021-01-06T11:12:44.208Z',\n",
       "    'default_zoom': ['10'],\n",
       "    'maximum_zoom': 10,\n",
       "    'metadata_url': 'https://coresight-layers.s3-us-west-2.amazonaws.com/floe-edge-polygons/2021-01-05T11:21:49.605Z--2021-01-06T11:12:44.208Z/metadata.json',\n",
       "    'minimum_zoom': 1,\n",
       "    'timestamp_end': 1609931564.208,\n",
       "    'datetime_start': '2021-01-05T11:21:49.605Z',\n",
       "    'timestamp_mean': 1609888636.9064999,\n",
       "    'timestamp_start': 1609845709.605,\n",
       "    'datetime_interval': '2021-01-05T11:21:49.605Z--2021-01-06T11:12:44.208Z'},\n",
       "   'links': [{'rel': 'self',\n",
       "     'type': 'application/geo+json',\n",
       "     'href': 'http://c-stac-api.c-core.app/collections/floe-edge-polygons/items/floe-edge-polygons-2021-01-05T11:21:49.605Z--2021-01-06T11:12:44.208Z'},\n",
       "    {'rel': 'parent',\n",
       "     'type': 'application/json',\n",
       "     'href': 'http://c-stac-api.c-core.app/collections/floe-edge-polygons'},\n",
       "    {'rel': 'collection',\n",
       "     'type': 'application/json',\n",
       "     'href': 'http://c-stac-api.c-core.app/collections/floe-edge-polygons'},\n",
       "    {'rel': 'root',\n",
       "     'type': 'application/json',\n",
       "     'href': 'http://c-stac-api.c-core.app/'},\n",
       "    {'rel': 'alternate',\n",
       "     'type': 'application/json',\n",
       "     'title': 'tiles',\n",
       "     'href': 'http://c-stac-api.c-core.app/collections/floe-edge-polygons/items/floe-edge-polygons-2021-01-05T11:21:49.605Z--2021-01-06T11:12:44.208Z/tiles'}],\n",
       "   'assets': {'geojson': {'href': 'https://coresight-layers.s3-us-west-2.amazonaws.com/floe-edge-polygons/2021-01-05T11:21:49.605Z--2021-01-06T11:12:44.208Z/2021-01-05T11:21:49.605Z--2021-01-06T11:12:44.208Z.geojson',\n",
       "     'type': 'application/geo+json',\n",
       "     'roles': ['vector-data'],\n",
       "     'title': 'GeoJSON',\n",
       "     'description': 'Vector data in GeoJSON format'},\n",
       "    'vector_tiles': {'href': 'https://coresight-layers.s3-us-west-2.amazonaws.com/floe-edge-polygons/2021-01-05T11:21:49.605Z--2021-01-06T11:12:44.208Z/{z}/{x}/{y}.pbf',\n",
       "     'type': 'application/vnd.mapbox-vector-tile',\n",
       "     'roles': ['vector-data', 'vector-tiles'],\n",
       "     'title': 'Mapbox Vector Tiles',\n",
       "     'description': 'Vector data in Mapbox Vector Tile format'},\n",
       "    'vector_tiles_metadata': {'href': 'https://coresight-layers.s3-us-west-2.amazonaws.com/floe-edge-polygons/2021-01-05T11:21:49.605Z--2021-01-06T11:12:44.208Z/metadata.json',\n",
       "     'type': 'application/json',\n",
       "     'roles': ['metadata'],\n",
       "     'title': 'Vector Tiles Metadata',\n",
       "     'description': 'Metadata related to vector tile creation'}}},\n",
       "  {'type': 'Feature',\n",
       "   'stac_version': '1.0.0',\n",
       "   'stac_extensions': [],\n",
       "   'id': 'floe-edge-polygons-2021-01-05T11:20:45.314Z--2021-01-06T11:11:39.919Z',\n",
       "   'collection': 'floe-edge-polygons',\n",
       "   'geometry': {'type': 'Polygon',\n",
       "    'coordinates': [[[-54.806479, 73.005032],\n",
       "      [-54.806479, 77.831684],\n",
       "      [-70.0, 77.831684],\n",
       "      [-70.0, 73.005032],\n",
       "      [-54.806479, 73.005032]]]},\n",
       "   'bbox': [-70.0, 73.005032, -54.806479, 77.831684],\n",
       "   'properties': {'format': 'pbf',\n",
       "    'created': '2021-10-14T11:47:19Z',\n",
       "    'updated': '2021-10-14T11:47:19Z',\n",
       "    'datetime': '2021-01-05T11:20:45Z',\n",
       "    'latitude': 76.226845,\n",
       "    'tile_url': 'https://coresight-layers.s3-us-west-2.amazonaws.com/floe-edge-polygons/2021-01-05T11:20:45.314Z--2021-01-06T11:11:39.919Z/{z}/{x}/{y}.pbf',\n",
       "    'longitude': -64.511719,\n",
       "    'geojson_url': 'https://coresight-layers.s3-us-west-2.amazonaws.com/floe-edge-polygons/2021-01-05T11:20:45.314Z--2021-01-06T11:11:39.919Z/2021-01-05T11:20:45.314Z--2021-01-06T11:11:39.919Z.geojson',\n",
       "    'datetime_end': '2021-01-06T11:11:39.919Z',\n",
       "    'default_zoom': ['10'],\n",
       "    'maximum_zoom': 10,\n",
       "    'metadata_url': 'https://coresight-layers.s3-us-west-2.amazonaws.com/floe-edge-polygons/2021-01-05T11:20:45.314Z--2021-01-06T11:11:39.919Z/metadata.json',\n",
       "    'minimum_zoom': 1,\n",
       "    'timestamp_end': 1609931499.919,\n",
       "    'datetime_start': '2021-01-05T11:20:45.314Z',\n",
       "    'timestamp_mean': 1609888572.6165,\n",
       "    'timestamp_start': 1609845645.314,\n",
       "    'datetime_interval': '2021-01-05T11:20:45.314Z--2021-01-06T11:11:39.919Z'},\n",
       "   'links': [{'rel': 'self',\n",
       "     'type': 'application/geo+json',\n",
       "     'href': 'http://c-stac-api.c-core.app/collections/floe-edge-polygons/items/floe-edge-polygons-2021-01-05T11:20:45.314Z--2021-01-06T11:11:39.919Z'},\n",
       "    {'rel': 'parent',\n",
       "     'type': 'application/json',\n",
       "     'href': 'http://c-stac-api.c-core.app/collections/floe-edge-polygons'},\n",
       "    {'rel': 'collection',\n",
       "     'type': 'application/json',\n",
       "     'href': 'http://c-stac-api.c-core.app/collections/floe-edge-polygons'},\n",
       "    {'rel': 'root',\n",
       "     'type': 'application/json',\n",
       "     'href': 'http://c-stac-api.c-core.app/'},\n",
       "    {'rel': 'alternate',\n",
       "     'type': 'application/json',\n",
       "     'title': 'tiles',\n",
       "     'href': 'http://c-stac-api.c-core.app/collections/floe-edge-polygons/items/floe-edge-polygons-2021-01-05T11:20:45.314Z--2021-01-06T11:11:39.919Z/tiles'}],\n",
       "   'assets': {'geojson': {'href': 'https://coresight-layers.s3-us-west-2.amazonaws.com/floe-edge-polygons/2021-01-05T11:20:45.314Z--2021-01-06T11:11:39.919Z/2021-01-05T11:20:45.314Z--2021-01-06T11:11:39.919Z.geojson',\n",
       "     'type': 'application/geo+json',\n",
       "     'roles': ['vector-data'],\n",
       "     'title': 'GeoJSON',\n",
       "     'description': 'Vector data in GeoJSON format'},\n",
       "    'vector_tiles': {'href': 'https://coresight-layers.s3-us-west-2.amazonaws.com/floe-edge-polygons/2021-01-05T11:20:45.314Z--2021-01-06T11:11:39.919Z/{z}/{x}/{y}.pbf',\n",
       "     'type': 'application/vnd.mapbox-vector-tile',\n",
       "     'roles': ['vector-data', 'vector-tiles'],\n",
       "     'title': 'Mapbox Vector Tiles',\n",
       "     'description': 'Vector data in Mapbox Vector Tile format'},\n",
       "    'vector_tiles_metadata': {'href': 'https://coresight-layers.s3-us-west-2.amazonaws.com/floe-edge-polygons/2021-01-05T11:20:45.314Z--2021-01-06T11:11:39.919Z/metadata.json',\n",
       "     'type': 'application/json',\n",
       "     'roles': ['metadata'],\n",
       "     'title': 'Vector Tiles Metadata',\n",
       "     'description': 'Metadata related to vector tile creation'}}}],\n",
       " 'links': [{'rel': 'next',\n",
       "   'type': 'application/geo+json',\n",
       "   'href': 'http://c-stac-api.c-core.app/collections/floe-edge-polygons/items?token=nCbdxeJb&limit=2',\n",
       "   'method': 'GET'},\n",
       "  {'rel': 'previous',\n",
       "   'type': 'application/geo+json',\n",
       "   'href': 'http://c-stac-api.c-core.app/collections/floe-edge-polygons/items?token=0fO0wwAK&limit=2',\n",
       "   'method': 'GET'}],\n",
       " 'context': None}"
      ]
     },
     "execution_count": 13,
     "metadata": {},
     "output_type": "execute_result"
    }
   ],
   "source": [
    "with httpx.Client(timeout = 20, follow_redirects=True) as client:\n",
    "    response = client.get(next_link[\"href\"])\n",
    "    \n",
    "response_body = response.json()\n",
    "response_body"
   ]
  },
  {
   "cell_type": "markdown",
   "metadata": {},
   "source": [
    "### Search items\n",
    "An example of searching by a datetime interval"
   ]
  },
  {
   "cell_type": "code",
   "execution_count": 22,
   "metadata": {},
   "outputs": [
    {
     "data": {
      "text/plain": [
       "[{'type': 'Feature',\n",
       "  'geometry': {'coordinates': [[[-68.275, 70.0312],\n",
       "     [-68.275, 71.119],\n",
       "     [-69.8524, 71.119],\n",
       "     [-69.8524, 70.0312],\n",
       "     [-68.275, 70.0312]]],\n",
       "   'type': 'Polygon'},\n",
       "  'properties': {'datetime': '2021-01-13T11:04:32+00:00'},\n",
       "  'id': 'floe-edge-polygons-2021-01-13T11:04:32.470Z--2021-01-14T11:45:50.209Z',\n",
       "  'bbox': [-69.8524, 70.0312, -68.275, 71.119],\n",
       "  'assets': {'geojson': {'title': 'GeoJSON',\n",
       "    'description': 'Vector data in GeoJSON format',\n",
       "    'start_datetime': None,\n",
       "    'end_datetime': None,\n",
       "    'created': None,\n",
       "    'updated': None,\n",
       "    'platform': None,\n",
       "    'instruments': None,\n",
       "    'constellation': None,\n",
       "    'mission': None,\n",
       "    'providers': None,\n",
       "    'gsd': None,\n",
       "    'href': 'https://coresight-layers.s3-us-west-2.amazonaws.com/floe-edge-polygons/2021-01-13T11:04:32.470Z--2021-01-14T11:45:50.209Z/2021-01-13T11:04:32.470Z--2021-01-14T11:45:50.209Z.geojson',\n",
       "    'type': 'application/geo+json',\n",
       "    'roles': ['vector-data']},\n",
       "   'vector_tiles': {'title': 'Mapbox Vector Tiles',\n",
       "    'description': 'Vector data in Mapbox Vector Tile format',\n",
       "    'start_datetime': None,\n",
       "    'end_datetime': None,\n",
       "    'created': None,\n",
       "    'updated': None,\n",
       "    'platform': None,\n",
       "    'instruments': None,\n",
       "    'constellation': None,\n",
       "    'mission': None,\n",
       "    'providers': None,\n",
       "    'gsd': None,\n",
       "    'href': 'https://coresight-layers.s3-us-west-2.amazonaws.com/floe-edge-polygons/2021-01-13T11:04:32.470Z--2021-01-14T11:45:50.209Z/{z}/{x}/{y}.pbf',\n",
       "    'type': 'application/vnd.mapbox-vector-tile',\n",
       "    'roles': ['vector-data', 'vector-tiles']},\n",
       "   'vector_tiles_metadata': {'title': 'Vector Tiles Metadata',\n",
       "    'description': 'Metadata related to vector tile creation',\n",
       "    'start_datetime': None,\n",
       "    'end_datetime': None,\n",
       "    'created': None,\n",
       "    'updated': None,\n",
       "    'platform': None,\n",
       "    'instruments': None,\n",
       "    'constellation': None,\n",
       "    'mission': None,\n",
       "    'providers': None,\n",
       "    'gsd': None,\n",
       "    'href': 'https://coresight-layers.s3-us-west-2.amazonaws.com/floe-edge-polygons/2021-01-13T11:04:32.470Z--2021-01-14T11:45:50.209Z/metadata.json',\n",
       "    'type': 'application/json',\n",
       "    'roles': ['metadata']}},\n",
       "  'links': [{'href': 'http://c-stac-api.c-core.app/collections/floe-edge-polygons/items/floe-edge-polygons-2021-01-13T11:04:32.470Z--2021-01-14T11:45:50.209Z',\n",
       "    'rel': 'self',\n",
       "    'type': 'application/geo+json',\n",
       "    'title': None,\n",
       "    'label': None},\n",
       "   {'href': 'http://c-stac-api.c-core.app/collections/floe-edge-polygons',\n",
       "    'rel': 'parent',\n",
       "    'type': 'application/json',\n",
       "    'title': None,\n",
       "    'label': None},\n",
       "   {'href': 'http://c-stac-api.c-core.app/collections/floe-edge-polygons',\n",
       "    'rel': 'collection',\n",
       "    'type': 'application/json',\n",
       "    'title': None,\n",
       "    'label': None},\n",
       "   {'href': 'http://c-stac-api.c-core.app/',\n",
       "    'rel': 'root',\n",
       "    'type': 'application/json',\n",
       "    'title': None,\n",
       "    'label': None},\n",
       "   {'href': 'http://c-stac-api.c-core.app/collections/floe-edge-polygons/items/floe-edge-polygons-2021-01-13T11:04:32.470Z--2021-01-14T11:45:50.209Z/tiles',\n",
       "    'rel': 'alternate',\n",
       "    'type': 'application/json',\n",
       "    'title': 'tiles',\n",
       "    'label': None}]},\n",
       " {'type': 'Feature',\n",
       "  'geometry': {'coordinates': [[[-69.257775, 76.931345],\n",
       "     [-69.257775, 79.955923],\n",
       "     [-78.0, 79.955923],\n",
       "     [-78.0, 76.931345],\n",
       "     [-69.257775, 76.931345]]],\n",
       "   'type': 'Polygon'},\n",
       "  'properties': {'datetime': '2021-01-12T21:46:48+00:00'},\n",
       "  'id': 'floe-edge-polygons-2021-01-12T21:46:48.169Z--2021-01-13T11:52:48.499Z',\n",
       "  'bbox': [-78.0, 76.931345, -69.257775, 79.955923],\n",
       "  'assets': {'geojson': {'title': 'GeoJSON',\n",
       "    'description': 'Vector data in GeoJSON format',\n",
       "    'start_datetime': None,\n",
       "    'end_datetime': None,\n",
       "    'created': None,\n",
       "    'updated': None,\n",
       "    'platform': None,\n",
       "    'instruments': None,\n",
       "    'constellation': None,\n",
       "    'mission': None,\n",
       "    'providers': None,\n",
       "    'gsd': None,\n",
       "    'href': 'https://coresight-layers.s3-us-west-2.amazonaws.com/floe-edge-polygons/2021-01-12T21:46:48.169Z--2021-01-13T11:52:48.499Z/2021-01-12T21:46:48.169Z--2021-01-13T11:52:48.499Z.geojson',\n",
       "    'type': 'application/geo+json',\n",
       "    'roles': ['vector-data']},\n",
       "   'vector_tiles': {'title': 'Mapbox Vector Tiles',\n",
       "    'description': 'Vector data in Mapbox Vector Tile format',\n",
       "    'start_datetime': None,\n",
       "    'end_datetime': None,\n",
       "    'created': None,\n",
       "    'updated': None,\n",
       "    'platform': None,\n",
       "    'instruments': None,\n",
       "    'constellation': None,\n",
       "    'mission': None,\n",
       "    'providers': None,\n",
       "    'gsd': None,\n",
       "    'href': 'https://coresight-layers.s3-us-west-2.amazonaws.com/floe-edge-polygons/2021-01-12T21:46:48.169Z--2021-01-13T11:52:48.499Z/{z}/{x}/{y}.pbf',\n",
       "    'type': 'application/vnd.mapbox-vector-tile',\n",
       "    'roles': ['vector-data', 'vector-tiles']},\n",
       "   'vector_tiles_metadata': {'title': 'Vector Tiles Metadata',\n",
       "    'description': 'Metadata related to vector tile creation',\n",
       "    'start_datetime': None,\n",
       "    'end_datetime': None,\n",
       "    'created': None,\n",
       "    'updated': None,\n",
       "    'platform': None,\n",
       "    'instruments': None,\n",
       "    'constellation': None,\n",
       "    'mission': None,\n",
       "    'providers': None,\n",
       "    'gsd': None,\n",
       "    'href': 'https://coresight-layers.s3-us-west-2.amazonaws.com/floe-edge-polygons/2021-01-12T21:46:48.169Z--2021-01-13T11:52:48.499Z/metadata.json',\n",
       "    'type': 'application/json',\n",
       "    'roles': ['metadata']}},\n",
       "  'links': [{'href': 'http://c-stac-api.c-core.app/collections/floe-edge-polygons/items/floe-edge-polygons-2021-01-12T21:46:48.169Z--2021-01-13T11:52:48.499Z',\n",
       "    'rel': 'self',\n",
       "    'type': 'application/geo+json',\n",
       "    'title': None,\n",
       "    'label': None},\n",
       "   {'href': 'http://c-stac-api.c-core.app/collections/floe-edge-polygons',\n",
       "    'rel': 'parent',\n",
       "    'type': 'application/json',\n",
       "    'title': None,\n",
       "    'label': None},\n",
       "   {'href': 'http://c-stac-api.c-core.app/collections/floe-edge-polygons',\n",
       "    'rel': 'collection',\n",
       "    'type': 'application/json',\n",
       "    'title': None,\n",
       "    'label': None},\n",
       "   {'href': 'http://c-stac-api.c-core.app/',\n",
       "    'rel': 'root',\n",
       "    'type': 'application/json',\n",
       "    'title': None,\n",
       "    'label': None},\n",
       "   {'href': 'http://c-stac-api.c-core.app/collections/floe-edge-polygons/items/floe-edge-polygons-2021-01-12T21:46:48.169Z--2021-01-13T11:52:48.499Z/tiles',\n",
       "    'rel': 'alternate',\n",
       "    'type': 'application/json',\n",
       "    'title': 'tiles',\n",
       "    'label': None}]}]"
      ]
     },
     "execution_count": 22,
     "metadata": {},
     "output_type": "execute_result"
    }
   ],
   "source": [
    "start_datetime = \"2021-01-01T00:00:00.00Z\"\n",
    "end_datetime = \"2021-01-14T00:00:00.00Z\"\n",
    "datetime_interval = f\"{start_datetime}/{end_datetime}\"\n",
    "\n",
    "search_url = f\"{api_url}/search?collections={collection_id}&datetime={datetime_interval}\"\n",
    "\n",
    "with httpx.Client(timeout = 20) as client:\n",
    "    response = client.get(search_url)\n",
    "    \n",
    "search_response_body = response.json()\n",
    "\n",
    "## For this example, only show last two\n",
    "search_response_features = search_response_body[\"features\"]\n",
    "search_response_features[-2:]"
   ]
  },
  {
   "cell_type": "markdown",
   "metadata": {},
   "source": [
    "## Get individual item by ID"
   ]
  },
  {
   "cell_type": "code",
   "execution_count": 15,
   "metadata": {},
   "outputs": [
    {
     "data": {
      "text/plain": [
       "{'type': 'Feature',\n",
       " 'stac_version': '1.0.0',\n",
       " 'stac_extensions': [],\n",
       " 'id': 'floe-edge-polygons-2021-01-05T11:21:49.605Z--2021-01-06T11:12:44.208Z',\n",
       " 'collection': 'floe-edge-polygons',\n",
       " 'geometry': {'type': 'Polygon',\n",
       "  'coordinates': [[[-68.626221, 70.025166],\n",
       "    [-68.626221, 71.656601],\n",
       "    [-71.676217, 71.656601],\n",
       "    [-71.676217, 70.025166],\n",
       "    [-68.626221, 70.025166]]]},\n",
       " 'bbox': [-71.676217, 70.025166, -68.626221, 71.656601],\n",
       " 'properties': {'format': 'pbf',\n",
       "  'created': '2021-10-14T11:47:20Z',\n",
       "  'updated': '2021-10-14T11:47:20Z',\n",
       "  'datetime': '2021-01-05T11:21:49Z',\n",
       "  'latitude': 71.356985,\n",
       "  'tile_url': 'https://coresight-layers.s3-us-west-2.amazonaws.com/floe-edge-polygons/2021-01-05T11:21:49.605Z--2021-01-06T11:12:44.208Z/{z}/{x}/{y}.pbf',\n",
       "  'longitude': -71.191406,\n",
       "  'geojson_url': 'https://coresight-layers.s3-us-west-2.amazonaws.com/floe-edge-polygons/2021-01-05T11:21:49.605Z--2021-01-06T11:12:44.208Z/2021-01-05T11:21:49.605Z--2021-01-06T11:12:44.208Z.geojson',\n",
       "  'datetime_end': '2021-01-06T11:12:44.208Z',\n",
       "  'default_zoom': ['10'],\n",
       "  'maximum_zoom': 10,\n",
       "  'metadata_url': 'https://coresight-layers.s3-us-west-2.amazonaws.com/floe-edge-polygons/2021-01-05T11:21:49.605Z--2021-01-06T11:12:44.208Z/metadata.json',\n",
       "  'minimum_zoom': 1,\n",
       "  'timestamp_end': 1609931564.208,\n",
       "  'datetime_start': '2021-01-05T11:21:49.605Z',\n",
       "  'timestamp_mean': 1609888636.9064999,\n",
       "  'timestamp_start': 1609845709.605,\n",
       "  'datetime_interval': '2021-01-05T11:21:49.605Z--2021-01-06T11:12:44.208Z'},\n",
       " 'links': [{'rel': 'self',\n",
       "   'type': 'application/geo+json',\n",
       "   'href': 'http://c-stac-api.c-core.app/collections/floe-edge-polygons/items/floe-edge-polygons-2021-01-05T11:21:49.605Z--2021-01-06T11:12:44.208Z'},\n",
       "  {'rel': 'parent',\n",
       "   'type': 'application/json',\n",
       "   'href': 'http://c-stac-api.c-core.app/collections/floe-edge-polygons'},\n",
       "  {'rel': 'collection',\n",
       "   'type': 'application/json',\n",
       "   'href': 'http://c-stac-api.c-core.app/collections/floe-edge-polygons'},\n",
       "  {'rel': 'root',\n",
       "   'type': 'application/json',\n",
       "   'href': 'http://c-stac-api.c-core.app/'},\n",
       "  {'rel': 'alternate',\n",
       "   'type': 'application/json',\n",
       "   'title': 'tiles',\n",
       "   'href': 'http://c-stac-api.c-core.app/collections/floe-edge-polygons/items/floe-edge-polygons-2021-01-05T11:21:49.605Z--2021-01-06T11:12:44.208Z/tiles'}],\n",
       " 'assets': {'geojson': {'href': 'https://coresight-layers.s3-us-west-2.amazonaws.com/floe-edge-polygons/2021-01-05T11:21:49.605Z--2021-01-06T11:12:44.208Z/2021-01-05T11:21:49.605Z--2021-01-06T11:12:44.208Z.geojson',\n",
       "   'type': 'application/geo+json',\n",
       "   'roles': ['vector-data'],\n",
       "   'title': 'GeoJSON',\n",
       "   'description': 'Vector data in GeoJSON format'},\n",
       "  'vector_tiles': {'href': 'https://coresight-layers.s3-us-west-2.amazonaws.com/floe-edge-polygons/2021-01-05T11:21:49.605Z--2021-01-06T11:12:44.208Z/{z}/{x}/{y}.pbf',\n",
       "   'type': 'application/vnd.mapbox-vector-tile',\n",
       "   'roles': ['vector-data', 'vector-tiles'],\n",
       "   'title': 'Mapbox Vector Tiles',\n",
       "   'description': 'Vector data in Mapbox Vector Tile format'},\n",
       "  'vector_tiles_metadata': {'href': 'https://coresight-layers.s3-us-west-2.amazonaws.com/floe-edge-polygons/2021-01-05T11:21:49.605Z--2021-01-06T11:12:44.208Z/metadata.json',\n",
       "   'type': 'application/json',\n",
       "   'roles': ['metadata'],\n",
       "   'title': 'Vector Tiles Metadata',\n",
       "   'description': 'Metadata related to vector tile creation'}}}"
      ]
     },
     "execution_count": 15,
     "metadata": {},
     "output_type": "execute_result"
    }
   ],
   "source": [
    "item_id = \"floe-edge-polygons-2021-01-05T11:21:49.605Z--2021-01-06T11:12:44.208Z\"\n",
    "\n",
    "get_item_url = f\"{api_url}/collections/{collection_id}/items/{item_id}\"\n",
    "\n",
    "with httpx.Client(timeout = 20) as client:\n",
    "    response = client.get(get_item_url)\n",
    "    \n",
    "item = response.json()\n",
    "item"
   ]
  },
  {
   "cell_type": "markdown",
   "metadata": {},
   "source": [
    "## Links\n",
    "Links provide URLs to related metadata. For example, the `self` link provides an URL for this STAC item."
   ]
  },
  {
   "cell_type": "code",
   "execution_count": 16,
   "metadata": {},
   "outputs": [
    {
     "data": {
      "text/plain": [
       "{'rel': 'self',\n",
       " 'type': 'application/geo+json',\n",
       " 'href': 'http://c-stac-api.c-core.app/collections/floe-edge-polygons/items/floe-edge-polygons-2021-01-05T11:21:49.605Z--2021-01-06T11:12:44.208Z'}"
      ]
     },
     "execution_count": 16,
     "metadata": {},
     "output_type": "execute_result"
    }
   ],
   "source": [
    "self_link = [link for link in item[\"links\"] if link[\"rel\"] == \"self\"][0]\n",
    "self_link"
   ]
  },
  {
   "cell_type": "markdown",
   "metadata": {},
   "source": [
    "### Read `self` link as a data frame\n",
    "We can use GeoPandas to directly read the metadata from the `self` link."
   ]
  },
  {
   "cell_type": "code",
   "execution_count": 17,
   "metadata": {},
   "outputs": [
    {
     "data": {
      "text/html": [
       "<div>\n",
       "<style scoped>\n",
       "    .dataframe tbody tr th:only-of-type {\n",
       "        vertical-align: middle;\n",
       "    }\n",
       "\n",
       "    .dataframe tbody tr th {\n",
       "        vertical-align: top;\n",
       "    }\n",
       "\n",
       "    .dataframe thead th {\n",
       "        text-align: right;\n",
       "    }\n",
       "</style>\n",
       "<table border=\"1\" class=\"dataframe\">\n",
       "  <thead>\n",
       "    <tr style=\"text-align: right;\">\n",
       "      <th></th>\n",
       "      <th>id</th>\n",
       "      <th>format</th>\n",
       "      <th>created</th>\n",
       "      <th>updated</th>\n",
       "      <th>datetime</th>\n",
       "      <th>latitude</th>\n",
       "      <th>tile_url</th>\n",
       "      <th>longitude</th>\n",
       "      <th>geojson_url</th>\n",
       "      <th>datetime_end</th>\n",
       "      <th>maximum_zoom</th>\n",
       "      <th>metadata_url</th>\n",
       "      <th>minimum_zoom</th>\n",
       "      <th>timestamp_end</th>\n",
       "      <th>datetime_start</th>\n",
       "      <th>timestamp_mean</th>\n",
       "      <th>timestamp_start</th>\n",
       "      <th>datetime_interval</th>\n",
       "      <th>geometry</th>\n",
       "    </tr>\n",
       "  </thead>\n",
       "  <tbody>\n",
       "    <tr>\n",
       "      <th>0</th>\n",
       "      <td>floe-edge-polygons-2021-01-05T11:21:49.605Z--2...</td>\n",
       "      <td>pbf</td>\n",
       "      <td>2021-10-14T11:47:20+00:00</td>\n",
       "      <td>2021-10-14T11:47:20+00:00</td>\n",
       "      <td>2021-01-05T11:21:49+00:00</td>\n",
       "      <td>71.356985</td>\n",
       "      <td>https://coresight-layers.s3-us-west-2.amazonaw...</td>\n",
       "      <td>-71.191406</td>\n",
       "      <td>https://coresight-layers.s3-us-west-2.amazonaw...</td>\n",
       "      <td>2021-01-06T11:12:44.208000+00:00</td>\n",
       "      <td>10</td>\n",
       "      <td>https://coresight-layers.s3-us-west-2.amazonaw...</td>\n",
       "      <td>1</td>\n",
       "      <td>1.609932e+09</td>\n",
       "      <td>2021-01-05T11:21:49.605000+00:00</td>\n",
       "      <td>1.609889e+09</td>\n",
       "      <td>1.609846e+09</td>\n",
       "      <td>2021-01-05T11:21:49.605000+00:00</td>\n",
       "      <td>POLYGON ((-68.62622 70.02517, -68.62622 71.656...</td>\n",
       "    </tr>\n",
       "  </tbody>\n",
       "</table>\n",
       "</div>"
      ],
      "text/plain": [
       "                                                  id format  \\\n",
       "0  floe-edge-polygons-2021-01-05T11:21:49.605Z--2...    pbf   \n",
       "\n",
       "                     created                    updated  \\\n",
       "0  2021-10-14T11:47:20+00:00  2021-10-14T11:47:20+00:00   \n",
       "\n",
       "                    datetime   latitude  \\\n",
       "0  2021-01-05T11:21:49+00:00  71.356985   \n",
       "\n",
       "                                            tile_url  longitude  \\\n",
       "0  https://coresight-layers.s3-us-west-2.amazonaw... -71.191406   \n",
       "\n",
       "                                         geojson_url  \\\n",
       "0  https://coresight-layers.s3-us-west-2.amazonaw...   \n",
       "\n",
       "                       datetime_end  maximum_zoom  \\\n",
       "0  2021-01-06T11:12:44.208000+00:00            10   \n",
       "\n",
       "                                        metadata_url  minimum_zoom  \\\n",
       "0  https://coresight-layers.s3-us-west-2.amazonaw...             1   \n",
       "\n",
       "   timestamp_end                    datetime_start  timestamp_mean  \\\n",
       "0   1.609932e+09  2021-01-05T11:21:49.605000+00:00    1.609889e+09   \n",
       "\n",
       "   timestamp_start                 datetime_interval  \\\n",
       "0     1.609846e+09  2021-01-05T11:21:49.605000+00:00   \n",
       "\n",
       "                                            geometry  \n",
       "0  POLYGON ((-68.62622 70.02517, -68.62622 71.656...  "
      ]
     },
     "execution_count": 17,
     "metadata": {},
     "output_type": "execute_result"
    }
   ],
   "source": [
    "import geopandas as gpd\n",
    "\n",
    "\n",
    "self_gdf = gpd.read_file(self_link[\"href\"])\n",
    "self_gdf"
   ]
  },
  {
   "cell_type": "code",
   "execution_count": 18,
   "metadata": {},
   "outputs": [
    {
     "data": {
      "text/plain": [
       "<AxesSubplot:>"
      ]
     },
     "execution_count": 18,
     "metadata": {},
     "output_type": "execute_result"
    },
    {
     "data": {
      "image/png": "[encoded data removed]",
      "text/plain": [
       "<Figure size 432x288 with 1 Axes>"
      ]
     },
     "metadata": {
      "needs_background": "light"
     },
     "output_type": "display_data"
    }
   ],
   "source": [
    "self_gdf.plot()"
   ]
  },
  {
   "cell_type": "markdown",
   "metadata": {},
   "source": [
    "Alternatively, we can read the item from memory."
   ]
  },
  {
   "cell_type": "code",
   "execution_count": 23,
   "metadata": {},
   "outputs": [
    {
     "data": {
      "text/html": [
       "<div>\n",
       "<style scoped>\n",
       "    .dataframe tbody tr th:only-of-type {\n",
       "        vertical-align: middle;\n",
       "    }\n",
       "\n",
       "    .dataframe tbody tr th {\n",
       "        vertical-align: top;\n",
       "    }\n",
       "\n",
       "    .dataframe thead th {\n",
       "        text-align: right;\n",
       "    }\n",
       "</style>\n",
       "<table border=\"1\" class=\"dataframe\">\n",
       "  <thead>\n",
       "    <tr style=\"text-align: right;\">\n",
       "      <th></th>\n",
       "      <th>id</th>\n",
       "      <th>format</th>\n",
       "      <th>created</th>\n",
       "      <th>updated</th>\n",
       "      <th>datetime</th>\n",
       "      <th>latitude</th>\n",
       "      <th>tile_url</th>\n",
       "      <th>longitude</th>\n",
       "      <th>geojson_url</th>\n",
       "      <th>datetime_end</th>\n",
       "      <th>maximum_zoom</th>\n",
       "      <th>metadata_url</th>\n",
       "      <th>minimum_zoom</th>\n",
       "      <th>timestamp_end</th>\n",
       "      <th>datetime_start</th>\n",
       "      <th>timestamp_mean</th>\n",
       "      <th>timestamp_start</th>\n",
       "      <th>datetime_interval</th>\n",
       "      <th>geometry</th>\n",
       "    </tr>\n",
       "  </thead>\n",
       "  <tbody>\n",
       "    <tr>\n",
       "      <th>0</th>\n",
       "      <td>floe-edge-polygons-2021-01-05T11:21:49.605Z--2...</td>\n",
       "      <td>pbf</td>\n",
       "      <td>2021-10-14T11:47:20+00:00</td>\n",
       "      <td>2021-10-14T11:47:20+00:00</td>\n",
       "      <td>2021-01-05T11:21:49+00:00</td>\n",
       "      <td>71.356985</td>\n",
       "      <td>https://coresight-layers.s3-us-west-2.amazonaw...</td>\n",
       "      <td>-71.191406</td>\n",
       "      <td>https://coresight-layers.s3-us-west-2.amazonaw...</td>\n",
       "      <td>2021-01-06T11:12:44.208000+00:00</td>\n",
       "      <td>10</td>\n",
       "      <td>https://coresight-layers.s3-us-west-2.amazonaw...</td>\n",
       "      <td>1</td>\n",
       "      <td>1.609932e+09</td>\n",
       "      <td>2021-01-05T11:21:49.605000+00:00</td>\n",
       "      <td>1.609889e+09</td>\n",
       "      <td>1.609846e+09</td>\n",
       "      <td>2021-01-05T11:21:49.605000+00:00</td>\n",
       "      <td>POLYGON ((-68.62622 70.02517, -68.62622 71.656...</td>\n",
       "    </tr>\n",
       "  </tbody>\n",
       "</table>\n",
       "</div>"
      ],
      "text/plain": [
       "                                                  id format  \\\n",
       "0  floe-edge-polygons-2021-01-05T11:21:49.605Z--2...    pbf   \n",
       "\n",
       "                     created                    updated  \\\n",
       "0  2021-10-14T11:47:20+00:00  2021-10-14T11:47:20+00:00   \n",
       "\n",
       "                    datetime   latitude  \\\n",
       "0  2021-01-05T11:21:49+00:00  71.356985   \n",
       "\n",
       "                                            tile_url  longitude  \\\n",
       "0  https://coresight-layers.s3-us-west-2.amazonaw... -71.191406   \n",
       "\n",
       "                                         geojson_url  \\\n",
       "0  https://coresight-layers.s3-us-west-2.amazonaw...   \n",
       "\n",
       "                       datetime_end  maximum_zoom  \\\n",
       "0  2021-01-06T11:12:44.208000+00:00            10   \n",
       "\n",
       "                                        metadata_url  minimum_zoom  \\\n",
       "0  https://coresight-layers.s3-us-west-2.amazonaw...             1   \n",
       "\n",
       "   timestamp_end                    datetime_start  timestamp_mean  \\\n",
       "0   1.609932e+09  2021-01-05T11:21:49.605000+00:00    1.609889e+09   \n",
       "\n",
       "   timestamp_start                 datetime_interval  \\\n",
       "0     1.609846e+09  2021-01-05T11:21:49.605000+00:00   \n",
       "\n",
       "                                            geometry  \n",
       "0  POLYGON ((-68.62622 70.02517, -68.62622 71.656...  "
      ]
     },
     "execution_count": 23,
     "metadata": {},
     "output_type": "execute_result"
    }
   ],
   "source": [
    "import json\n",
    "\n",
    "\n",
    "item_gdf = gpd.read_file(json.dumps(item))\n",
    "item_gdf"
   ]
  },
  {
   "cell_type": "markdown",
   "metadata": {},
   "source": [
    "We can even read the search results from memory into a data frame."
   ]
  },
  {
   "cell_type": "code",
   "execution_count": 24,
   "metadata": {},
   "outputs": [
    {
     "data": {
      "text/html": [
       "<div>\n",
       "<style scoped>\n",
       "    .dataframe tbody tr th:only-of-type {\n",
       "        vertical-align: middle;\n",
       "    }\n",
       "\n",
       "    .dataframe tbody tr th {\n",
       "        vertical-align: top;\n",
       "    }\n",
       "\n",
       "    .dataframe thead th {\n",
       "        text-align: right;\n",
       "    }\n",
       "</style>\n",
       "<table border=\"1\" class=\"dataframe\">\n",
       "  <thead>\n",
       "    <tr style=\"text-align: right;\">\n",
       "      <th></th>\n",
       "      <th>id</th>\n",
       "      <th>datetime</th>\n",
       "      <th>geometry</th>\n",
       "    </tr>\n",
       "  </thead>\n",
       "  <tbody>\n",
       "    <tr>\n",
       "      <th>0</th>\n",
       "      <td>floe-edge-polygons-2021-01-13T12:42:12.063Z--2...</td>\n",
       "      <td>2021-01-13T12:42:12+00:00</td>\n",
       "      <td>POLYGON ((-77.52528 74.43147, -77.52528 77.754...</td>\n",
       "    </tr>\n",
       "    <tr>\n",
       "      <th>1</th>\n",
       "      <td>floe-edge-polygons-2021-01-13T12:41:12.060Z--2...</td>\n",
       "      <td>2021-01-13T12:41:12+00:00</td>\n",
       "      <td>POLYGON ((-64.96277 77.00012, -64.96277 80.393...</td>\n",
       "    </tr>\n",
       "    <tr>\n",
       "      <th>2</th>\n",
       "      <td>floe-edge-polygons-2021-01-13T12:41:12.060Z--2...</td>\n",
       "      <td>2021-01-13T12:41:12+00:00</td>\n",
       "      <td>POLYGON ((-64.96170 76.57110, -64.96170 82.000...</td>\n",
       "    </tr>\n",
       "    <tr>\n",
       "      <th>3</th>\n",
       "      <td>floe-edge-polygons-2021-01-13T11:55:52.793Z--2...</td>\n",
       "      <td>2021-01-13T11:55:52+00:00</td>\n",
       "      <td>POLYGON ((-73.70876 66.35661, -73.70876 69.939...</td>\n",
       "    </tr>\n",
       "    <tr>\n",
       "      <th>4</th>\n",
       "      <td>floe-edge-polygons-2021-01-13T11:54:52.792Z--2...</td>\n",
       "      <td>2021-01-13T11:54:52+00:00</td>\n",
       "      <td>POLYGON ((-69.00026 68.99934, -69.00026 73.494...</td>\n",
       "    </tr>\n",
       "    <tr>\n",
       "      <th>5</th>\n",
       "      <td>floe-edge-polygons-2021-01-13T11:53:52.791Z--2...</td>\n",
       "      <td>2021-01-13T11:53:52+00:00</td>\n",
       "      <td>POLYGON ((-76.75625 73.32043, -76.75625 73.322...</td>\n",
       "    </tr>\n",
       "    <tr>\n",
       "      <th>6</th>\n",
       "      <td>floe-edge-polygons-2021-01-13T11:52:48.499Z--2...</td>\n",
       "      <td>2021-01-13T11:52:48+00:00</td>\n",
       "      <td>POLYGON ((-62.74445 76.96411, -62.74445 80.780...</td>\n",
       "    </tr>\n",
       "    <tr>\n",
       "      <th>7</th>\n",
       "      <td>floe-edge-polygons-2021-01-13T11:52:48.499Z--2...</td>\n",
       "      <td>2021-01-13T11:52:48+00:00</td>\n",
       "      <td>POLYGON ((-64.81838 76.21705, -64.81838 80.130...</td>\n",
       "    </tr>\n",
       "    <tr>\n",
       "      <th>8</th>\n",
       "      <td>floe-edge-polygons-2021-01-13T11:04:32.470Z--2...</td>\n",
       "      <td>2021-01-13T11:04:32+00:00</td>\n",
       "      <td>POLYGON ((-68.27500 70.03120, -68.27500 71.119...</td>\n",
       "    </tr>\n",
       "    <tr>\n",
       "      <th>9</th>\n",
       "      <td>floe-edge-polygons-2021-01-12T21:46:48.169Z--2...</td>\n",
       "      <td>2021-01-12T21:46:48+00:00</td>\n",
       "      <td>POLYGON ((-69.25777 76.93134, -69.25777 79.955...</td>\n",
       "    </tr>\n",
       "  </tbody>\n",
       "</table>\n",
       "</div>"
      ],
      "text/plain": [
       "                                                  id  \\\n",
       "0  floe-edge-polygons-2021-01-13T12:42:12.063Z--2...   \n",
       "1  floe-edge-polygons-2021-01-13T12:41:12.060Z--2...   \n",
       "2  floe-edge-polygons-2021-01-13T12:41:12.060Z--2...   \n",
       "3  floe-edge-polygons-2021-01-13T11:55:52.793Z--2...   \n",
       "4  floe-edge-polygons-2021-01-13T11:54:52.792Z--2...   \n",
       "5  floe-edge-polygons-2021-01-13T11:53:52.791Z--2...   \n",
       "6  floe-edge-polygons-2021-01-13T11:52:48.499Z--2...   \n",
       "7  floe-edge-polygons-2021-01-13T11:52:48.499Z--2...   \n",
       "8  floe-edge-polygons-2021-01-13T11:04:32.470Z--2...   \n",
       "9  floe-edge-polygons-2021-01-12T21:46:48.169Z--2...   \n",
       "\n",
       "                    datetime  \\\n",
       "0  2021-01-13T12:42:12+00:00   \n",
       "1  2021-01-13T12:41:12+00:00   \n",
       "2  2021-01-13T12:41:12+00:00   \n",
       "3  2021-01-13T11:55:52+00:00   \n",
       "4  2021-01-13T11:54:52+00:00   \n",
       "5  2021-01-13T11:53:52+00:00   \n",
       "6  2021-01-13T11:52:48+00:00   \n",
       "7  2021-01-13T11:52:48+00:00   \n",
       "8  2021-01-13T11:04:32+00:00   \n",
       "9  2021-01-12T21:46:48+00:00   \n",
       "\n",
       "                                            geometry  \n",
       "0  POLYGON ((-77.52528 74.43147, -77.52528 77.754...  \n",
       "1  POLYGON ((-64.96277 77.00012, -64.96277 80.393...  \n",
       "2  POLYGON ((-64.96170 76.57110, -64.96170 82.000...  \n",
       "3  POLYGON ((-73.70876 66.35661, -73.70876 69.939...  \n",
       "4  POLYGON ((-69.00026 68.99934, -69.00026 73.494...  \n",
       "5  POLYGON ((-76.75625 73.32043, -76.75625 73.322...  \n",
       "6  POLYGON ((-62.74445 76.96411, -62.74445 80.780...  \n",
       "7  POLYGON ((-64.81838 76.21705, -64.81838 80.130...  \n",
       "8  POLYGON ((-68.27500 70.03120, -68.27500 71.119...  \n",
       "9  POLYGON ((-69.25777 76.93134, -69.25777 79.955...  "
      ]
     },
     "execution_count": 24,
     "metadata": {},
     "output_type": "execute_result"
    }
   ],
   "source": [
    "response_features_gdf = gpd.read_file(json.dumps(search_response_body))\n",
    "response_features_gdf"
   ]
  },
  {
   "cell_type": "code",
   "execution_count": 25,
   "metadata": {},
   "outputs": [
    {
     "data": {
      "text/plain": [
       "<AxesSubplot:>"
      ]
     },
     "execution_count": 25,
     "metadata": {},
     "output_type": "execute_result"
    },
    {
     "data": {
      "image/png": "[encoded data removed]",
      "text/plain": [
       "<Figure size 432x288 with 1 Axes>"
      ]
     },
     "metadata": {
      "needs_background": "light"
     },
     "output_type": "display_data"
    }
   ],
   "source": [
    "response_features_gdf.plot()"
   ]
  },
  {
   "cell_type": "markdown",
   "metadata": {},
   "source": [
    "## Assets\n",
    "STAC items only contain metadata about the product. STAC items do not contain product data. STAC items do, however, have assets. Assets provide links to the product data."
   ]
  },
  {
   "cell_type": "markdown",
   "metadata": {},
   "source": [
    "The `ice-drift-feature-tracking` STAC items contain `geojson`, `vector_tiles`, and `vector_tiles_metadata` assets. The `geojson` asset allows a user to load the product data for further analysis or exploration. The `vector_tiles` asset provides prduct data in tiles optimized for display ina web browser."
   ]
  },
  {
   "cell_type": "code",
   "execution_count": 26,
   "metadata": {},
   "outputs": [
    {
     "data": {
      "text/plain": [
       "{'geojson': {'href': 'https://coresight-layers.s3-us-west-2.amazonaws.com/floe-edge-polygons/2021-01-05T11:21:49.605Z--2021-01-06T11:12:44.208Z/2021-01-05T11:21:49.605Z--2021-01-06T11:12:44.208Z.geojson',\n",
       "  'type': 'application/geo+json',\n",
       "  'roles': ['vector-data'],\n",
       "  'title': 'GeoJSON',\n",
       "  'description': 'Vector data in GeoJSON format'},\n",
       " 'vector_tiles': {'href': 'https://coresight-layers.s3-us-west-2.amazonaws.com/floe-edge-polygons/2021-01-05T11:21:49.605Z--2021-01-06T11:12:44.208Z/{z}/{x}/{y}.pbf',\n",
       "  'type': 'application/vnd.mapbox-vector-tile',\n",
       "  'roles': ['vector-data', 'vector-tiles'],\n",
       "  'title': 'Mapbox Vector Tiles',\n",
       "  'description': 'Vector data in Mapbox Vector Tile format'},\n",
       " 'vector_tiles_metadata': {'href': 'https://coresight-layers.s3-us-west-2.amazonaws.com/floe-edge-polygons/2021-01-05T11:21:49.605Z--2021-01-06T11:12:44.208Z/metadata.json',\n",
       "  'type': 'application/json',\n",
       "  'roles': ['metadata'],\n",
       "  'title': 'Vector Tiles Metadata',\n",
       "  'description': 'Metadata related to vector tile creation'}}"
      ]
     },
     "execution_count": 26,
     "metadata": {},
     "output_type": "execute_result"
    }
   ],
   "source": [
    "assets = item[\"assets\"]\n",
    "assets"
   ]
  },
  {
   "cell_type": "markdown",
   "metadata": {},
   "source": [
    "## GeoJSON\n",
    "Let's load the GeoJSON data as a data frame."
   ]
  },
  {
   "cell_type": "code",
   "execution_count": 27,
   "metadata": {},
   "outputs": [
    {
     "data": {
      "text/html": [
       "<div>\n",
       "<style scoped>\n",
       "    .dataframe tbody tr th:only-of-type {\n",
       "        vertical-align: middle;\n",
       "    }\n",
       "\n",
       "    .dataframe tbody tr th {\n",
       "        vertical-align: top;\n",
       "    }\n",
       "\n",
       "    .dataframe thead th {\n",
       "        text-align: right;\n",
       "    }\n",
       "</style>\n",
       "<table border=\"1\" class=\"dataframe\">\n",
       "  <thead>\n",
       "    <tr style=\"text-align: right;\">\n",
       "      <th></th>\n",
       "      <th>id</th>\n",
       "      <th>datetime_interval</th>\n",
       "      <th>geometry_type</th>\n",
       "      <th>ogc_fid</th>\n",
       "      <th>timedelta_seconds</th>\n",
       "      <th>timestamp1</th>\n",
       "      <th>timestamp2</th>\n",
       "      <th>geometry</th>\n",
       "    </tr>\n",
       "  </thead>\n",
       "  <tbody>\n",
       "    <tr>\n",
       "      <th>0</th>\n",
       "      <td>0</td>\n",
       "      <td>2021-01-05T11:21:49.605000+00:00</td>\n",
       "      <td>linestring</td>\n",
       "      <td>26292</td>\n",
       "      <td>85854</td>\n",
       "      <td>2021-01-05T11:21:49.605000+00:00</td>\n",
       "      <td>2021-01-06T11:12:44.208000+00:00</td>\n",
       "      <td>POLYGON ((-71.42578 71.08953, -71.42578 71.087...</td>\n",
       "    </tr>\n",
       "    <tr>\n",
       "      <th>1</th>\n",
       "      <td>1</td>\n",
       "      <td>2021-01-05T11:21:49.605000+00:00</td>\n",
       "      <td>linestring</td>\n",
       "      <td>26293</td>\n",
       "      <td>85854</td>\n",
       "      <td>2021-01-05T11:21:49.605000+00:00</td>\n",
       "      <td>2021-01-06T11:12:44.208000+00:00</td>\n",
       "      <td>POLYGON ((-71.37569 71.65660, -71.37569 71.593...</td>\n",
       "    </tr>\n",
       "    <tr>\n",
       "      <th>2</th>\n",
       "      <td>2</td>\n",
       "      <td>2021-01-05T11:21:49.605000+00:00</td>\n",
       "      <td>linestring</td>\n",
       "      <td>26294</td>\n",
       "      <td>85854</td>\n",
       "      <td>2021-01-05T11:21:49.605000+00:00</td>\n",
       "      <td>2021-01-06T11:12:44.208000+00:00</td>\n",
       "      <td>POLYGON ((-71.47944 70.09493, -71.47944 70.093...</td>\n",
       "    </tr>\n",
       "    <tr>\n",
       "      <th>3</th>\n",
       "      <td>3</td>\n",
       "      <td>2021-01-05T11:21:49.605000+00:00</td>\n",
       "      <td>linestring</td>\n",
       "      <td>26295</td>\n",
       "      <td>85854</td>\n",
       "      <td>2021-01-05T11:21:49.605000+00:00</td>\n",
       "      <td>2021-01-06T11:12:44.208000+00:00</td>\n",
       "      <td>POLYGON ((-71.47408 70.08241, -71.47408 70.069...</td>\n",
       "    </tr>\n",
       "    <tr>\n",
       "      <th>4</th>\n",
       "      <td>4</td>\n",
       "      <td>2021-01-05T11:21:49.605000+00:00</td>\n",
       "      <td>linestring</td>\n",
       "      <td>26296</td>\n",
       "      <td>85854</td>\n",
       "      <td>2021-01-05T11:21:49.605000+00:00</td>\n",
       "      <td>2021-01-06T11:12:44.208000+00:00</td>\n",
       "      <td>POLYGON ((-71.52774 70.05379, -71.52774 70.050...</td>\n",
       "    </tr>\n",
       "  </tbody>\n",
       "</table>\n",
       "</div>"
      ],
      "text/plain": [
       "  id                 datetime_interval geometry_type  ogc_fid  \\\n",
       "0  0  2021-01-05T11:21:49.605000+00:00    linestring    26292   \n",
       "1  1  2021-01-05T11:21:49.605000+00:00    linestring    26293   \n",
       "2  2  2021-01-05T11:21:49.605000+00:00    linestring    26294   \n",
       "3  3  2021-01-05T11:21:49.605000+00:00    linestring    26295   \n",
       "4  4  2021-01-05T11:21:49.605000+00:00    linestring    26296   \n",
       "\n",
       "   timedelta_seconds                        timestamp1  \\\n",
       "0              85854  2021-01-05T11:21:49.605000+00:00   \n",
       "1              85854  2021-01-05T11:21:49.605000+00:00   \n",
       "2              85854  2021-01-05T11:21:49.605000+00:00   \n",
       "3              85854  2021-01-05T11:21:49.605000+00:00   \n",
       "4              85854  2021-01-05T11:21:49.605000+00:00   \n",
       "\n",
       "                         timestamp2  \\\n",
       "0  2021-01-06T11:12:44.208000+00:00   \n",
       "1  2021-01-06T11:12:44.208000+00:00   \n",
       "2  2021-01-06T11:12:44.208000+00:00   \n",
       "3  2021-01-06T11:12:44.208000+00:00   \n",
       "4  2021-01-06T11:12:44.208000+00:00   \n",
       "\n",
       "                                            geometry  \n",
       "0  POLYGON ((-71.42578 71.08953, -71.42578 71.087...  \n",
       "1  POLYGON ((-71.37569 71.65660, -71.37569 71.593...  \n",
       "2  POLYGON ((-71.47944 70.09493, -71.47944 70.093...  \n",
       "3  POLYGON ((-71.47408 70.08241, -71.47408 70.069...  \n",
       "4  POLYGON ((-71.52774 70.05379, -71.52774 70.050...  "
      ]
     },
     "execution_count": 27,
     "metadata": {},
     "output_type": "execute_result"
    }
   ],
   "source": [
    "geojson_url = assets[\"geojson\"][\"href\"]\n",
    "geojson_gdf = gpd.read_file(geojson_url)\n",
    "geojson_gdf"
   ]
  },
  {
   "cell_type": "code",
   "execution_count": 28,
   "metadata": {},
   "outputs": [
    {
     "data": {
      "text/plain": [
       "<AxesSubplot:>"
      ]
     },
     "execution_count": 28,
     "metadata": {},
     "output_type": "execute_result"
    },
    {
     "data": {
      "image/png": "[encoded data removed]",
      "text/plain": [
       "<Figure size 432x288 with 1 Axes>"
      ]
     },
     "metadata": {
      "needs_background": "light"
     },
     "output_type": "display_data"
    }
   ],
   "source": [
    "geojson_gdf.plot()"
   ]
  },
  {
   "cell_type": "code",
   "execution_count": 25,
   "metadata": {},
   "outputs": [],
   "source": [
    "from ipyleaflet import Map, VectorTileLayer"
   ]
  },
  {
   "cell_type": "code",
   "execution_count": 26,
   "metadata": {},
   "outputs": [
    {
     "data": {
      "application/vnd.jupyter.widget-view+json": {
       "model_id": "549cc50c89a74428b87010694f6b6ad3",
       "version_major": 2,
       "version_minor": 0
      },
      "text/plain": [
       "Map(center=[-53.64069, 67.71005], controls=(ZoomControl(options=['position', 'zoom_in_text', 'zoom_in_title', …"
      ]
     },
     "metadata": {},
     "output_type": "display_data"
    }
   ],
   "source": [
    "m = Map(center=(-53.64069, 67.71005), zoom=6)\n",
    "vl = VectorTileLayer(url=vector_tiles_url)\n",
    "m.add_layer(vl)\n",
    "m"
   ]
  },
  {
   "cell_type": "code",
   "execution_count": null,
   "metadata": {},
   "outputs": [],
   "source": []
  }
 ],
 "metadata": {
  "kernelspec": {
   "display_name": "Python 3",
   "language": "python",
   "name": "python3"
  },
  "language_info": {
   "codemirror_mode": {
    "name": "ipython",
    "version": 3
   },
   "file_extension": ".py",
   "mimetype": "text/x-python",
   "name": "python",
   "nbconvert_exporter": "python",
   "pygments_lexer": "ipython3",
   "version": "3.9.6"
  }
 },
 "nbformat": 4,
 "nbformat_minor": 4
}
